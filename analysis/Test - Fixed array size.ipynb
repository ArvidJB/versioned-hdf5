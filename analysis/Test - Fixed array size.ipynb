{
 "cells": [
  {
   "cell_type": "markdown",
   "metadata": {},
   "source": [
    "# Fixed array size, variable number of versions"
   ]
  },
  {
   "cell_type": "markdown",
   "metadata": {},
   "source": [
    "For this test, we have generated `.h5` data files using the `generate_data.py` script from the repository, using the following options:\n",
    "\n",
    "- `test_large_fraction_changes_sparse`: \n",
    "    - `num_rows_initial = 5000`\n",
    "    - `num_rows_per_append = 10`\n",
    "    - `pct_inserts = 1`\n",
    "    - `num_inserts = 10`\n",
    "    - `pct_deletes = 1`\n",
    "    - `num_deletes = 10`\n",
    "    - `pct_changes = 90`\n",
    "    - `num_changes = 1000`\n",
    "- `test_small_fraction_changes_sparse`\n",
    "    - `num_rows_initial = 5000`\n",
    "    - `num_rows_per_append = 10`\n",
    "    - `pct_inserts = 1`\n",
    "    - `num_inserts = 10`\n",
    "    - `pct_deletes = 1`\n",
    "    - `num_deletes = 10`\n",
    "    - `pct_changes = 90`\n",
    "    - `num_changes = 10`\n",
    "- `test_mostly_appends_sparse`:\n",
    "    - `num_rows_initial = 1000`\n",
    "    - `num_rows_per_append = 1000`\n",
    "    - `pct_inserts = 5`\n",
    "    - `num_inserts = 10`\n",
    "    - `pct_deletes = 1`\n",
    "    - `num_deletes = 10`\n",
    "    - `pct_changes = 5`\n",
    "    - `num_changes = 10`  \n",
    "- `test_mostly_appends_dense`\n",
    "    - `num_rows_initial_0 = 30`\n",
    "    - `num_rows_initial_1 = 30`\n",
    "    - `num_rows_per_append_0 = 1`\n",
    "    - `pct_inserts = 5`\n",
    "    - `num_inserts_0 = 1`\n",
    "    - `num_inserts_1 = 10`\n",
    "    - `pct_deletes = 1`\n",
    "    - `num_deletes_0 = 1`\n",
    "    - `num_deletes_1 = 1`\n",
    "    - `pct_changes = 5`\n",
    "    - `num_changes = 10`"
   ]
  },
  {
   "cell_type": "markdown",
   "metadata": {},
   "source": [
    "## Setup"
   ]
  },
  {
   "cell_type": "markdown",
   "metadata": {},
   "source": [
    "The path to the generated test files is"
   ]
  },
  {
   "cell_type": "code",
   "execution_count": 2,
   "metadata": {},
   "outputs": [],
   "source": [
    "#path = \"/home/melissa/projects/versioned-hdf5/\" # change this as necessary\n",
    "path = \"/home/melissa/Dropbox/trabalho/Quansight/DE Shaw/tests/test_fixed_array_size/\""
   ]
  },
  {
   "cell_type": "code",
   "execution_count": 3,
   "metadata": {},
   "outputs": [],
   "source": [
    "%matplotlib widget\n",
    "import os\n",
    "import sys\n",
    "sys.path.append('..')\n",
    "import pickle\n",
    "import numpy as np\n",
    "import matplotlib.pyplot as plt\n",
    "import h5py\n",
    "from versioned_hdf5 import VersionedHDF5File"
   ]
  },
  {
   "cell_type": "code",
   "execution_count": 4,
   "metadata": {},
   "outputs": [],
   "source": [
    "# auxiliary code to format file sizes \n",
    "def format_size(size):\n",
    "    suffixes = ['B', 'KB', 'MB', 'GB']\n",
    "    i = 0\n",
    "    while size >= 1024 and i < len(suffixes)-1:\n",
    "        size = size/1024\n",
    "        i += 1\n",
    "    return f\"{size:.2f} {suffixes[i]}\""
   ]
  },
  {
   "cell_type": "markdown",
   "metadata": {},
   "source": [
    "# Test 1: Large fraction changes (sparse)"
   ]
  },
  {
   "cell_type": "code",
   "execution_count": 5,
   "metadata": {},
   "outputs": [],
   "source": [
    "testname = \"test_large_fraction_changes\""
   ]
  },
  {
   "cell_type": "markdown",
   "metadata": {},
   "source": [
    "We have tested the following numbers of versions (or transactions):"
   ]
  },
  {
   "cell_type": "code",
   "execution_count": 6,
   "metadata": {},
   "outputs": [],
   "source": [
    "num_transactions = [50, 100, 500, 1000, 2000, 5000, 10000, 20000]"
   ]
  },
  {
   "cell_type": "code",
   "execution_count": 7,
   "metadata": {},
   "outputs": [],
   "source": [
    "tests = []\n",
    "for t in num_transactions:\n",
    "    filename = os.path.join(path, testname+\"_\"+str(t)+\"_sparse.h5\")\n",
    "    h5pyfile = h5py.File(os.path.join(path, testname+\"_\"+str(t)+\"_sparse.h5\"), 'r')\n",
    "    data = VersionedHDF5File(h5pyfile)\n",
    "    tests.append(dict(num_transactions=t, filename=filename, h5pyfile=h5pyfile, data=data))"
   ]
  },
  {
   "cell_type": "markdown",
   "metadata": {},
   "source": [
    "## Number of versions v. File size"
   ]
  },
  {
   "cell_type": "markdown",
   "metadata": {},
   "source": [
    "We'll start by analyzing how the `.h5` file sizes grow as the number of versions grows. "
   ]
  },
  {
   "cell_type": "code",
   "execution_count": 8,
   "metadata": {},
   "outputs": [
    {
     "name": "stdout",
     "output_type": "stream",
     "text": [
      "File with 50 versions has size 6.74 MB\n",
      "File with 100 versions has size 11.93 MB\n",
      "File with 500 versions has size 65.26 MB\n",
      "File with 1000 versions has size 151.09 MB\n",
      "File with 2000 versions has size 376.74 MB\n",
      "File with 5000 versions has size 1.53 GB\n",
      "File with 10000 versions has size 5.00 GB\n",
      "File with 20000 versions has size 17.73 GB\n"
     ]
    }
   ],
   "source": [
    "for test in tests:\n",
    "    test['size'] = os.path.getsize(test['filename'])\n",
    "    test['size_label'] = format_size(test['size'])\n",
    "    print(f\"File with {test['num_transactions']} versions has size {test['size_label']}\")"
   ]
  },
  {
   "cell_type": "markdown",
   "metadata": {},
   "source": [
    "Note that the array size also grows as the number of versions grows:"
   ]
  },
  {
   "cell_type": "code",
   "execution_count": null,
   "metadata": {},
   "outputs": [],
   "source": [
    "print(\"Array sizes:\")\n",
    "for test in tests:\n",
    "    lengths = []\n",
    "    for vname in test['data']._versions:\n",
    "        if vname != '__first_version__':\n",
    "            version = test['data'][vname]\n",
    "            group_key = list(version.keys())[0]\n",
    "            lengths.append(len(version[group_key]['val']))\n",
    "    print(f\"File with {test['num_transactions']}: min = {min(lengths)}, max = {max(lengths)}\")"
   ]
  },
  {
   "cell_type": "markdown",
   "metadata": {},
   "source": [
    "```\n",
    "Array sizes:\n",
    "File with 50: min = 5000, max = 5567\n",
    "File with 100: min = 5000, max = 5952\n",
    "File with 500: min = 5000, max = 10263\n",
    "File with 1000: min = 5000, max = 15601\n",
    "File with 2000: min = 5000, max = 26057\n",
    "File with 5000: min = 5000, max = 57937\n",
    "File with 10000: min = 5000, max = 110305\n",
    "File with 20000: min = 5000, max = 215739\n",
    "```"
   ]
  },
  {
   "cell_type": "code",
   "execution_count": 9,
   "metadata": {},
   "outputs": [],
   "source": [
    "test_large_fraction_changes_sparse = []\n",
    "for test in tests:\n",
    "    test_large_fraction_changes_sparse.append(dict((k, test[k]) for k in ['num_transactions', 'filename', 'size', 'size_label']))"
   ]
  },
  {
   "cell_type": "markdown",
   "metadata": {},
   "source": [
    "Just for the sake of reproducibility, we'll pickle the filesizes for these tests so we can recover them later:"
   ]
  },
  {
   "cell_type": "code",
   "execution_count": 9,
   "metadata": {},
   "outputs": [],
   "source": [
    "with open(\"test_large_fraction_changes_sparse_versions.pickle\",\"wb\") as pickle_out:\n",
    "    pickle.dump(test_large_fraction_changes_sparse, pickle_out)"
   ]
  },
  {
   "cell_type": "code",
   "execution_count": 10,
   "metadata": {},
   "outputs": [],
   "source": [
    "with open(\"test_large_fraction_changes_sparse_versions.pickle\", \"rb\") as pickle_in:\n",
    "    test_large_fraction_changes_sparse = pickle.load(pickle_in)"
   ]
  },
  {
   "cell_type": "markdown",
   "metadata": {},
   "source": [
    "Let's show the size information in a graph:"
   ]
  },
  {
   "cell_type": "code",
   "execution_count": 10,
   "metadata": {},
   "outputs": [],
   "source": [
    "filesizes = np.array([test['size'] for test in test_large_fraction_changes_sparse])\n",
    "sizelabels = np.array([test['size_label'] for test in test_large_fraction_changes_sparse])"
   ]
  },
  {
   "cell_type": "code",
   "execution_count": 11,
   "metadata": {},
   "outputs": [
    {
     "data": {
      "application/vnd.jupyter.widget-view+json": {
       "model_id": "39ac184c6cbd426bb3702248c2a53b00",
       "version_major": 2,
       "version_minor": 0
      },
      "text/plain": [
       "Canvas(toolbar=Toolbar(toolitems=[('Home', 'Reset original view', 'home', 'home'), ('Back', 'Back to previous …"
      ]
     },
     "metadata": {},
     "output_type": "display_data"
    }
   ],
   "source": [
    "fig_large_fraction_changes = plt.figure()\n",
    "plt.plot(num_transactions, filesizes, 'b')\n",
    "plt.plot(num_transactions, filesizes, 'b*', ms=12)\n",
    "plt.xticks([50, 5000, 10000, 20000])\n",
    "plt.xlabel(\"Transactions\")\n",
    "plt.title(\"Number of transactions vs. File Size\")\n",
    "num_transactions = np.array(num_transactions)\n",
    "plt.yticks(filesizes[[0, 5, 6, 7]], sizelabels[[0, 5, 6, 7]])\n",
    "plt.show()"
   ]
  },
  {
   "cell_type": "code",
   "execution_count": null,
   "metadata": {},
   "outputs": [],
   "source": [
    "img = plt.imread('test_large_fraction_changes_sparse_versions.png')\n",
    "plt.imshow(img)\n",
    "plt.show()"
   ]
  },
  {
   "cell_type": "markdown",
   "metadata": {},
   "source": [
    "This shows that the file size grows **quadratically** with respect to the number of versions added for this array size."
   ]
  },
  {
   "cell_type": "markdown",
   "metadata": {},
   "source": [
    "### Finishing up"
   ]
  },
  {
   "cell_type": "code",
   "execution_count": 12,
   "metadata": {},
   "outputs": [],
   "source": [
    "for test in tests:\n",
    "    test['h5pyfile'].close()"
   ]
  },
  {
   "cell_type": "markdown",
   "metadata": {},
   "source": [
    "# Test 2: Mostly appends (sparse)"
   ]
  },
  {
   "cell_type": "code",
   "execution_count": 13,
   "metadata": {},
   "outputs": [],
   "source": [
    "testname = \"test_mostly_appends\""
   ]
  },
  {
   "cell_type": "markdown",
   "metadata": {},
   "source": [
    "For this case, we are using the following number of transactions:"
   ]
  },
  {
   "cell_type": "code",
   "execution_count": 14,
   "metadata": {},
   "outputs": [],
   "source": [
    "num_transactions = [50, 100, 500, 1000, 2000, 5000, 10000]"
   ]
  },
  {
   "cell_type": "code",
   "execution_count": 15,
   "metadata": {},
   "outputs": [
    {
     "name": "stdout",
     "output_type": "stream",
     "text": [
      "File with 50 versions has size 9.44 MB\n",
      "File with 100 versions has size 23.40 MB\n",
      "File with 500 versions has size 305.71 MB\n",
      "File with 1000 versions has size 944.95 MB\n",
      "File with 2000 versions has size 3.49 GB\n",
      "File with 5000 versions has size 19.64 GB\n",
      "File with 10000 versions has size 75.06 GB\n"
     ]
    }
   ],
   "source": [
    "# Setting up dictionary with test info\n",
    "tests = []\n",
    "for t in num_transactions:\n",
    "    filename = os.path.join(path, testname+\"_\"+str(t)+\"_sparse.h5\")\n",
    "    h5pyfile = h5py.File(os.path.join(path, testname+\"_\"+str(t)+\"_sparse.h5\"), 'r')\n",
    "    data = VersionedHDF5File(h5pyfile)\n",
    "    tests.append(dict(num_transactions=t, filename=filename, h5pyfile=h5pyfile, data=data))\n",
    "    \n",
    "# Computing file sizes\n",
    "for test in tests:\n",
    "    test['size'] = os.path.getsize(test['filename'])\n",
    "    test['size_label'] = format_size(test['size'])\n",
    "    print(f\"File with {test['num_transactions']} versions has size {test['size_label']}\")"
   ]
  },
  {
   "cell_type": "code",
   "execution_count": 16,
   "metadata": {},
   "outputs": [
    {
     "name": "stdout",
     "output_type": "stream",
     "text": [
      "Array sizes:\n",
      "File with 50: min = 1000, max = 50933\n",
      "File with 100: min = 1000, max = 100857\n",
      "File with 500: min = 1000, max = 500951\n",
      "File with 1000: min = 1000, max = 1000660\n",
      "File with 2000: min = 1000, max = 2000840\n",
      "File with 5000: min = 1000, max = 5001604\n",
      "File with 10000: min = 1000, max = 10000126\n"
     ]
    }
   ],
   "source": [
    "print(\"Array sizes:\")\n",
    "for test in tests:\n",
    "    lengths = []\n",
    "    for vname in test['data']._versions:\n",
    "        if vname != '__first_version__':\n",
    "            version = test['data'][vname]\n",
    "            group_key = list(version.keys())[0]\n",
    "            lengths.append(len(version[group_key]['val']))\n",
    "    print(f\"File with {test['num_transactions']}: min = {min(lengths)}, max = {max(lengths)}\")"
   ]
  },
  {
   "cell_type": "markdown",
   "metadata": {},
   "source": [
    "```\n",
    "Array sizes:\n",
    "File with 50: min = 1000, max = 50933\n",
    "File with 100: min = 1000, max = 100857\n",
    "File with 500: min = 1000, max = 500951\n",
    "File with 1000: min = 1000, max = 1000660\n",
    "File with 2000: min = 1000, max = 2000840\n",
    "File with 5000: min = 1000, max = 5001604\n",
    "File with 10000: min = 1000, max = 10000126\n",
    "```"
   ]
  },
  {
   "cell_type": "code",
   "execution_count": 17,
   "metadata": {},
   "outputs": [],
   "source": [
    "test_mostly_appends_sparse = []\n",
    "for test in tests:\n",
    "    test_mostly_appends_sparse.append(dict((k, test[k]) for k in ['num_transactions', 'filename', 'size', 'size_label']))"
   ]
  },
  {
   "cell_type": "code",
   "execution_count": 18,
   "metadata": {},
   "outputs": [],
   "source": [
    "with open(\"test_mostly_appends_sparse_versions.pickle\",\"wb\") as pickle_out:\n",
    "    pickle.dump(test_mostly_appends_sparse, pickle_out)"
   ]
  },
  {
   "cell_type": "code",
   "execution_count": 19,
   "metadata": {},
   "outputs": [],
   "source": [
    "with open(\"test_mostly_appends_sparse_versions.pickle\", \"rb\") as pickle_in:\n",
    "    test_mostly_appends_sparse = pickle.load(pickle_in)"
   ]
  },
  {
   "cell_type": "code",
   "execution_count": 20,
   "metadata": {},
   "outputs": [],
   "source": [
    "filesizes = np.array([test['size'] for test in test_mostly_appends_sparse])\n",
    "sizelabels = np.array([test['size_label'] for test in test_mostly_appends_sparse])"
   ]
  },
  {
   "cell_type": "code",
   "execution_count": 24,
   "metadata": {},
   "outputs": [
    {
     "data": {
      "application/vnd.jupyter.widget-view+json": {
       "model_id": "5adf33c200bf42fdb5612fafdefc0dd4",
       "version_major": 2,
       "version_minor": 0
      },
      "text/plain": [
       "Canvas(toolbar=Toolbar(toolitems=[('Home', 'Reset original view', 'home', 'home'), ('Back', 'Back to previous …"
      ]
     },
     "metadata": {},
     "output_type": "display_data"
    }
   ],
   "source": [
    "fig_mostly_appends = plt.figure()\n",
    "plt.plot(num_transactions, filesizes, 'b')\n",
    "plt.plot(num_transactions, filesizes, 'b*', ms=12)\n",
    "plt.xticks([50, 5000, 10000])\n",
    "plt.xlabel(\"Transactions\")\n",
    "plt.title(\"Number of transactions vs. File Size\")\n",
    "num_transactions = np.array(num_transactions)\n",
    "plt.yticks(filesizes[[0, 4, 5, 6]], sizelabels[[0, 4, 5, 6]])\n",
    "plt.show()"
   ]
  },
  {
   "cell_type": "code",
   "execution_count": 25,
   "metadata": {},
   "outputs": [],
   "source": [
    "img = plt.imread('test_mostly_appends_sparse_versions.png')\n",
    "plt.imshow(img)\n",
    "plt.show()"
   ]
  },
  {
   "cell_type": "code",
   "execution_count": 28,
   "metadata": {},
   "outputs": [],
   "source": [
    "for test in tests:\n",
    "    test['h5pyfile'].close()"
   ]
  },
  {
   "cell_type": "code",
   "execution_count": null,
   "metadata": {},
   "outputs": [],
   "source": []
  }
 ],
 "metadata": {
  "kernelspec": {
   "display_name": "Python 3",
   "language": "python",
   "name": "python3"
  },
  "language_info": {
   "codemirror_mode": {
    "name": "ipython",
    "version": 3
   },
   "file_extension": ".py",
   "mimetype": "text/x-python",
   "name": "python",
   "nbconvert_exporter": "python",
   "pygments_lexer": "ipython3",
   "version": "3.7.6"
  }
 },
 "nbformat": 4,
 "nbformat_minor": 4
}
