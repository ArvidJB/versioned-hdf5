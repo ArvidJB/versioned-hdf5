{
 "cells": [
  {
   "cell_type": "markdown",
   "metadata": {},
   "source": [
    "# Fixed array size, variable number of versions"
   ]
  },
  {
   "cell_type": "markdown",
   "metadata": {},
   "source": [
    "For this test, we have generated `.h5` data files using the `generate_data.py` script from the repository, using the following options:\n",
    "\n",
    "- `test_large_fraction_changes_sparse`: \n",
    "    - `num_rows_initial = 5000`\n",
    "    - `num_rows_per_append = 10`\n",
    "    - `pct_inserts = 1`\n",
    "    - `num_inserts = 10`\n",
    "    - `pct_deletes = 1`\n",
    "    - `num_deletes = 10`\n",
    "    - `pct_changes = 90`\n",
    "    - `num_changes = 1000`\n",
    "\n",
    "We have tested the following numbers of versions (or transactions):"
   ]
  },
  {
   "cell_type": "code",
   "execution_count": 1,
   "metadata": {},
   "outputs": [],
   "source": [
    "num_transactions = [30, 60, 120, 250, 360, 730, 1825, 2500, 3650, 7300, 9125, 14600, 18250, 21900, 25000, 27375, 29200, 36500]"
   ]
  },
  {
   "cell_type": "markdown",
   "metadata": {},
   "source": [
    "The path to the generated test files is"
   ]
  },
  {
   "cell_type": "code",
   "execution_count": 2,
   "metadata": {},
   "outputs": [],
   "source": [
    "path = \"/home/melissa/projects/versioned-hdf5/\" # change this as necessary"
   ]
  },
  {
   "cell_type": "markdown",
   "metadata": {},
   "source": [
    "## Setup"
   ]
  },
  {
   "cell_type": "code",
   "execution_count": 3,
   "metadata": {},
   "outputs": [],
   "source": [
    "%matplotlib widget\n",
    "import os\n",
    "import numpy as np\n",
    "import matplotlib.pyplot as plt\n",
    "import h5py\n",
    "from versioned_hdf5 import VersionedHDF5File"
   ]
  },
  {
   "cell_type": "code",
   "execution_count": 4,
   "metadata": {},
   "outputs": [],
   "source": [
    "testname = \"test_large_fraction_changes\"\n",
    "tests = []\n",
    "for t in num_transactions:\n",
    "    filename = os.path.join(path, testname+\"_\"+str(t)+\"_sparse.h5\")\n",
    "    h5pyfile = h5py.File(os.path.join(path, \"test_large_fraction_changes_\"+str(t)+\"_sparse.h5\"), 'r')\n",
    "    data = VersionedHDF5File(h5pyfile)\n",
    "    tests.append(dict(time=t, filename=filename, h5pyfile=h5pyfile, data=data))"
   ]
  },
  {
   "cell_type": "markdown",
   "metadata": {},
   "source": [
    "## Number of versions v. File size"
   ]
  },
  {
   "cell_type": "markdown",
   "metadata": {},
   "source": [
    "We'll start by analyzing how the `.h5` file sizes grow as the number of versions grows. "
   ]
  },
  {
   "cell_type": "code",
   "execution_count": 5,
   "metadata": {},
   "outputs": [
    {
     "name": "stdout",
     "output_type": "stream",
     "text": [
      "File with 30 versions has size 4.31 MB\n",
      "File with 60 versions has size 7.75 MB\n",
      "File with 120 versions has size 14.54 MB\n",
      "File with 250 versions has size 29.76 MB\n",
      "File with 360 versions has size 45.06 MB\n",
      "File with 730 versions has size 102.37 MB\n",
      "File with 1825 versions has size 333.88 MB\n",
      "File with 2500 versions has size 529.18 MB\n",
      "File with 3650 versions has size 939.11 MB\n",
      "File with 7300 versions has size 2.91 GB\n",
      "File with 9125 versions has size 4.29 GB\n",
      "File with 14600 versions has size 9.88 GB\n",
      "File with 18250 versions has size 14.94 GB\n",
      "File with 21900 versions has size 20.97 GB\n",
      "File with 25000 versions has size 26.87 GB\n",
      "File with 27375 versions has size 31.94 GB\n",
      "File with 29200 versions has size 36.00 GB\n",
      "File with 36500 versions has size 55.70 GB\n"
     ]
    }
   ],
   "source": [
    "filesizes = []\n",
    "sizelabels = []\n",
    "suffixes = ['B', 'KB', 'MB', 'GB']\n",
    "for test in tests:\n",
    "    size = os.path.getsize(test['filename'])\n",
    "    filesizes.append(size)\n",
    "    i = 0\n",
    "    while size >= 1024 and i < len(suffixes)-1:\n",
    "        size = size/1024\n",
    "        i += 1\n",
    "    sizelabels.append(f\"{size:.2f} {suffixes[i]}\")\n",
    "    print(f\"File with {test['time']} versions has size {sizelabels[-1]}\")\n",
    "filesizes = np.array(filesizes)\n",
    "sizelabels = np.array(sizelabels)"
   ]
  },
  {
   "cell_type": "code",
   "execution_count": 6,
   "metadata": {},
   "outputs": [
    {
     "data": {
      "application/vnd.jupyter.widget-view+json": {
       "model_id": "c58d1750688a4dd9961a1b6c410f1b5e",
       "version_major": 2,
       "version_minor": 0
      },
      "text/plain": [
       "Canvas(toolbar=Toolbar(toolitems=[('Home', 'Reset original view', 'home', 'home'), ('Back', 'Back to previous …"
      ]
     },
     "metadata": {},
     "output_type": "display_data"
    }
   ],
   "source": [
    "#fig = plt.figure(figsize=(12, 8), dpi= 80)\n",
    "plt.plot(num_transactions, filesizes, 'b')\n",
    "plt.plot(num_transactions, filesizes, 'b*', ms=12)\n",
    "plt.xticks([30, 9125, 18250, 27375, 36500])\n",
    "plt.xlabel(\"Transactions\")\n",
    "plt.title(\"Number of transactions vs. File Size\")\n",
    "indices = [0, 10, 12, 15, 17]\n",
    "num_transactions = np.array(num_transactions)\n",
    "plt.yticks(filesizes[indices], sizelabels[indices])\n",
    "plt.show()"
   ]
  },
  {
   "cell_type": "markdown",
   "metadata": {},
   "source": [
    "This shows that the file size grows **quadratically** with respect to the number of versions added for this array size."
   ]
  },
  {
   "cell_type": "markdown",
   "metadata": {},
   "source": [
    "### Finishing up"
   ]
  },
  {
   "cell_type": "code",
   "execution_count": 7,
   "metadata": {},
   "outputs": [],
   "source": [
    "for test in tests:\n",
    "    test['h5pyfile'].close()"
   ]
  }
 ],
 "metadata": {
  "kernelspec": {
   "display_name": "Python 3",
   "language": "python",
   "name": "python3"
  },
  "language_info": {
   "codemirror_mode": {
    "name": "ipython",
    "version": 3
   },
   "file_extension": ".py",
   "mimetype": "text/x-python",
   "name": "python",
   "nbconvert_exporter": "python",
   "pygments_lexer": "ipython3",
   "version": "3.7.6"
  }
 },
 "nbformat": 4,
 "nbformat_minor": 4
}
