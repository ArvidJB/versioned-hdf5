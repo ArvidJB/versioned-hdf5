{
 "cells": [
  {
   "cell_type": "markdown",
   "metadata": {},
   "source": [
    "<a id='home'></a>\n",
    "\n",
    "# Growth of File Sizes for Versioned-HDF5 Files "
   ]
  },
  {
   "cell_type": "markdown",
   "metadata": {},
   "source": [
    "For these tests, we have generated `.h5` data files using the `generate_data_deterministic.py` script from the [VersionedHDF5 repository](https://github.com/Quansight/versioned-hdf5), using the standard options ([see details here](#standard))\n",
    "\n",
    "We performed the following tests:\n",
    "1. [Test Large Fraction Changes Sparse](#test1)\n",
    "2. [Test Mostly Appends Sparse](#test2)\n",
    "3. [Test Small Fraction Changes Sparse](#test3)\n",
    "4. [Test Mostly Appends Dense](#test4)\n",
    "\n",
    "**These tests were last run on**"
   ]
  },
  {
   "cell_type": "code",
   "execution_count": null,
   "metadata": {},
   "outputs": [],
   "source": [
    "from datetime import datetime\n",
    "print(datetime.utcnow(), \"UTC\")"
   ]
  },
  {
   "cell_type": "markdown",
   "metadata": {},
   "source": [
    "## Setup"
   ]
  },
  {
   "cell_type": "markdown",
   "metadata": {},
   "source": [
    "The path to the generated test files is"
   ]
  },
  {
   "cell_type": "code",
   "execution_count": null,
   "metadata": {},
   "outputs": [],
   "source": [
    "path = \"/home/melissa/projects/versioned-hdf5/analysis\" # change this as necessary"
   ]
  },
  {
   "cell_type": "code",
   "execution_count": null,
   "metadata": {},
   "outputs": [],
   "source": [
    "%matplotlib inline\n",
    "import h5py\n",
    "import json\n",
    "import numpy as np\n",
    "import performance_tests\n",
    "import matplotlib.pyplot as plt"
   ]
  },
  {
   "cell_type": "markdown",
   "metadata": {},
   "source": [
    "The information from the generated test files are stored in either\n",
    "- `testcase.tests`, a dictionary containing all the info related to a testcase that was run recently;\n",
    "- a `.json` file named after the test name and options, containing a summary of the results. This file can be read with\n",
    "    ```python\n",
    "    with open(f\"{testname}.json\", \"r\") as json_in:\n",
    "        test = json.load(json_in)\n",
    "    ```"
   ]
  },
  {
   "cell_type": "markdown",
   "metadata": {},
   "source": [
    "<a id='test1'></a>\n",
    "\n",
    "# Test 1: Large fraction changes (sparse)"
   ]
  },
  {
   "cell_type": "code",
   "execution_count": null,
   "metadata": {},
   "outputs": [],
   "source": [
    "testname = \"test_large_fraction_changes_sparse\""
   ]
  },
  {
   "cell_type": "markdown",
   "metadata": {},
   "source": [
    "We have tested the following numbers of versions (or transactions):"
   ]
  },
  {
   "cell_type": "markdown",
   "metadata": {},
   "source": [
    "```python\n",
    "num_transactions_1 = [50, 100, 500, 1000, 5000, 10000]\n",
    "```"
   ]
  },
  {
   "cell_type": "markdown",
   "metadata": {},
   "source": [
    "If you want to generate the files now, modify the following constants for the desired tests. **Please keep in mind that file sizes can become very large for large numbers of transactions (above 5000 transactions).**"
   ]
  },
  {
   "cell_type": "code",
   "execution_count": null,
   "metadata": {},
   "outputs": [],
   "source": [
    "num_transactions_1 = [25, 50]"
   ]
  },
  {
   "cell_type": "markdown",
   "metadata": {},
   "source": [
    "For the chunk size parameter, we have tested chunk sizes of $2^8, 2^{10}, 2^{12}$ and $2^{14}$."
   ]
  },
  {
   "cell_type": "code",
   "execution_count": null,
   "metadata": {},
   "outputs": [],
   "source": [
    "exponents_1 = [12, 14]"
   ]
  },
  {
   "cell_type": "markdown",
   "metadata": {},
   "source": [
    "Choose desired compression algorithm."
   ]
  },
  {
   "cell_type": "code",
   "execution_count": null,
   "metadata": {},
   "outputs": [],
   "source": [
    "compression_1 = [None, \"gzip\", \"lzf\"]"
   ]
  },
  {
   "cell_type": "code",
   "execution_count": null,
   "metadata": {},
   "outputs": [],
   "source": [
    "testcase = performance_tests.test_large_fraction_changes_sparse(path=path,\n",
    "                                                                  num_transactions=num_transactions_1, \n",
    "                                                                  exponents=exponents_1, \n",
    "                                                                  compression=compression_1)\n",
    "testcase_1 = testcase.create_files()\n",
    "testcase.save(testcase_1)\n",
    "t_sizes_1 = [test['theoretical_sizes'] for test in testcase.tests[-len(num_transactions_1):]]"
   ]
  },
  {
   "cell_type": "markdown",
   "metadata": {},
   "source": [
    "Otherwise, we can read an existing `.json` file with"
   ]
  },
  {
   "cell_type": "code",
   "execution_count": null,
   "metadata": {},
   "outputs": [],
   "source": [
    "with open(f\"{testname}.json\", \"r\") as json_in:\n",
    "    testcase_1 = json.load(json_in)\n",
    "\n",
    "num_transactions_1 = list(set([test['num_transactions'] for test in testcase_1]))\n",
    "exponents_1 = list(set([test['chunk_size'] for test in testcase_1]))\n",
    "compression_1 = list(set([test['compression'] for test in testcase_1]))\n",
    "t_sizes_1 = None"
   ]
  },
  {
   "cell_type": "markdown",
   "metadata": {},
   "source": [
    "## Number of versions v. File size"
   ]
  },
  {
   "cell_type": "markdown",
   "metadata": {},
   "source": [
    "We'll start by analyzing how the `.h5` file sizes grow as the number of versions grows. "
   ]
  },
  {
   "cell_type": "markdown",
   "metadata": {},
   "source": [
    "Note that the array size also grows as the number of versions grows, since each transaction is changing the original arrays by adding, deleting and changing values in the original arrays. In order to compute a (naive) theoretical lower bound on the file size, we'll compute how much space each version should take. Keep in mind there is redundant data as some of it is not changed during the staging of a new version but it is still being stored. In this example, we start with three arrays with 5000 elements (2 integer arrays and one float), and in the end we have the following array sizes:"
   ]
  },
  {
   "cell_type": "markdown",
   "metadata": {},
   "source": [
    "```\n",
    "Maximum array size for file with 50 transactions: 5500\n",
    "Maximum array size for file with 100 transactions: 6000\n",
    "Maximum array size for file with 500 transactions: 10000\n",
    "Maximum array size for file with 1000 transactions: 15000\n",
    "Maximum array size for file with 5000 transactions: 55000\n",
    "Maximum array size for file with 10000 transactions: 105000\n",
    "```"
   ]
  },
  {
   "cell_type": "markdown",
   "metadata": {},
   "source": [
    "Let's show the size information in a plot:"
   ]
  },
  {
   "cell_type": "code",
   "execution_count": null,
   "metadata": {},
   "outputs": [],
   "source": [
    "filesizes_1 = np.array([test['size'] for test in testcase_1])\n",
    "sizelabels_1 = np.array([test['size_label'] for test in testcase_1])\n",
    "\n",
    "n = len(num_transactions_1)\n",
    "fig_large_fraction_changes = plt.figure(figsize=(14,10))\n",
    "\n",
    "if t_sizes_1:\n",
    "    plt.plot(num_transactions_1, t_sizes_1, 'o--', ms=5, color='magenta', label=\"Theoretical file size\")\n",
    "\n",
    "nexp = len(exponents_1)\n",
    "ncomp = len(compression_1)\n",
    "for i in range(ncomp):\n",
    "    for j in range(nexp):\n",
    "        plt.plot(num_transactions_1, \n",
    "                 filesizes_1[j*n+i*nexp*n:(j+1)*n+i*nexp*n], \n",
    "                 '*--', ms=12, \n",
    "                 label=f\"Chunk size 2**{exponents_1[j]}, {compression_1[i]}\")\n",
    "\n",
    "plt.xlabel(\"Transactions\")\n",
    "plt.title(\"test_large_fraction_changes_sparse\")\n",
    "plt.legend()\n",
    "plt.yticks(filesizes_1, sizelabels_1)\n",
    "plt.show()"
   ]
  },
  {
   "cell_type": "markdown",
   "metadata": {},
   "source": [
    "Changing the view to a logarithmic scale, we have the following:"
   ]
  },
  {
   "cell_type": "code",
   "execution_count": null,
   "metadata": {},
   "outputs": [],
   "source": [
    "fig_large_fraction_changes_log = plt.figure(figsize=(14,10))\n",
    "\n",
    "if t_sizes_1:\n",
    "    plt.loglog(num_transactions_1, t_sizes_1, 'o--', ms=5, color='magenta', label=\"Theoretical file size\")\n",
    "\n",
    "for i in range(ncomp):\n",
    "    for j in range(nexp):\n",
    "        plt.loglog(num_transactions_1, \n",
    "                   filesizes_1[j*n+i*nexp*n:(j+1)*n+i*nexp*n], \n",
    "                   '*--', ms=12, \n",
    "                   label=f\"Chunk size 2**{exponents_1[j]}, {compression_1[i]}\")\n",
    "\n",
    "plt.xlabel(\"Transactions\")\n",
    "plt.title(\"test_large_fraction_changes_sparse\")\n",
    "plt.legend()\n",
    "plt.yticks(filesizes_1, sizelabels_1)\n",
    "plt.show()"
   ]
  },
  {
   "cell_type": "markdown",
   "metadata": {},
   "source": [
    "## Creation times"
   ]
  },
  {
   "cell_type": "markdown",
   "metadata": {},
   "source": [
    "If we look at the creation times for these files, we have something like this:"
   ]
  },
  {
   "cell_type": "code",
   "execution_count": null,
   "metadata": {},
   "outputs": [],
   "source": [
    "t_write_1 = np.array([test['t_write'] for test in testcase_1])\n",
    "\n",
    "fig_large_fraction_changes_times = plt.figure()\n",
    "for i in range(ncomp):\n",
    "    for j in range(nexp):\n",
    "        plt.plot(num_transactions_1, \n",
    "                 t_write_1[j*n+i*nexp*n:(j+1)*n+i*nexp*n], \n",
    "                 'o--', ms=8, \n",
    "                 label=f\"Chunk size 2**{exponents_1[j]}, {compression_1[i]}\")\n",
    "plt.xlabel(\"Transactions\")\n",
    "plt.title(\"test_large_fraction_changes_sparse - creation times in seconds\")\n",
    "plt.legend()\n",
    "plt.xticks(num_transactions_1)\n",
    "plt.show()"
   ]
  },
  {
   "cell_type": "markdown",
   "metadata": {},
   "source": [
    "So we can clearly see that files with smallest file size, corresponding to chunk sizes of $2^8$ and $2^{10}$, are also the ones with largest creation times. **This is consistent with the effects of using smaller chunk sizes in HDF5 files.**"
   ]
  },
  {
   "cell_type": "markdown",
   "metadata": {},
   "source": [
    "This behaviour suggests that for `test_large_fraction_changes_sparse`, larger chunk sizes generate larger files, but the size of the files grows modestly as the number of transactions grow. So, **if we are dealing with a large number of transactions, larger chunk sizes generate files that are of reasonable size while having faster creation times** (and probably faster IO speeds as well)."
   ]
  },
  {
   "cell_type": "markdown",
   "metadata": {},
   "source": [
    "[Back to top](#home)"
   ]
  },
  {
   "cell_type": "markdown",
   "metadata": {},
   "source": [
    "<a id='test2'></a>\n",
    "\n",
    "# Test 2: Mostly appends (sparse)"
   ]
  },
  {
   "cell_type": "code",
   "execution_count": null,
   "metadata": {},
   "outputs": [],
   "source": [
    "testname = \"test_mostly_appends_sparse\""
   ]
  },
  {
   "cell_type": "markdown",
   "metadata": {},
   "source": [
    "For this case, we have tested the following number of transactions:"
   ]
  },
  {
   "cell_type": "markdown",
   "metadata": {},
   "source": [
    "```python\n",
    "num_transactions_2 = [50, 100, 200]\n",
    "```"
   ]
  },
  {
   "cell_type": "markdown",
   "metadata": {},
   "source": [
    "Once again, we tested chunk sizes of $2^8$, $2^{10}$, $2^{12}$ and $2^{14}$."
   ]
  },
  {
   "cell_type": "markdown",
   "metadata": {},
   "source": [
    "Change `num_transactions_2` and `exponents` as desired (the previous warning applies: beware of very large file sizes and creation times for large numbers of versions):"
   ]
  },
  {
   "cell_type": "code",
   "execution_count": null,
   "metadata": {},
   "outputs": [],
   "source": [
    "num_transactions_2 = [25, 50]\n",
    "exponents_2 = [12, 14]\n",
    "compression_2 = [None, \"gzip\", \"lzf\"]"
   ]
  },
  {
   "cell_type": "code",
   "execution_count": null,
   "metadata": {},
   "outputs": [],
   "source": [
    "testcase = performance_tests.test_mostly_appends_sparse(path=path,\n",
    "                                                        num_transactions=num_transactions_2, \n",
    "                                                        exponents=exponents_2, \n",
    "                                                        compression=compression_2)\n",
    "testcase_2 = testcase.create_files()\n",
    "testcase.save(testcase_2)\n",
    "t_sizes_2 = [test['theoretical_sizes'] for test in testcase.tests[-len(num_transactions_2):]]"
   ]
  },
  {
   "cell_type": "markdown",
   "metadata": {},
   "source": [
    "Otherwise, we can read an existing `.json` file with"
   ]
  },
  {
   "cell_type": "code",
   "execution_count": null,
   "metadata": {},
   "outputs": [],
   "source": [
    "with open(f\"{testname}.json\", \"r\") as json_in:\n",
    "    testcase_2 = json.load(json_in)\n",
    "\n",
    "num_transactions_2 = list(set([test['num_transactions'] for test in testcase_2]))\n",
    "exponents_2 = list(set([test['chunk_size'] for test in testcase_2]))\n",
    "compression_2 = list(set([test['compression'] for test in testcase_2]))\n",
    "t_sizes_2 = None"
   ]
  },
  {
   "cell_type": "markdown",
   "metadata": {},
   "source": [
    "Let's show the size information in a graph:"
   ]
  },
  {
   "cell_type": "code",
   "execution_count": null,
   "metadata": {},
   "outputs": [],
   "source": [
    "filesizes_2 = np.array([test['size'] for test in testcase_2])\n",
    "sizelabels_2 = np.array([test['size_label'] for test in testcase_2])\n",
    "\n",
    "fig_mostly_appends = plt.figure(figsize=(14,10))\n",
    "\n",
    "if t_sizes_2:\n",
    "    plt.plot(num_transactions_2, t_sizes_2, 'o--', ms=5, color='magenta', label=\"Theoretical file size\")\n",
    "\n",
    "n = len(num_transactions_2)\n",
    "nexp = len(exponents_2)\n",
    "ncomp = len(compression_2)\n",
    "for i in range(ncomp):\n",
    "    for j in range(nexp):\n",
    "        plt.plot(num_transactions_2, \n",
    "                 filesizes_2[j*n+i*nexp*n:(j+1)*n+i*nexp*n], \n",
    "                 '*--', ms=12, \n",
    "                 label=f\"Chunk size 2**{exponents_2[j]}, {compression_2[i]}\")\n",
    "\n",
    "    \n",
    "plt.xlabel(\"Transactions\")\n",
    "plt.title(\"test_mostly_appends_sparse\")\n",
    "plt.legend()\n",
    "plt.yticks(filesizes_2[-n:], sizelabels_2[-n:])\n",
    "plt.show()"
   ]
  },
  {
   "cell_type": "markdown",
   "metadata": {},
   "source": [
    "Changing the view to a logarithmic scale, we have the following:"
   ]
  },
  {
   "cell_type": "code",
   "execution_count": null,
   "metadata": {},
   "outputs": [],
   "source": [
    "fig_mostly_appends_log = plt.figure(figsize=(14,10))\n",
    "\n",
    "if t_sizes_2:\n",
    "    plt.loglog(num_transactions_2, t_sizes_2, 'o--', ms=5, color='magenta', label=\"Theoretical file size\")\n",
    "\n",
    "for i in range(ncomp):\n",
    "    for j in range(nexp):\n",
    "        plt.loglog(num_transactions_2, \n",
    "                   filesizes_2[j*n+i*nexp*n:(j+1)*n+i*nexp*n], \n",
    "                   '*--', ms=12, \n",
    "                   label=f\"Chunk size 2**{exponents_2[j]}, {compression_2[i]}\")\n",
    "\n",
    "plt.xlabel(\"Transactions\")\n",
    "plt.title(\"test_mostly_appends_sparse\")\n",
    "plt.legend()\n",
    "plt.yticks(filesizes_2[-n:], sizelabels_2[-n:])\n",
    "plt.show()"
   ]
  },
  {
   "cell_type": "markdown",
   "metadata": {},
   "source": [
    "If we look at the creation times for these files, we have something like this:"
   ]
  },
  {
   "cell_type": "code",
   "execution_count": null,
   "metadata": {
    "scrolled": true
   },
   "outputs": [],
   "source": [
    "t_write_2 = np.array([test['t_write'] for test in testcase_2])\n",
    "\n",
    "fig_mostly_appends_times = plt.figure()\n",
    "for i in range(ncomp):\n",
    "    for j in range(nexp):\n",
    "        plt.plot(num_transactions_2, \n",
    "                 t_write_2[j*n+i*nexp*n:(j+1)*n+i*nexp*n], \n",
    "                 'o--', ms=8, \n",
    "                 label=f\"Chunk size 2**{exponents_2[j]}, {compression_2[i]}\")\n",
    "\n",
    "plt.xlabel(\"Transactions\")\n",
    "plt.title(\"test_mostly_appends_sparse - creation times in seconds\")\n",
    "plt.legend()\n",
    "plt.xticks(num_transactions_2)\n",
    "plt.show()"
   ]
  },
  {
   "cell_type": "markdown",
   "metadata": {},
   "source": [
    "The result is similar to the first test: smaller chunk sizes correspond to smaller file sizes, but larger creation times."
   ]
  },
  {
   "cell_type": "markdown",
   "metadata": {},
   "source": [
    "[Back to top](#home)"
   ]
  },
  {
   "cell_type": "markdown",
   "metadata": {},
   "source": [
    "<a id='test3'></a>\n",
    "\n",
    "# Test 3: Small fraction changes (sparse)"
   ]
  },
  {
   "cell_type": "code",
   "execution_count": null,
   "metadata": {},
   "outputs": [],
   "source": [
    "testname = \"test_small_fraction_changes_sparse\""
   ]
  },
  {
   "cell_type": "markdown",
   "metadata": {},
   "source": [
    "We have tested the following numbers of versions (or transactions):"
   ]
  },
  {
   "cell_type": "markdown",
   "metadata": {},
   "source": [
    "```python\n",
    "num_transactions_3 = [50, 100, 500, 1000, 5000]\n",
    "```"
   ]
  },
  {
   "cell_type": "markdown",
   "metadata": {},
   "source": [
    "Change `num_transactions_3` and `exponents` as desired:"
   ]
  },
  {
   "cell_type": "code",
   "execution_count": null,
   "metadata": {},
   "outputs": [],
   "source": [
    "num_transactions_3 = [25, 50]\n",
    "exponents_3 = [12, 14]\n",
    "compression_3 = [None, \"gzip\", \"lzf\"]"
   ]
  },
  {
   "cell_type": "code",
   "execution_count": null,
   "metadata": {},
   "outputs": [],
   "source": [
    "testcase = performance_tests.test_small_fraction_changes_sparse(path=path,\n",
    "                                                                num_transactions=num_transactions_3, \n",
    "                                                                exponents=exponents_3, \n",
    "                                                                compression=compression_3)\n",
    "\n",
    "testcase_3 = testcase.create_files()\n",
    "testcase.save(testcase_3)\n",
    "\n",
    "t_sizes_3 = [test['theoretical_sizes'] for test in testcase.tests[-len(num_transactions_3):]]"
   ]
  },
  {
   "cell_type": "markdown",
   "metadata": {},
   "source": [
    "To open an existing `.json` file, use"
   ]
  },
  {
   "cell_type": "code",
   "execution_count": null,
   "metadata": {},
   "outputs": [],
   "source": [
    "with open(f\"{testname}.json\", \"r\") as json_in:\n",
    "    testcase_3 = json.load(json_in)\n",
    "\n",
    "num_transactions_3 = list(set([test['num_transactions'] for test in testcase_3]))\n",
    "exponents_3 = list(set([test['chunk_size'] for test in testcase_3]))\n",
    "compression_3 = list(set([test['compression'] for test in testcase_3]))\n",
    "t_sizes_3 = None"
   ]
  },
  {
   "cell_type": "markdown",
   "metadata": {},
   "source": [
    "Let's show the size information in a graph:"
   ]
  },
  {
   "cell_type": "code",
   "execution_count": null,
   "metadata": {
    "scrolled": false
   },
   "outputs": [],
   "source": [
    "filesizes_3 = np.array([test['size'] for test in testcase_3])\n",
    "sizelabels_3 = np.array([test['size_label'] for test in testcase_3])\n",
    "\n",
    "fig_small_fraction_changes = plt.figure(figsize=(14,10))\n",
    "\n",
    "if t_sizes_3:\n",
    "    plt.plot(num_transactions_3, t_sizes_3, 'o--', ms=5, color='magenta', label=\"Theoretical file size\")\n",
    "\n",
    "n = len(num_transactions_3)\n",
    "nexp = len(exponents_3)\n",
    "ncomp = len(compression_3)\n",
    "for i in range(ncomp):\n",
    "    for j in range(nexp):\n",
    "        plt.plot(num_transactions_3, \n",
    "                 filesizes_3[j*n+i*nexp*n:(j+1)*n+i*nexp*n], \n",
    "                 '*--', ms=12, \n",
    "                 label=f\"Chunk size 2**{exponents_3[j]}, {compression_3[i]}\")\n",
    "\n",
    "plt.xlabel(\"Transactions\")\n",
    "plt.title(\"test_small_fraction_changes_sparse\")\n",
    "plt.legend()\n",
    "plt.yticks(filesizes_3[-n:], sizelabels_3[-n:])\n",
    "plt.show()"
   ]
  },
  {
   "cell_type": "markdown",
   "metadata": {},
   "source": [
    "Changing the view to a logarithmic scale, we have the following:"
   ]
  },
  {
   "cell_type": "code",
   "execution_count": null,
   "metadata": {},
   "outputs": [],
   "source": [
    "fig_small_fraction_changes_log = plt.figure(figsize=(14,10))\n",
    "\n",
    "if t_sizes_3:\n",
    "    plt.loglog(num_transactions_3, t_sizes_3, 'o--', ms=5, color='magenta', label=\"Theoretical file size\")\n",
    "\n",
    "for i in range(ncomp):\n",
    "    for j in range(nexp):\n",
    "        plt.loglog(num_transactions_3, \n",
    "                   filesizes_3[j*n+i*nexp*n:(j+1)*n+i*nexp*n], \n",
    "                   '*--', ms=12, \n",
    "                   label=f\"Chunk size 2**{exponents_3[j]}, {compression_3[i]}\")\n",
    "\n",
    "plt.xlabel(\"Transactions\")\n",
    "plt.title(\"test_small_fraction_changes_sparse\")\n",
    "plt.legend()\n",
    "plt.yticks(filesizes_3[-n:], sizelabels_3[-n:])\n",
    "plt.show()"
   ]
  },
  {
   "cell_type": "markdown",
   "metadata": {},
   "source": [
    "If we look at the creation times for these files, we have something like this:"
   ]
  },
  {
   "cell_type": "code",
   "execution_count": null,
   "metadata": {
    "scrolled": true
   },
   "outputs": [],
   "source": [
    "t_write_3 = np.array([test['t_write'] for test in testcase_3])\n",
    "\n",
    "fig_small_fraction_changes_times = plt.figure()\n",
    "for i in range(ncomp):\n",
    "    for j in range(nexp):\n",
    "        plt.plot(num_transactions_3, \n",
    "                 t_write_3[j*n+i*nexp*n:(j+1)*n+i*nexp*n], \n",
    "                 '*--', ms=12, \n",
    "                 label=f\"Chunk size 2**{exponents_3[j]}, {compression_3[i]}\")\n",
    "\n",
    "plt.xlabel(\"Transactions\")\n",
    "plt.title(\"test_small_fraction_changes_sparse - creation times in seconds\")\n",
    "plt.legend()\n",
    "plt.xticks(num_transactions_3)\n",
    "plt.show()"
   ]
  },
  {
   "cell_type": "markdown",
   "metadata": {},
   "source": [
    "So we can clearly see that the files with smallest file size, corresponding to chunk sizes of $2^8$ and $2^{10}$, are also the ones with largest creation times. This is consistent with the effects of using smaller chunk sizes in HDF5 files."
   ]
  },
  {
   "cell_type": "markdown",
   "metadata": {},
   "source": [
    "This behaviour is similar to what we got in the `test_large_fraction_changes_sparse` case: for `test_small_fraction_changes_sparse`, larger chunk sizes generate larger files, but the size of the files grows modestly as the number of transactions grow. So, **if we are dealing with a large number of transactions, larger chunk sizes generate files that are of reasonable size while having faster creation times** (and probably faster IO speeds as well)."
   ]
  },
  {
   "cell_type": "markdown",
   "metadata": {},
   "source": [
    "[Back to top](#home)"
   ]
  },
  {
   "cell_type": "markdown",
   "metadata": {},
   "source": [
    "<a id='test4'></a>\n",
    "\n",
    "# Test 4: Mostly appends (dense)"
   ]
  },
  {
   "cell_type": "code",
   "execution_count": null,
   "metadata": {},
   "outputs": [],
   "source": [
    "testname = \"test_mostly_appends_dense\""
   ]
  },
  {
   "cell_type": "markdown",
   "metadata": {},
   "source": [
    "For this case, we have tested the following number of transactions:"
   ]
  },
  {
   "cell_type": "markdown",
   "metadata": {},
   "source": [
    "```python\n",
    "num_transactions_2 = [50, 100, 200]\n",
    "```"
   ]
  },
  {
   "cell_type": "markdown",
   "metadata": {},
   "source": [
    "Change `num_transactions_4` and `exponents` as desired:"
   ]
  },
  {
   "cell_type": "code",
   "execution_count": null,
   "metadata": {},
   "outputs": [],
   "source": [
    "num_transactions_4 = [25, 50]\n",
    "exponents_4 = [12, 14]\n",
    "compression_4 = [None, \"gzip\", \"lzf\"]"
   ]
  },
  {
   "cell_type": "code",
   "execution_count": null,
   "metadata": {},
   "outputs": [],
   "source": [
    "testcase = performance_tests.test_mostly_appends_dense(path=path,\n",
    "                                                       num_transactions=num_transactions_4, \n",
    "                                                       exponents=exponents_4, \n",
    "                                                       compression=compression_4)\n",
    "\n",
    "testcase_4 = testcase.create_files()\n",
    "testcase.save(testcase_4)\n",
    "\n",
    "t_sizes_4 = [test['theoretical_sizes'] for test in testcase.tests[-len(num_transactions_4):]]"
   ]
  },
  {
   "cell_type": "markdown",
   "metadata": {},
   "source": [
    "To open an existing `.json` file, use"
   ]
  },
  {
   "cell_type": "code",
   "execution_count": null,
   "metadata": {},
   "outputs": [],
   "source": [
    "with open(f\"{testname}.json\", \"r\") as json_in:\n",
    "    testcase_4 = json.load(json_in)\n",
    "\n",
    "num_transactions_4 = list(set([test['num_transactions'] for test in testcase_4]))\n",
    "exponents_4 = list(set([test['chunk_size'] for test in testcase_4]))\n",
    "compression_4 = list(set([test['compression'] for test in testcase_4]))\n",
    "t_sizes_4 = None"
   ]
  },
  {
   "cell_type": "markdown",
   "metadata": {},
   "source": [
    "Let's show the size information in a graph:"
   ]
  },
  {
   "cell_type": "code",
   "execution_count": null,
   "metadata": {
    "scrolled": false
   },
   "outputs": [],
   "source": [
    "filesizes_4 = np.array([test['size'] for test in testcase_4])\n",
    "sizelabels_4 = np.array([test['size_label'] for test in testcase_4])\n",
    "\n",
    "fig_mostly_appends_dense = plt.figure(figsize=(14,10))\n",
    "\n",
    "if t_sizes_4:\n",
    "    plt.plot(num_transactions_4, t_sizes_4, 'o--', ms=5, color='magenta', label=\"Theoretical file size\")\n",
    "\n",
    "n = len(num_transactions_4)\n",
    "nexp = len(exponents_4)\n",
    "ncomp = len(compression_4)\n",
    "for i in range(ncomp):\n",
    "    for j in range(nexp):\n",
    "        plt.plot(num_transactions_4, \n",
    "                 filesizes_4[j*n+i*nexp*n:(j+1)*n+i*nexp*n], \n",
    "                 '*--', ms=12, \n",
    "                 label=f\"Chunk size 2**{exponents_4[j]}, {compression_4[i]}\")\n",
    "\n",
    "plt.xlabel(\"Transactions\")\n",
    "plt.title(\"test_mostly_appends_dense\")\n",
    "plt.legend()\n",
    "plt.yticks(filesizes_4[-n:], sizelabels_4[-n:])\n",
    "plt.show()"
   ]
  },
  {
   "cell_type": "markdown",
   "metadata": {},
   "source": [
    "Changing the view to a logarithmic scale, we have the following:"
   ]
  },
  {
   "cell_type": "code",
   "execution_count": null,
   "metadata": {},
   "outputs": [],
   "source": [
    "fig_mostly_appends_dense_log = plt.figure(figsize=(14,10))\n",
    "\n",
    "if t_sizes_4:\n",
    "    plt.loglog(num_transactions_4, t_sizes_4, 'o--', ms=5, color='magenta', label=\"Theoretical file size\")\n",
    "\n",
    "for i in range(ncomp):\n",
    "    for j in range(nexp):\n",
    "        plt.loglog(num_transactions_4, \n",
    "                   filesizes_4[j*n+i*nexp*n:(j+1)*n+i*nexp*n], \n",
    "                   '*--', ms=12, \n",
    "                   label=f\"Chunk size 2**{exponents_4[j]}, {compression_4[i]}\")\n",
    "\n",
    "\n",
    "plt.xlabel(\"Transactions\")\n",
    "plt.title(\"test_mostly_appends_dense\")\n",
    "plt.legend()\n",
    "plt.yticks(filesizes_4[-n:], sizelabels_4[-n:])\n",
    "plt.show()"
   ]
  },
  {
   "cell_type": "markdown",
   "metadata": {},
   "source": [
    "If we look at the creation times for these files, we have something like this:"
   ]
  },
  {
   "cell_type": "code",
   "execution_count": null,
   "metadata": {
    "scrolled": true
   },
   "outputs": [],
   "source": [
    "t_write_4 = np.array([test['t_write'] for test in testcase_4])\n",
    "\n",
    "fig_mostly_appends_dense_times = plt.figure()\n",
    "\n",
    "for i in range(ncomp):\n",
    "    for j in range(nexp):\n",
    "        plt.plot(num_transactions_4, \n",
    "                 filesizes_4[j*n+i*nexp*n:(j+1)*n+i*nexp*n], \n",
    "                 '*--', ms=12, \n",
    "                 label=f\"Chunk size 2**{exponents_4[j]}, {compression_4[i]}\")\n",
    "\n",
    "plt.xlabel(\"Transactions\")\n",
    "plt.title(\"test_mostly_appends_dense - creation times in seconds\")\n",
    "plt.legend()\n",
    "plt.xticks(num_transactions_4)\n",
    "plt.show()"
   ]
  },
  {
   "cell_type": "markdown",
   "metadata": {},
   "source": [
    "The behaviour is similar to what we observed in other tests."
   ]
  },
  {
   "cell_type": "markdown",
   "metadata": {},
   "source": [
    "[Back to top](#home)"
   ]
  },
  {
   "cell_type": "markdown",
   "metadata": {},
   "source": [
    "## Understanding each file"
   ]
  },
  {
   "cell_type": "markdown",
   "metadata": {},
   "source": [
    "Each versioned HDF5 file contains 3 datasets per version:\n",
    "- `key0`, an array of `int64`\n",
    "- `key1`, an array of `int64`\n",
    "- `val`, an array of `float64`\n",
    "plus metadata about groups, datasets and versions.\n",
    "\n",
    "This means that each file has  \n",
    "\n",
    "```\n",
    "nversions * 24 * arraysize + metadata\n",
    "```\n",
    "bytes of information."
   ]
  },
  {
   "cell_type": "markdown",
   "metadata": {},
   "source": [
    "<a id='standard'></a>\n",
    "## Standard parameters\n",
    "\n",
    "- `test_large_fraction_changes_sparse`: \n",
    "    - `num_rows_initial = 5000`\n",
    "    - `num_rows_per_append = 10`\n",
    "    - `num_inserts = 10`\n",
    "    - `num_deletes = 10`\n",
    "    - `num_changes = 1000`\n",
    "- `test_small_fraction_changes_sparse`\n",
    "    - `num_rows_initial = 5000`\n",
    "    - `num_rows_per_append = 10`\n",
    "    - `num_inserts = 10`\n",
    "    - `num_deletes = 10`\n",
    "    - `num_changes = 10`\n",
    "- `test_mostly_appends_sparse`:\n",
    "    - `num_rows_initial = 1000`\n",
    "    - `num_rows_per_append = 1000`\n",
    "    - `num_inserts = 10`\n",
    "    - `num_deletes = 10`\n",
    "    - `num_changes = 10`  \n",
    "- `test_mostly_appends_dense`\n",
    "    - `num_rows_initial_0 = 30`\n",
    "    - `num_rows_initial_1 = 30`\n",
    "    - `num_rows_per_append_0 = 1`\n",
    "    - `num_inserts_0 = 1`\n",
    "    - `num_inserts_1 = 10`\n",
    "    - `num_deletes_0 = 1`\n",
    "    - `num_deletes_1 = 1`\n",
    "    - `num_changes = 10`"
   ]
  },
  {
   "cell_type": "code",
   "execution_count": null,
   "metadata": {},
   "outputs": [],
   "source": []
  }
 ],
 "metadata": {
  "kernelspec": {
   "display_name": "Python 3",
   "language": "python",
   "name": "python3"
  },
  "language_info": {
   "codemirror_mode": {
    "name": "ipython",
    "version": 3
   },
   "file_extension": ".py",
   "mimetype": "text/x-python",
   "name": "python",
   "nbconvert_exporter": "python",
   "pygments_lexer": "ipython3",
   "version": "3.8.1"
  }
 },
 "nbformat": 4,
 "nbformat_minor": 4
}
