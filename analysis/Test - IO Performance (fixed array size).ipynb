{
 "cells": [
  {
   "cell_type": "markdown",
   "metadata": {},
   "source": [
    "# I/O Performance for fixed array sizes"
   ]
  },
  {
   "cell_type": "markdown",
   "metadata": {},
   "source": [
    "```python\n",
    "testnames = [\"test_large_fraction_changes_sparse\", \n",
    "             \"test_mostly_appends_sparse\", \n",
    "             \"test_small_fraction_changes_sparse\", \n",
    "             \"test_mostly_appends_dense\"]\n",
    "```"
   ]
  },
  {
   "cell_type": "code",
   "execution_count": 1,
   "metadata": {},
   "outputs": [],
   "source": [
    "path = \"/home/melissa/projects/versioned-hdf5\""
   ]
  },
  {
   "cell_type": "code",
   "execution_count": 2,
   "metadata": {},
   "outputs": [],
   "source": [
    "%matplotlib inline\n",
    "import os\n",
    "import sys\n",
    "sys.path.append('..')\n",
    "import time\n",
    "import numpy as np\n",
    "import matplotlib.pyplot as plt\n",
    "import h5py\n",
    "import datetime\n",
    "from versioned_hdf5 import VersionedHDF5File\n",
    "from generate_data_deterministic import TestVersionedDatasetPerformance"
   ]
  },
  {
   "cell_type": "markdown",
   "metadata": {},
   "source": [
    "# Test 1: Large Fraction Changes (Sparse)"
   ]
  },
  {
   "cell_type": "markdown",
   "metadata": {},
   "source": [
    "## Creating files"
   ]
  },
  {
   "cell_type": "code",
   "execution_count": 27,
   "metadata": {},
   "outputs": [],
   "source": [
    "testname = \"test_large_fraction_changes_sparse\"\n",
    "num_transactions = [50, 100, 500, 1000]\n",
    "num_rows_initial = 5000"
   ]
  },
  {
   "cell_type": "markdown",
   "metadata": {},
   "source": [
    "Create new file with `num_transactions` versions:"
   ]
  },
  {
   "cell_type": "code",
   "execution_count": 25,
   "metadata": {},
   "outputs": [],
   "source": [
    "def time_create(n):\n",
    "    t0 = time.time()\n",
    "    TestVersionedDatasetPerformance().test_large_fraction_changes_sparse(n)\n",
    "    t = time.time()-t0\n",
    "    return t"
   ]
  },
  {
   "cell_type": "code",
   "execution_count": 26,
   "metadata": {},
   "outputs": [
    {
     "name": "stdout",
     "output_type": "stream",
     "text": [
      "1.3908498287200928\n",
      "2.432126522064209\n",
      "13.553502798080444\n",
      "38.50507092475891\n"
     ]
    }
   ],
   "source": [
    "for n in num_transactions:\n",
    "    print(time_create(n))"
   ]
  },
  {
   "cell_type": "code",
   "execution_count": 41,
   "metadata": {},
   "outputs": [],
   "source": [
    "tests = []\n",
    "for n in num_transactions:\n",
    "    filename = f\"{testname}_{n}.h5\"\n",
    "    h5pyfile = h5py.File(filename, 'r+')\n",
    "    vfile = VersionedHDF5File(h5pyfile)\n",
    "    tests.append(dict(num_transactions=n, filename=filename, h5pyfile=h5pyfile, vfile=vfile))"
   ]
  },
  {
   "cell_type": "markdown",
   "metadata": {},
   "source": [
    "## Adding new version to existing set"
   ]
  },
  {
   "cell_type": "code",
   "execution_count": 34,
   "metadata": {},
   "outputs": [],
   "source": [
    "def add_version(vfile):\n",
    "    tt = datetime.datetime.utcnow()\n",
    "    with vfile.stage_version(str(tt)) as group:\n",
    "        key0 = group.create_dataset(testname + '/key0', data=np.random.rand(num_rows_initial), dtype=(np.dtype('int64')))\n",
    "        key1 = group.create_dataset(testname + '/key1', data=np.random.rand(num_rows_initial), dtype=(np.dtype('int64')))\n",
    "        val = group.create_dataset(testname + '/val', data=np.random.rand(num_rows_initial), dtype=(np.dtype('float64')))"
   ]
  },
  {
   "cell_type": "code",
   "execution_count": 42,
   "metadata": {
    "scrolled": true
   },
   "outputs": [
    {
     "name": "stdout",
     "output_type": "stream",
     "text": [
      "0.15346932411193848\n",
      "0.042232513427734375\n",
      "0.034436702728271484\n",
      "0.04387378692626953\n"
     ]
    }
   ],
   "source": [
    "for test in tests:\n",
    "    t0 = time.time()\n",
    "    add_version(test['vfile'])\n",
    "    t = time.time()-t0\n",
    "    print(t)"
   ]
  },
  {
   "cell_type": "code",
   "execution_count": 43,
   "metadata": {},
   "outputs": [],
   "source": [
    "for test in tests:\n",
    "    test['h5pyfile'].close()"
   ]
  },
  {
   "cell_type": "markdown",
   "metadata": {},
   "source": [
    "## Reading in sequential mode"
   ]
  },
  {
   "cell_type": "code",
   "execution_count": 45,
   "metadata": {},
   "outputs": [],
   "source": [
    "for test in tests:\n",
    "    test['h5pyfile'] = h5py.File(filename, 'r')\n",
    "    test['vfile'] = VersionedHDF5File(test['h5pyfile'])"
   ]
  },
  {
   "cell_type": "code",
   "execution_count": 46,
   "metadata": {},
   "outputs": [],
   "source": [
    "def read_data(vfile):\n",
    "    for vname in vfile._versions:\n",
    "        if vname != '__first_version__':\n",
    "            version = vfile[vname]\n",
    "            group_key = list(version.keys())[0]\n",
    "            val = version[group_key]['val']"
   ]
  },
  {
   "cell_type": "code",
   "execution_count": 48,
   "metadata": {},
   "outputs": [
    {
     "name": "stdout",
     "output_type": "stream",
     "text": [
      "1.7396488189697266\n",
      "1.846527338027954\n",
      "1.6409974098205566\n",
      "1.8354008197784424\n"
     ]
    }
   ],
   "source": [
    "for test in tests:\n",
    "    t0 = time.time()\n",
    "    read_data(test['vfile'])\n",
    "    t = time.time()-t0\n",
    "    print(t)"
   ]
  },
  {
   "cell_type": "markdown",
   "metadata": {},
   "source": [
    "## Reading specific version"
   ]
  },
  {
   "cell_type": "code",
   "execution_count": 49,
   "metadata": {},
   "outputs": [],
   "source": [
    "def read_version(vfile):\n",
    "    N = len(vfile._versions.keys())\n",
    "    index = np.random.randint(0, N)\n",
    "    vname = list(vfile._versions.keys())[index]\n",
    "    return vname"
   ]
  },
  {
   "cell_type": "code",
   "execution_count": 54,
   "metadata": {
    "scrolled": true
   },
   "outputs": [
    {
     "name": "stdout",
     "output_type": "stream",
     "text": [
      "0.0024514198303222656\n",
      "0.0020580291748046875\n",
      "0.008698225021362305\n",
      "0.0025420188903808594\n"
     ]
    }
   ],
   "source": [
    "for test in tests:\n",
    "    vname = read_version(test['vfile'])\n",
    "    if vname != '__first_version__':\n",
    "        t0 = time.time()\n",
    "        version = test['vfile'][vname]\n",
    "        group_key = list(version.keys())[0]\n",
    "        val = version[group_key]['val']\n",
    "        t = time.time()-t0\n",
    "        print(t)"
   ]
  },
  {
   "cell_type": "markdown",
   "metadata": {},
   "source": [
    "## Finishing up"
   ]
  },
  {
   "cell_type": "code",
   "execution_count": 55,
   "metadata": {},
   "outputs": [],
   "source": [
    "for test in tests:\n",
    "    test['h5pyfile'].close()"
   ]
  },
  {
   "cell_type": "markdown",
   "metadata": {},
   "source": [
    "# Test 2: Mostly appends (Sparse)"
   ]
  },
  {
   "cell_type": "markdown",
   "metadata": {},
   "source": [
    "## Creating files"
   ]
  },
  {
   "cell_type": "code",
   "execution_count": 11,
   "metadata": {},
   "outputs": [],
   "source": [
    "testname = \"test_mostly_appends_sparse\"\n",
    "num_transactions = [50, 100, 200]\n",
    "num_rows_initial = 1000"
   ]
  },
  {
   "cell_type": "markdown",
   "metadata": {},
   "source": [
    "Create new file with `num_transactions` versions:"
   ]
  },
  {
   "cell_type": "code",
   "execution_count": 12,
   "metadata": {},
   "outputs": [],
   "source": [
    "def time_create(n):\n",
    "    t0 = time.time()\n",
    "    TestVersionedDatasetPerformance().test_mostly_appends_sparse(n)\n",
    "    t = time.time()-t0\n",
    "    return t"
   ]
  },
  {
   "cell_type": "code",
   "execution_count": 13,
   "metadata": {},
   "outputs": [
    {
     "name": "stdout",
     "output_type": "stream",
     "text": [
      "2.606062889099121\n",
      "8.52845549583435\n",
      "29.528016805648804\n"
     ]
    }
   ],
   "source": [
    "for n in num_transactions:\n",
    "    print(time_create(n))"
   ]
  },
  {
   "cell_type": "code",
   "execution_count": 14,
   "metadata": {},
   "outputs": [],
   "source": [
    "tests = []\n",
    "for n in num_transactions:\n",
    "    filename = f\"{testname}_{n}.h5\"\n",
    "    h5pyfile = h5py.File(filename, 'r+')\n",
    "    vfile = VersionedHDF5File(h5pyfile)\n",
    "    tests.append(dict(num_transactions=n, filename=filename, h5pyfile=h5pyfile, vfile=vfile))"
   ]
  },
  {
   "cell_type": "markdown",
   "metadata": {},
   "source": [
    "## Adding new version to existing set"
   ]
  },
  {
   "cell_type": "code",
   "execution_count": 15,
   "metadata": {},
   "outputs": [],
   "source": [
    "def add_version(vfile):\n",
    "    tt = datetime.datetime.utcnow()\n",
    "    with vfile.stage_version(str(tt)) as group:\n",
    "        key0 = group.create_dataset(testname + '/key0', data=np.random.rand(num_rows_initial), dtype=(np.dtype('int64')))\n",
    "        key1 = group.create_dataset(testname + '/key1', data=np.random.rand(num_rows_initial), dtype=(np.dtype('int64')))\n",
    "        val = group.create_dataset(testname + '/val', data=np.random.rand(num_rows_initial), dtype=(np.dtype('float64')))"
   ]
  },
  {
   "cell_type": "code",
   "execution_count": 16,
   "metadata": {
    "scrolled": true
   },
   "outputs": [
    {
     "name": "stdout",
     "output_type": "stream",
     "text": [
      "0.16510009765625\n",
      "0.07856416702270508\n",
      "0.09362387657165527\n"
     ]
    }
   ],
   "source": [
    "for test in tests:\n",
    "    t0 = time.time()\n",
    "    add_version(test['vfile'])\n",
    "    t = time.time()-t0\n",
    "    print(t)"
   ]
  },
  {
   "cell_type": "code",
   "execution_count": 17,
   "metadata": {},
   "outputs": [],
   "source": [
    "for test in tests:\n",
    "    test['h5pyfile'].close()"
   ]
  },
  {
   "cell_type": "markdown",
   "metadata": {},
   "source": [
    "## Reading in sequential mode"
   ]
  },
  {
   "cell_type": "code",
   "execution_count": 18,
   "metadata": {},
   "outputs": [],
   "source": [
    "for test in tests:\n",
    "    test['h5pyfile'] = h5py.File(filename, 'r')\n",
    "    test['vfile'] = VersionedHDF5File(test['h5pyfile'])"
   ]
  },
  {
   "cell_type": "code",
   "execution_count": 19,
   "metadata": {},
   "outputs": [],
   "source": [
    "def read_data(vfile):\n",
    "    for vname in vfile._versions:\n",
    "        if vname != '__first_version__':\n",
    "            version = vfile[vname]\n",
    "            group_key = list(version.keys())[0]\n",
    "            val = version[group_key]['val']"
   ]
  },
  {
   "cell_type": "code",
   "execution_count": 20,
   "metadata": {},
   "outputs": [
    {
     "name": "stdout",
     "output_type": "stream",
     "text": [
      "0.8390614986419678\n",
      "0.9234764575958252\n",
      "0.6934041976928711\n"
     ]
    }
   ],
   "source": [
    "for test in tests:\n",
    "    t0 = time.time()\n",
    "    read_data(test['vfile'])\n",
    "    t = time.time()-t0\n",
    "    print(t)"
   ]
  },
  {
   "cell_type": "markdown",
   "metadata": {},
   "source": [
    "## Reading specific version"
   ]
  },
  {
   "cell_type": "code",
   "execution_count": 21,
   "metadata": {},
   "outputs": [],
   "source": [
    "def read_version(vfile):\n",
    "    N = len(vfile._versions.keys())\n",
    "    index = np.random.randint(0, N)\n",
    "    vname = list(vfile._versions.keys())[index]\n",
    "    return vname"
   ]
  },
  {
   "cell_type": "code",
   "execution_count": 22,
   "metadata": {
    "scrolled": true
   },
   "outputs": [
    {
     "name": "stdout",
     "output_type": "stream",
     "text": [
      "0.0016345977783203125\n",
      "0.0026993751525878906\n",
      "0.005071878433227539\n"
     ]
    }
   ],
   "source": [
    "for test in tests:\n",
    "    vname = read_version(test['vfile'])\n",
    "    if vname != '__first_version__':\n",
    "        t0 = time.time()\n",
    "        version = test['vfile'][vname]\n",
    "        group_key = list(version.keys())[0]\n",
    "        val = version[group_key]['val']\n",
    "        t = time.time()-t0\n",
    "        print(t)"
   ]
  },
  {
   "cell_type": "markdown",
   "metadata": {},
   "source": [
    "## Finishing up"
   ]
  },
  {
   "cell_type": "code",
   "execution_count": 23,
   "metadata": {},
   "outputs": [],
   "source": [
    "for test in tests:\n",
    "    test['h5pyfile'].close()"
   ]
  },
  {
   "cell_type": "markdown",
   "metadata": {},
   "source": [
    "# Test 3: Small Fraction Changes (Sparse)"
   ]
  },
  {
   "cell_type": "markdown",
   "metadata": {},
   "source": [
    "## Creating files"
   ]
  },
  {
   "cell_type": "code",
   "execution_count": 24,
   "metadata": {},
   "outputs": [],
   "source": [
    "testname = \"test_small_fraction_changes_sparse\"\n",
    "num_transactions = [50, 100, 500, 1000]\n",
    "num_rows_initial = 5000"
   ]
  },
  {
   "cell_type": "markdown",
   "metadata": {},
   "source": [
    "Create new file with `num_transactions` versions:"
   ]
  },
  {
   "cell_type": "code",
   "execution_count": 25,
   "metadata": {},
   "outputs": [],
   "source": [
    "def time_create(n):\n",
    "    t0 = time.time()\n",
    "    TestVersionedDatasetPerformance().test_small_fraction_changes_sparse(n)\n",
    "    t = time.time()-t0\n",
    "    return t"
   ]
  },
  {
   "cell_type": "code",
   "execution_count": 26,
   "metadata": {},
   "outputs": [
    {
     "name": "stdout",
     "output_type": "stream",
     "text": [
      "1.0959360599517822\n",
      "2.4691689014434814\n",
      "15.07020616531372\n",
      "33.29482340812683\n"
     ]
    }
   ],
   "source": [
    "for n in num_transactions:\n",
    "    print(time_create(n))"
   ]
  },
  {
   "cell_type": "code",
   "execution_count": 27,
   "metadata": {},
   "outputs": [],
   "source": [
    "tests = []\n",
    "for n in num_transactions:\n",
    "    filename = f\"{testname}_{n}.h5\"\n",
    "    h5pyfile = h5py.File(filename, 'r+')\n",
    "    vfile = VersionedHDF5File(h5pyfile)\n",
    "    tests.append(dict(num_transactions=n, filename=filename, h5pyfile=h5pyfile, vfile=vfile))"
   ]
  },
  {
   "cell_type": "markdown",
   "metadata": {},
   "source": [
    "## Adding new version to existing set"
   ]
  },
  {
   "cell_type": "code",
   "execution_count": 28,
   "metadata": {},
   "outputs": [],
   "source": [
    "def add_version(vfile):\n",
    "    tt = datetime.datetime.utcnow()\n",
    "    with vfile.stage_version(str(tt)) as group:\n",
    "        key0 = group.create_dataset(testname + '/key0', data=np.random.rand(num_rows_initial), dtype=(np.dtype('int64')))\n",
    "        key1 = group.create_dataset(testname + '/key1', data=np.random.rand(num_rows_initial), dtype=(np.dtype('int64')))\n",
    "        val = group.create_dataset(testname + '/val', data=np.random.rand(num_rows_initial), dtype=(np.dtype('float64')))"
   ]
  },
  {
   "cell_type": "code",
   "execution_count": 29,
   "metadata": {
    "scrolled": true
   },
   "outputs": [
    {
     "name": "stdout",
     "output_type": "stream",
     "text": [
      "0.0404512882232666\n",
      "0.04590344429016113\n",
      "0.04733729362487793\n",
      "0.11342334747314453\n"
     ]
    }
   ],
   "source": [
    "for test in tests:\n",
    "    t0 = time.time()\n",
    "    add_version(test['vfile'])\n",
    "    t = time.time()-t0\n",
    "    print(t)"
   ]
  },
  {
   "cell_type": "code",
   "execution_count": 30,
   "metadata": {},
   "outputs": [],
   "source": [
    "for test in tests:\n",
    "    test['h5pyfile'].close()"
   ]
  },
  {
   "cell_type": "markdown",
   "metadata": {},
   "source": [
    "## Reading in sequential mode"
   ]
  },
  {
   "cell_type": "code",
   "execution_count": 31,
   "metadata": {},
   "outputs": [],
   "source": [
    "for test in tests:\n",
    "    test['h5pyfile'] = h5py.File(filename, 'r')\n",
    "    test['vfile'] = VersionedHDF5File(test['h5pyfile'])"
   ]
  },
  {
   "cell_type": "code",
   "execution_count": 32,
   "metadata": {},
   "outputs": [],
   "source": [
    "def read_data(vfile):\n",
    "    for vname in vfile._versions:\n",
    "        if vname != '__first_version__':\n",
    "            version = vfile[vname]\n",
    "            group_key = list(version.keys())[0]\n",
    "            val = version[group_key]['val']"
   ]
  },
  {
   "cell_type": "code",
   "execution_count": 33,
   "metadata": {},
   "outputs": [
    {
     "name": "stdout",
     "output_type": "stream",
     "text": [
      "1.8932957649230957\n",
      "1.8067715167999268\n",
      "1.5372166633605957\n",
      "1.9597845077514648\n"
     ]
    }
   ],
   "source": [
    "for test in tests:\n",
    "    t0 = time.time()\n",
    "    read_data(test['vfile'])\n",
    "    t = time.time()-t0\n",
    "    print(t)"
   ]
  },
  {
   "cell_type": "markdown",
   "metadata": {},
   "source": [
    "## Reading specific version"
   ]
  },
  {
   "cell_type": "code",
   "execution_count": 34,
   "metadata": {},
   "outputs": [],
   "source": [
    "def read_version(vfile):\n",
    "    N = len(vfile._versions.keys())\n",
    "    index = np.random.randint(0, N)\n",
    "    vname = list(vfile._versions.keys())[index]\n",
    "    return vname"
   ]
  },
  {
   "cell_type": "code",
   "execution_count": 35,
   "metadata": {
    "scrolled": true
   },
   "outputs": [
    {
     "name": "stdout",
     "output_type": "stream",
     "text": [
      "0.001514434814453125\n",
      "0.0012001991271972656\n",
      "0.0013587474822998047\n",
      "0.0014355182647705078\n"
     ]
    }
   ],
   "source": [
    "for test in tests:\n",
    "    vname = read_version(test['vfile'])\n",
    "    if vname != '__first_version__':\n",
    "        t0 = time.time()\n",
    "        version = test['vfile'][vname]\n",
    "        group_key = list(version.keys())[0]\n",
    "        val = version[group_key]['val']\n",
    "        t = time.time()-t0\n",
    "        print(t)"
   ]
  },
  {
   "cell_type": "markdown",
   "metadata": {},
   "source": [
    "## Finishing up"
   ]
  },
  {
   "cell_type": "code",
   "execution_count": 36,
   "metadata": {},
   "outputs": [],
   "source": [
    "for test in tests:\n",
    "    test['h5pyfile'].close()"
   ]
  },
  {
   "cell_type": "markdown",
   "metadata": {},
   "source": [
    "# Test 4: Mostly appends (Dense)"
   ]
  },
  {
   "cell_type": "markdown",
   "metadata": {},
   "source": [
    "## Creating files"
   ]
  },
  {
   "cell_type": "code",
   "execution_count": 3,
   "metadata": {},
   "outputs": [],
   "source": [
    "testname = \"test_mostly_appends_dense\"\n",
    "num_transactions = [50, 100, 200]\n",
    "num_rows_initial = 30"
   ]
  },
  {
   "cell_type": "markdown",
   "metadata": {},
   "source": [
    "Create new file with `num_transactions` versions:"
   ]
  },
  {
   "cell_type": "code",
   "execution_count": 4,
   "metadata": {},
   "outputs": [],
   "source": [
    "def time_create(n):\n",
    "    t0 = time.time()\n",
    "    TestVersionedDatasetPerformance().test_mostly_appends_dense(n)\n",
    "    t = time.time()-t0\n",
    "    return t"
   ]
  },
  {
   "cell_type": "code",
   "execution_count": 5,
   "metadata": {},
   "outputs": [
    {
     "name": "stdout",
     "output_type": "stream",
     "text": [
      "0.7160508632659912\n",
      "2.5659000873565674\n",
      "9.726256608963013\n"
     ]
    }
   ],
   "source": [
    "for n in num_transactions:\n",
    "    print(time_create(n))"
   ]
  },
  {
   "cell_type": "code",
   "execution_count": 6,
   "metadata": {},
   "outputs": [],
   "source": [
    "tests = []\n",
    "for n in num_transactions:\n",
    "    filename = f\"{testname}_{n}.h5\"\n",
    "    h5pyfile = h5py.File(filename, 'r+')\n",
    "    vfile = VersionedHDF5File(h5pyfile)\n",
    "    tests.append(dict(num_transactions=n, filename=filename, h5pyfile=h5pyfile, vfile=vfile))"
   ]
  },
  {
   "cell_type": "markdown",
   "metadata": {},
   "source": [
    "## Adding new version to existing set"
   ]
  },
  {
   "cell_type": "code",
   "execution_count": 7,
   "metadata": {},
   "outputs": [],
   "source": [
    "def add_version(vfile):\n",
    "    tt = datetime.datetime.utcnow()\n",
    "    with vfile.stage_version(str(tt)) as group:\n",
    "        key0 = group.create_dataset(testname + '/key0', data=np.random.rand(num_rows_initial), dtype=(np.dtype('int64')))\n",
    "        key1 = group.create_dataset(testname + '/key1', data=np.random.rand(num_rows_initial), dtype=(np.dtype('int64')))\n",
    "        val = group.create_dataset(testname + '/val', data=np.random.rand(num_rows_initial), dtype=(np.dtype('float64')))"
   ]
  },
  {
   "cell_type": "code",
   "execution_count": 8,
   "metadata": {
    "scrolled": true
   },
   "outputs": [
    {
     "name": "stdout",
     "output_type": "stream",
     "text": [
      "0.040671586990356445\n",
      "0.049040794372558594\n",
      "0.07277536392211914\n"
     ]
    }
   ],
   "source": [
    "for test in tests:\n",
    "    t0 = time.time()\n",
    "    add_version(test['vfile'])\n",
    "    t = time.time()-t0\n",
    "    print(t)"
   ]
  },
  {
   "cell_type": "code",
   "execution_count": 9,
   "metadata": {},
   "outputs": [],
   "source": [
    "for test in tests:\n",
    "    test['h5pyfile'].close()"
   ]
  },
  {
   "cell_type": "markdown",
   "metadata": {},
   "source": [
    "## Reading in sequential mode"
   ]
  },
  {
   "cell_type": "code",
   "execution_count": 10,
   "metadata": {},
   "outputs": [],
   "source": [
    "for test in tests:\n",
    "    test['h5pyfile'] = h5py.File(filename, 'r')\n",
    "    test['vfile'] = VersionedHDF5File(test['h5pyfile'])"
   ]
  },
  {
   "cell_type": "code",
   "execution_count": 11,
   "metadata": {},
   "outputs": [],
   "source": [
    "def read_data(vfile):\n",
    "    for vname in vfile._versions:\n",
    "        if vname != '__first_version__':\n",
    "            version = vfile[vname]\n",
    "            group_key = list(version.keys())[0]\n",
    "            val = version[group_key]['val']"
   ]
  },
  {
   "cell_type": "code",
   "execution_count": 12,
   "metadata": {},
   "outputs": [
    {
     "name": "stdout",
     "output_type": "stream",
     "text": [
      "0.6777133941650391\n",
      "0.6043143272399902\n",
      "0.6347177028656006\n"
     ]
    }
   ],
   "source": [
    "for test in tests:\n",
    "    t0 = time.time()\n",
    "    read_data(test['vfile'])\n",
    "    t = time.time()-t0\n",
    "    print(t)"
   ]
  },
  {
   "cell_type": "markdown",
   "metadata": {},
   "source": [
    "## Reading specific version"
   ]
  },
  {
   "cell_type": "code",
   "execution_count": 13,
   "metadata": {},
   "outputs": [],
   "source": [
    "def read_version(vfile):\n",
    "    N = len(vfile._versions.keys())\n",
    "    index = np.random.randint(0, N)\n",
    "    vname = list(vfile._versions.keys())[index]\n",
    "    return vname"
   ]
  },
  {
   "cell_type": "code",
   "execution_count": 14,
   "metadata": {
    "scrolled": true
   },
   "outputs": [
    {
     "name": "stdout",
     "output_type": "stream",
     "text": [
      "0.0023703575134277344\n",
      "0.0009565353393554688\n",
      "0.003654956817626953\n"
     ]
    }
   ],
   "source": [
    "for test in tests:\n",
    "    vname = read_version(test['vfile'])\n",
    "    if vname != '__first_version__':\n",
    "        t0 = time.time()\n",
    "        version = test['vfile'][vname]\n",
    "        group_key = list(version.keys())[0]\n",
    "        val = version[group_key]['val']\n",
    "        t = time.time()-t0\n",
    "        print(t)"
   ]
  },
  {
   "cell_type": "markdown",
   "metadata": {},
   "source": [
    "## Finishing up"
   ]
  },
  {
   "cell_type": "code",
   "execution_count": 15,
   "metadata": {},
   "outputs": [],
   "source": [
    "for test in tests:\n",
    "    test['h5pyfile'].close()"
   ]
  },
  {
   "cell_type": "code",
   "execution_count": null,
   "metadata": {},
   "outputs": [],
   "source": []
  }
 ],
 "metadata": {
  "kernelspec": {
   "display_name": "Python 3",
   "language": "python",
   "name": "python3"
  },
  "language_info": {
   "codemirror_mode": {
    "name": "ipython",
    "version": 3
   },
   "file_extension": ".py",
   "mimetype": "text/x-python",
   "name": "python",
   "nbconvert_exporter": "python",
   "pygments_lexer": "ipython3",
   "version": "3.8.1"
  }
 },
 "nbformat": 4,
 "nbformat_minor": 4
}
