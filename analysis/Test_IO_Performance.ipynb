{
 "cells": [
  {
   "cell_type": "markdown",
   "metadata": {},
   "source": [
    "# I/O Performance for Versioned-HDF5 Files"
   ]
  },
  {
   "cell_type": "markdown",
   "metadata": {},
   "source": [
    "For these tests, we have generated `.h5` data files using the `generate_data_deterministic.py` script from the [VersionedHDF5 repository](https://github.com/Quansight/versioned-hdf5), using the standard options ([see details here](#standard))\n",
    "\n",
    "We performed the following tests:\n",
    "1. [Test Large Fraction Changes Sparse](#test1)\n",
    "2. [Test Mostly Appends Sparse](#test2)\n",
    "3. [Test Small Fraction Changes Sparse](#test3)\n",
    "4. [Test Mostly Appends Dense](#test4)\n",
    "5. [Test Large Fraction Changes (Constant Array Size) Sparse](#test5)\n",
    "\n",
    "**These tests were last run on**"
   ]
  },
  {
   "cell_type": "code",
   "execution_count": null,
   "metadata": {},
   "outputs": [],
   "source": [
    "from datetime import datetime\n",
    "print(datetime.utcnow(), \"UTC\")"
   ]
  },
  {
   "cell_type": "markdown",
   "metadata": {},
   "source": [
    "# Setup"
   ]
  },
  {
   "cell_type": "markdown",
   "metadata": {},
   "source": [
    "The path to the generated test files is"
   ]
  },
  {
   "cell_type": "code",
   "execution_count": null,
   "metadata": {},
   "outputs": [],
   "source": [
    "path = \"/home/melissa/projects/versioned-hdf5/analysis\" # change this as necessary"
   ]
  },
  {
   "cell_type": "code",
   "execution_count": null,
   "metadata": {},
   "outputs": [],
   "source": [
    "import h5py\n",
    "import json\n",
    "import time\n",
    "import numpy as np\n",
    "import performance_tests\n",
    "import matplotlib.pyplot as plt\n",
    "from versioned_hdf5 import VersionedHDF5File"
   ]
  },
  {
   "cell_type": "markdown",
   "metadata": {},
   "source": [
    "<a id='test1'></a>\n",
    "\n",
    "# Test 1: Large Fraction Changes (Sparse)"
   ]
  },
  {
   "cell_type": "code",
   "execution_count": null,
   "metadata": {},
   "outputs": [],
   "source": [
    "testname = \"test_large_fraction_changes_sparse\""
   ]
  },
  {
   "cell_type": "markdown",
   "metadata": {},
   "source": [
    "## Reading in sequential mode"
   ]
  },
  {
   "cell_type": "markdown",
   "metadata": {},
   "source": [
    "For this test, we'll read data from all versions in a file, sequentially. "
   ]
  },
  {
   "cell_type": "code",
   "execution_count": null,
   "metadata": {},
   "outputs": [],
   "source": [
    "def read_times(filename):\n",
    "    h5pyfile = h5py.File(filename, 'r+')\n",
    "    vfile = VersionedHDF5File(h5pyfile)\n",
    "    t0 = time.time()\n",
    "    for vname in vfile._versions:\n",
    "        if vname != '__first_version__':\n",
    "            version = vfile[vname]\n",
    "            group_key = list(version.keys())[0]\n",
    "            val = version[group_key]['val']\n",
    "    t = time.time()-t0\n",
    "    h5pyfile.close()\n",
    "    return t"
   ]
  },
  {
   "cell_type": "code",
   "execution_count": null,
   "metadata": {},
   "outputs": [],
   "source": [
    "%timeit read_times(f\"{testname}_50_14_None.h5\")"
   ]
  },
  {
   "cell_type": "code",
   "execution_count": null,
   "metadata": {},
   "outputs": [],
   "source": [
    "%timeit read_times(f\"{testname}_100_14_None.h5\")"
   ]
  },
  {
   "cell_type": "code",
   "execution_count": null,
   "metadata": {},
   "outputs": [],
   "source": [
    "%timeit read_times(f\"{testname}_500_14_None.h5\")"
   ]
  },
  {
   "cell_type": "code",
   "execution_count": null,
   "metadata": {},
   "outputs": [],
   "source": [
    "%timeit read_times(f\"{testname}_1000_14_None.h5\")"
   ]
  },
  {
   "cell_type": "code",
   "execution_count": null,
   "metadata": {},
   "outputs": [],
   "source": [
    "%timeit read_times(f\"{testname}_5000_14_None.h5\")"
   ]
  },
  {
   "cell_type": "code",
   "execution_count": null,
   "metadata": {},
   "outputs": [],
   "source": [
    "%timeit read_times(f\"{testname}_10000_14_None.h5\")"
   ]
  },
  {
   "cell_type": "code",
   "execution_count": null,
   "metadata": {},
   "outputs": [],
   "source": [
    "rtimes = []\n",
    "num_transactions = [50, 100, 500, 1000, 5000, 10000]\n",
    "for n in num_transactions:\n",
    "    filename = f\"{testname}_{n}_14_None.h5\"\n",
    "    rtimes.append(read_times(filename))\n",
    "    \n",
    "plt.plot(num_transactions, rtimes, 'o-')\n",
    "selected = [0, 3, 4, 5]\n",
    "plt.xticks(np.array(num_transactions)[selected])\n",
    "plt.title(f\"Sequential read time (in sec) for {testname}\")\n",
    "plt.xlabel(\"Number of transactions\")\n",
    "plt.show()"
   ]
  },
  {
   "cell_type": "markdown",
   "metadata": {},
   "source": [
    "As expected, read times increase for files with a larger number of versions, but the growth is close to linear."
   ]
  },
  {
   "cell_type": "markdown",
   "metadata": {},
   "source": [
    "## Reading specific version"
   ]
  },
  {
   "cell_type": "markdown",
   "metadata": {},
   "source": [
    "For this test, we'll compute the times required to read a specific version from the versioned-hdf5 file. \n",
    "\n",
    "**Note**. Although possible, it is not recommended to read versions using integer indexing as the performance of reading versions from their name it far superior."
   ]
  },
  {
   "cell_type": "code",
   "execution_count": null,
   "metadata": {},
   "outputs": [],
   "source": [
    "def read_version(filename, n):\n",
    "    # Open file to read version\n",
    "    h5pyfile = h5py.File(filename, 'r+')\n",
    "    vfile = VersionedHDF5File(h5pyfile)\n",
    "    # If you want to choose a version at random,\n",
    "    # N = len(vfile._versions.keys())\n",
    "    # index = np.random.randint(0, N)\n",
    "    index = n // 2\n",
    "    vname = list(vfile._versions.keys())[index]\n",
    "    t0 = time.time()\n",
    "    version = vfile[vname]\n",
    "    # Do not use the syntax below for performance reasons:\n",
    "    #version = vfile[-index]\n",
    "    group_key = list(version.keys())[0]\n",
    "    val = version[group_key]['val']\n",
    "    t = time.time()-t0\n",
    "    h5pyfile.close()\n",
    "    return t"
   ]
  },
  {
   "cell_type": "code",
   "execution_count": null,
   "metadata": {},
   "outputs": [],
   "source": [
    "%timeit read_version(f\"{testname}_10000_14_None.h5\", 10000)"
   ]
  },
  {
   "cell_type": "code",
   "execution_count": null,
   "metadata": {},
   "outputs": [],
   "source": [
    "tests = [f\"{testname}_50_14_None.h5\",\n",
    "         f\"{testname}_100_14_None.h5\",\n",
    "         f\"{testname}_500_14_None.h5\",\n",
    "         f\"{testname}_1000_14_None.h5\",\n",
    "         f\"{testname}_5000_14_None.h5\",\n",
    "         f\"{testname}_10000_14_None.h5\"]"
   ]
  },
  {
   "cell_type": "code",
   "execution_count": null,
   "metadata": {},
   "outputs": [],
   "source": [
    "num_transactions = [50, 100, 500, 1000, 5000, 10000]\n",
    "\n",
    "for _ in range(50):\n",
    "    vtimes = []\n",
    "    for i in range(6):\n",
    "        filename = tests[i]\n",
    "        n = num_transactions[i]\n",
    "        vtimes.append(read_version(filename, n))\n",
    "    plt.plot(num_transactions, vtimes, '*-')\n",
    "\n",
    "plt.xticks(num_transactions)\n",
    "plt.title(f\"Time (in sec) to read random version for {testname}\")\n",
    "plt.xlabel(\"Number of transactions\")\n",
    "plt.show()"
   ]
  },
  {
   "cell_type": "markdown",
   "metadata": {},
   "source": [
    "From this test, it is clear that reading an arbitrary version from the file is not affected by the number of versions in the file."
   ]
  },
  {
   "cell_type": "markdown",
   "metadata": {},
   "source": [
    "## Reading latest version vs. reading first version"
   ]
  },
  {
   "cell_type": "code",
   "execution_count": null,
   "metadata": {},
   "outputs": [],
   "source": [
    "def read_first(filename):\n",
    "    # Open file to read version\n",
    "    h5pyfile = h5py.File(filename, 'r+')\n",
    "    vfile = VersionedHDF5File(h5pyfile)\n",
    "    t0 = time.time()\n",
    "    version = vfile['initial_version']\n",
    "    group_key = list(version.keys())[0]\n",
    "    val = version[group_key]['val']\n",
    "    t = time.time()-t0\n",
    "    h5pyfile.close()\n",
    "    return t"
   ]
  },
  {
   "cell_type": "code",
   "execution_count": null,
   "metadata": {},
   "outputs": [],
   "source": [
    "print(read_first(f\"{testname}_10000_14_None.h5\"))"
   ]
  },
  {
   "cell_type": "code",
   "execution_count": null,
   "metadata": {},
   "outputs": [],
   "source": [
    "result = %timeit -o read_first(f\"{testname}_10000_14_None.h5\")"
   ]
  },
  {
   "cell_type": "code",
   "execution_count": null,
   "metadata": {},
   "outputs": [],
   "source": [
    "num_transactions = [50, 100, 500, 1000, 5000, 10000]\n",
    "for _ in range(50):\n",
    "    ftimes = []\n",
    "    for i in range(6):\n",
    "        filename = tests[i]\n",
    "        n = num_transactions[i]\n",
    "        ftimes.append(read_first(filename))\n",
    "    \n",
    "    plt.plot(num_transactions, ftimes, '*-')\n",
    "    \n",
    "plt.xticks(num_transactions)\n",
    "plt.title(f\"Time (in sec) to read first version for {testname}\")\n",
    "plt.legend([\"first\", \"second\", \"third\"])\n",
    "plt.xlabel(\"Number of transactions\")\n",
    "plt.show()"
   ]
  },
  {
   "cell_type": "code",
   "execution_count": null,
   "metadata": {},
   "outputs": [],
   "source": [
    "def read_last(filename):\n",
    "    # Open file to read version\n",
    "    h5pyfile = h5py.File(filename, 'r+')\n",
    "    vfile = VersionedHDF5File(h5pyfile)\n",
    "    t0 = time.time()\n",
    "    #\n",
    "    # Current version is 0\n",
    "    # This is the same as \n",
    "    # version = vfile[vfile._versions.attrs['current_version']]\n",
    "    #\n",
    "    version = vfile[0]\n",
    "    group_key = list(version.keys())[0]\n",
    "    val = version[group_key]['val']\n",
    "    t = time.time()-t0\n",
    "    h5pyfile.close()\n",
    "    return t"
   ]
  },
  {
   "cell_type": "code",
   "execution_count": null,
   "metadata": {},
   "outputs": [],
   "source": [
    "print(read_last(f\"{testname}_10000_14_None.h5\"))"
   ]
  },
  {
   "cell_type": "code",
   "execution_count": null,
   "metadata": {},
   "outputs": [],
   "source": [
    "result = %timeit read_last(f\"{testname}_10000_14_None.h5\")"
   ]
  },
  {
   "cell_type": "code",
   "execution_count": null,
   "metadata": {},
   "outputs": [],
   "source": [
    "def read_no_versions(filename):\n",
    "    # Open file to read version\n",
    "    h5pyfile = h5py.File(filename, 'r+')\n",
    "    t0 = time.time()\n",
    "    val = h5pyfile[list(h5pyfile.keys())[0]]['val']\n",
    "    t = time.time()-t0\n",
    "    h5pyfile.close()\n",
    "    return t"
   ]
  },
  {
   "cell_type": "code",
   "execution_count": null,
   "metadata": {},
   "outputs": [],
   "source": [
    "result = %timeit read_no_versions(f\"{testname}_10000_14_None_no_versions.h5\")"
   ]
  },
  {
   "cell_type": "code",
   "execution_count": null,
   "metadata": {},
   "outputs": [],
   "source": [
    "tests_no_versions = [f\"{testname}_50_14_None_no_versions.h5\",\n",
    "                     f\"{testname}_100_14_None_no_versions.h5\",\n",
    "                     f\"{testname}_500_14_None_no_versions.h5\",\n",
    "                     f\"{testname}_1000_14_None_no_versions.h5\",\n",
    "                     f\"{testname}_5000_14_None_no_versions.h5\",\n",
    "                     f\"{testname}_10000_14_None_no_versions.h5\"]"
   ]
  },
  {
   "cell_type": "code",
   "execution_count": null,
   "metadata": {},
   "outputs": [],
   "source": [
    "num_transactions = [50, 100, 500, 1000, 5000, 10000]\n",
    "\n",
    "for _ in range(50):\n",
    "    ltimes = []\n",
    "    for i in range(6):\n",
    "        filename = tests[i]\n",
    "        n = num_transactions[i]\n",
    "        ltimes.append(read_last(filename))\n",
    "    plt.plot(num_transactions, ltimes, '*-')    \n",
    "    \n",
    "notimes = []\n",
    "for i in range(6):\n",
    "    filename = tests_no_versions[i]\n",
    "    n = num_transactions[i]\n",
    "    notimes.append(read_no_versions(filename))\n",
    "    \n",
    "plt.plot(num_transactions, notimes, 'ko-', ms=6)\n",
    "plt.xticks(np.array(num_transactions)[selected])\n",
    "plt.title(f\"Time (in sec) to read latest version for {testname}\")\n",
    "plt.legend([\"first\", \"second\", \"third\"])\n",
    "plt.xlabel(\"Number of transactions\")\n",
    "plt.show()"
   ]
  },
  {
   "cell_type": "markdown",
   "metadata": {},
   "source": [
    "In this case, we can see that:\n",
    "- reading the latest version is not as performant as reading an unversioned file;\n",
    "- the time required to read the latest version from a Versioned HDF5 file increases modestly with the number of versions stored in the file."
   ]
  },
  {
   "cell_type": "markdown",
   "metadata": {},
   "source": [
    "<a id='test2'></a>\n",
    "\n",
    "# Test 2: Mostly appends (Sparse)"
   ]
  },
  {
   "cell_type": "code",
   "execution_count": null,
   "metadata": {},
   "outputs": [],
   "source": [
    "testname = \"test_mostly_appends_sparse\""
   ]
  },
  {
   "cell_type": "markdown",
   "metadata": {},
   "source": [
    "## Reading in sequential mode"
   ]
  },
  {
   "cell_type": "markdown",
   "metadata": {},
   "source": [
    "If we read data from each version of the file, sequentially, we obtain the following:"
   ]
  },
  {
   "cell_type": "code",
   "execution_count": null,
   "metadata": {},
   "outputs": [],
   "source": [
    "%timeit read_times(f\"{testname}_50_14_None.h5\")"
   ]
  },
  {
   "cell_type": "code",
   "execution_count": null,
   "metadata": {},
   "outputs": [],
   "source": [
    "%timeit read_times(f\"{testname}_100_14_None.h5\")"
   ]
  },
  {
   "cell_type": "code",
   "execution_count": null,
   "metadata": {},
   "outputs": [],
   "source": [
    "%timeit read_times(f\"{testname}_500_14_None.h5\")"
   ]
  },
  {
   "cell_type": "code",
   "execution_count": null,
   "metadata": {},
   "outputs": [],
   "source": [
    "%timeit read_times(f\"{testname}_1000_14_None.h5\")"
   ]
  },
  {
   "cell_type": "markdown",
   "metadata": {},
   "source": [
    "Again, as we expected, read times increase (this time, quadratically) with the increase in the number of versions."
   ]
  },
  {
   "cell_type": "code",
   "execution_count": null,
   "metadata": {},
   "outputs": [],
   "source": [
    "rtimes = []\n",
    "num_transactions = [50, 100, 500, 1000]\n",
    "for n in num_transactions:\n",
    "    filename = f\"{testname}_{n}_14_None.h5\"\n",
    "    rtimes.append(read_times(filename))\n",
    "    \n",
    "plt.plot(num_transactions, rtimes, 'o-')\n",
    "selected = [0, 1, 2, 3]\n",
    "plt.xticks(np.array(num_transactions)[selected])\n",
    "plt.title(f\"Sequential read time (in sec) for {testname}\")\n",
    "plt.xlabel(\"Number of transactions\")\n",
    "plt.show()"
   ]
  },
  {
   "cell_type": "markdown",
   "metadata": {},
   "source": [
    "## Reading specific version"
   ]
  },
  {
   "cell_type": "markdown",
   "metadata": {},
   "source": [
    "Now, let's see the times required to read a specific version from each file."
   ]
  },
  {
   "cell_type": "code",
   "execution_count": null,
   "metadata": {
    "scrolled": true
   },
   "outputs": [],
   "source": [
    "%timeit read_version(f\"{testname}_1000_14_None.h5\", 500)"
   ]
  },
  {
   "cell_type": "markdown",
   "metadata": {},
   "source": [
    "Similarly to what we observed in the first example, the number of versions in the file does not affect the time needed to read a specific version."
   ]
  },
  {
   "cell_type": "code",
   "execution_count": null,
   "metadata": {},
   "outputs": [],
   "source": [
    "tests = [f\"{testname}_50_14_None.h5\",\n",
    "         f\"{testname}_100_14_None.h5\",\n",
    "         f\"{testname}_500_14_None.h5\",\n",
    "         f\"{testname}_1000_14_None.h5\"]"
   ]
  },
  {
   "cell_type": "code",
   "execution_count": null,
   "metadata": {},
   "outputs": [],
   "source": [
    "num_transactions = [50, 100, 500, 1000]\n",
    "\n",
    "for _ in range(50):\n",
    "    vtimes = []\n",
    "    for i in range(4):\n",
    "        filename = tests[i]\n",
    "        n = num_transactions[i]\n",
    "        vtimes.append(read_version(filename, n))\n",
    "    plt.plot(num_transactions, vtimes, '*-')\n",
    "\n",
    "plt.xticks(num_transactions)\n",
    "plt.title(f\"Time (in sec) to read random version for {testname}\")\n",
    "plt.xlabel(\"Number of transactions\")\n",
    "plt.show()"
   ]
  },
  {
   "cell_type": "markdown",
   "metadata": {},
   "source": [
    "## Reading latest version vs. reading first version"
   ]
  },
  {
   "cell_type": "code",
   "execution_count": null,
   "metadata": {},
   "outputs": [],
   "source": [
    "print(read_first(f\"{testname}_1000_14_None.h5\"))"
   ]
  },
  {
   "cell_type": "code",
   "execution_count": null,
   "metadata": {},
   "outputs": [],
   "source": [
    "result = %timeit -o read_first(f\"{testname}_1000_14_None.h5\")"
   ]
  },
  {
   "cell_type": "code",
   "execution_count": null,
   "metadata": {},
   "outputs": [],
   "source": [
    "num_transactions = [50, 100, 500, 1000]\n",
    "for _ in range(50):\n",
    "    ftimes = []\n",
    "    for i in range(4):\n",
    "        filename = tests[i]\n",
    "        n = num_transactions[i]\n",
    "        ftimes.append(read_first(filename))\n",
    "    \n",
    "    plt.plot(num_transactions, ftimes, '*-')\n",
    "    \n",
    "plt.xticks(num_transactions)\n",
    "plt.title(f\"Time (in sec) to read first version for {testname}\")\n",
    "plt.xlabel(\"Number of transactions\")\n",
    "plt.show()"
   ]
  },
  {
   "cell_type": "code",
   "execution_count": null,
   "metadata": {},
   "outputs": [],
   "source": [
    "print(read_last(f\"{testname}_1000_14_None.h5\"))"
   ]
  },
  {
   "cell_type": "code",
   "execution_count": null,
   "metadata": {},
   "outputs": [],
   "source": [
    "result = %timeit read_no_versions(f\"{testname}_1000_14_None_no_versions.h5\")"
   ]
  },
  {
   "cell_type": "code",
   "execution_count": null,
   "metadata": {},
   "outputs": [],
   "source": [
    "tests_no_versions = [f\"{testname}_50_14_None_no_versions.h5\",\n",
    "                     f\"{testname}_100_14_None_no_versions.h5\",\n",
    "                     f\"{testname}_500_14_None_no_versions.h5\",\n",
    "                     f\"{testname}_1000_14_None_no_versions.h5\"]"
   ]
  },
  {
   "cell_type": "code",
   "execution_count": null,
   "metadata": {},
   "outputs": [],
   "source": [
    "num_transactions = [50, 100, 500, 1000]\n",
    "\n",
    "for _ in range(50):\n",
    "    ltimes = []\n",
    "    for i in range(4):\n",
    "        filename = tests[i]\n",
    "        n = num_transactions[i]\n",
    "        ltimes.append(read_last(filename))\n",
    "    plt.plot(num_transactions, ltimes, '*-')    \n",
    "    \n",
    "notimes = []\n",
    "for i in range(4):\n",
    "    filename = tests_no_versions[i]\n",
    "    n = num_transactions[i]\n",
    "    notimes.append(read_no_versions(filename))\n",
    "    \n",
    "plt.plot(num_transactions, notimes, 'ko-', ms=6)\n",
    "plt.xticks(np.array(num_transactions)[selected])\n",
    "plt.title(f\"Time (in sec) to read latest version for {testname}\")\n",
    "plt.xlabel(\"Number of transactions\")\n",
    "plt.show()"
   ]
  },
  {
   "cell_type": "markdown",
   "metadata": {},
   "source": [
    "<a id='test3'></a>\n",
    "\n",
    "# Test 3: Small Fraction Changes (Sparse)"
   ]
  },
  {
   "cell_type": "code",
   "execution_count": null,
   "metadata": {},
   "outputs": [],
   "source": [
    "testname = \"test_small_fraction_changes_sparse\""
   ]
  },
  {
   "cell_type": "markdown",
   "metadata": {},
   "source": [
    "## Reading in sequential mode"
   ]
  },
  {
   "cell_type": "code",
   "execution_count": null,
   "metadata": {},
   "outputs": [],
   "source": [
    "%timeit read_times(f\"{testname}_50_14_None.h5\")"
   ]
  },
  {
   "cell_type": "code",
   "execution_count": null,
   "metadata": {},
   "outputs": [],
   "source": [
    "%timeit read_times(f\"{testname}_100_14_None.h5\")"
   ]
  },
  {
   "cell_type": "code",
   "execution_count": null,
   "metadata": {},
   "outputs": [],
   "source": [
    "%timeit read_times(f\"{testname}_500_14_None.h5\")"
   ]
  },
  {
   "cell_type": "code",
   "execution_count": null,
   "metadata": {},
   "outputs": [],
   "source": [
    "%timeit read_times(f\"{testname}_1000_14_None.h5\")"
   ]
  },
  {
   "cell_type": "code",
   "execution_count": null,
   "metadata": {},
   "outputs": [],
   "source": [
    "%timeit read_times(f\"{testname}_5000_14_None.h5\")"
   ]
  },
  {
   "cell_type": "code",
   "execution_count": null,
   "metadata": {},
   "outputs": [],
   "source": [
    "%timeit read_times(f\"{testname}_10000_14_None.h5\")"
   ]
  },
  {
   "cell_type": "code",
   "execution_count": null,
   "metadata": {},
   "outputs": [],
   "source": [
    "rtimes = []\n",
    "num_transactions = [50, 100, 500, 1000, 5000, 10000]\n",
    "for n in num_transactions:\n",
    "    filename = f\"{testname}_{n}_14_None.h5\"\n",
    "    rtimes.append(read_times(filename))\n",
    "    \n",
    "plt.plot(num_transactions, rtimes, 'o-')\n",
    "selected = [0, 3, 4, 5]\n",
    "plt.xticks(np.array(num_transactions)[selected])\n",
    "plt.title(f\"Sequential read time (in sec) for {testname}\")\n",
    "plt.xlabel(\"Number of transactions\")\n",
    "plt.show()"
   ]
  },
  {
   "cell_type": "markdown",
   "metadata": {},
   "source": [
    "## Reading specific version"
   ]
  },
  {
   "cell_type": "markdown",
   "metadata": {},
   "source": [
    "The times required to read a specific version from each file are similarly unnaffected by the number of existing versions in the file."
   ]
  },
  {
   "cell_type": "code",
   "execution_count": null,
   "metadata": {
    "scrolled": true
   },
   "outputs": [],
   "source": [
    "%timeit read_version(f\"{testname}_10000_14_None.h5\", 10000)  "
   ]
  },
  {
   "cell_type": "code",
   "execution_count": null,
   "metadata": {},
   "outputs": [],
   "source": [
    "tests = [f\"{testname}_50_14_None.h5\",\n",
    "         f\"{testname}_100_14_None.h5\",\n",
    "         f\"{testname}_500_14_None.h5\",\n",
    "         f\"{testname}_1000_14_None.h5\",\n",
    "         f\"{testname}_5000_14_None.h5\",\n",
    "         f\"{testname}_10000_14_None.h5\"]"
   ]
  },
  {
   "cell_type": "code",
   "execution_count": null,
   "metadata": {},
   "outputs": [],
   "source": [
    "num_transactions = [50, 100, 500, 1000, 5000, 10000]\n",
    "\n",
    "for _ in range(50):\n",
    "    vtimes = []\n",
    "    for i in range(6):\n",
    "        filename = tests[i]\n",
    "        n = num_transactions[i]\n",
    "        vtimes.append(read_version(filename, n))\n",
    "    plt.plot(num_transactions, vtimes, '*-')\n",
    "\n",
    "plt.xticks(num_transactions)\n",
    "plt.title(f\"Time (in sec) to read random version for {testname}\")\n",
    "plt.xlabel(\"Number of transactions\")\n",
    "plt.show()"
   ]
  },
  {
   "cell_type": "markdown",
   "metadata": {},
   "source": [
    "From this test, it is clear that reading an arbitrary version from the file is not affected by the number of versions in the file."
   ]
  },
  {
   "cell_type": "markdown",
   "metadata": {},
   "source": [
    "## Reading latest version vs. reading first version"
   ]
  },
  {
   "cell_type": "code",
   "execution_count": null,
   "metadata": {},
   "outputs": [],
   "source": [
    "print(read_first(f\"{testname}_10000_14_None.h5\"))"
   ]
  },
  {
   "cell_type": "code",
   "execution_count": null,
   "metadata": {},
   "outputs": [],
   "source": [
    "result = %timeit -o read_first(f\"{testname}_10000_14_None.h5\")"
   ]
  },
  {
   "cell_type": "code",
   "execution_count": null,
   "metadata": {},
   "outputs": [],
   "source": [
    "num_transactions = [50, 100, 500, 1000, 5000, 10000]\n",
    "for _ in range(50):\n",
    "    ftimes = []\n",
    "    for i in range(6):\n",
    "        filename = tests[i]\n",
    "        n = num_transactions[i]\n",
    "        ftimes.append(read_first(filename))\n",
    "    \n",
    "    plt.plot(num_transactions, ftimes, '*-')\n",
    "    \n",
    "plt.xticks(num_transactions)\n",
    "plt.title(f\"Time (in sec) to read first version for {testname}\")\n",
    "plt.xlabel(\"Number of transactions\")\n",
    "plt.show()"
   ]
  },
  {
   "cell_type": "code",
   "execution_count": null,
   "metadata": {},
   "outputs": [],
   "source": [
    "print(read_last(f\"{testname}_10000_14_None.h5\"))"
   ]
  },
  {
   "cell_type": "code",
   "execution_count": null,
   "metadata": {},
   "outputs": [],
   "source": [
    "result = %timeit read_last(f\"{testname}_10000_14_None.h5\")"
   ]
  },
  {
   "cell_type": "code",
   "execution_count": null,
   "metadata": {},
   "outputs": [],
   "source": [
    "result = %timeit read_no_versions(f\"{testname}_10000_14_None_no_versions.h5\")"
   ]
  },
  {
   "cell_type": "code",
   "execution_count": null,
   "metadata": {},
   "outputs": [],
   "source": [
    "tests_no_versions = [f\"{testname}_50_14_None_no_versions.h5\",\n",
    "                     f\"{testname}_100_14_None_no_versions.h5\",\n",
    "                     f\"{testname}_500_14_None_no_versions.h5\",\n",
    "                     f\"{testname}_1000_14_None_no_versions.h5\",\n",
    "                     f\"{testname}_5000_14_None_no_versions.h5\",\n",
    "                     f\"{testname}_10000_14_None_no_versions.h5\"]"
   ]
  },
  {
   "cell_type": "code",
   "execution_count": null,
   "metadata": {},
   "outputs": [],
   "source": [
    "num_transactions = [50, 100, 500, 1000, 5000, 10000]\n",
    "\n",
    "for _ in range(50):\n",
    "    ltimes = []\n",
    "    for i in range(6):\n",
    "        filename = tests[i]\n",
    "        n = num_transactions[i]\n",
    "        ltimes.append(read_last(filename))\n",
    "    plt.plot(num_transactions, ltimes, '*-')    \n",
    "    \n",
    "notimes = []\n",
    "for i in range(6):\n",
    "    filename = tests_no_versions[i]\n",
    "    n = num_transactions[i]\n",
    "    notimes.append(read_no_versions(filename))\n",
    "    \n",
    "plt.plot(num_transactions, notimes, 'ko-', ms=6)\n",
    "plt.xticks(np.array(num_transactions)[selected])\n",
    "plt.title(f\"Time (in sec) to read latest version for {testname}\")\n",
    "plt.xlabel(\"Number of transactions\")\n",
    "plt.show()"
   ]
  },
  {
   "cell_type": "markdown",
   "metadata": {},
   "source": [
    "In this case, we can see that:\n",
    "- reading the latest version is not as performant as reading an unversioned file;\n",
    "- the time required to read the latest version from a Versioned HDF5 file increases modestly with the number of versions stored in the file."
   ]
  },
  {
   "cell_type": "markdown",
   "metadata": {},
   "source": [
    "<a id='test4'></a>\n",
    "\n",
    "# Test 4: Mostly appends (Dense)"
   ]
  },
  {
   "cell_type": "markdown",
   "metadata": {},
   "source": [
    "Finally, we test"
   ]
  },
  {
   "cell_type": "code",
   "execution_count": null,
   "metadata": {},
   "outputs": [],
   "source": [
    "testname = \"test_mostly_appends_dense\""
   ]
  },
  {
   "cell_type": "markdown",
   "metadata": {},
   "source": [
    "## Reading in sequential mode"
   ]
  },
  {
   "cell_type": "markdown",
   "metadata": {},
   "source": [
    "Once again, we can see a quadratic behaviour on the graph, which is expected from the file sizes and the size of the arrays on each file."
   ]
  },
  {
   "cell_type": "code",
   "execution_count": null,
   "metadata": {},
   "outputs": [],
   "source": [
    "%timeit read_times(f\"{testname}_50_14_None.h5\")"
   ]
  },
  {
   "cell_type": "code",
   "execution_count": null,
   "metadata": {},
   "outputs": [],
   "source": [
    "%timeit read_times(f\"{testname}_100_14_None.h5\")"
   ]
  },
  {
   "cell_type": "code",
   "execution_count": null,
   "metadata": {},
   "outputs": [],
   "source": [
    "%timeit read_times(f\"{testname}_500_14_None.h5\")"
   ]
  },
  {
   "cell_type": "code",
   "execution_count": null,
   "metadata": {},
   "outputs": [],
   "source": [
    "%timeit read_times(f\"{testname}_1000_14_None.h5\")"
   ]
  },
  {
   "cell_type": "markdown",
   "metadata": {},
   "source": [
    "Again, as we expected, read times increase (this time, quadratically) with the increase in the number of versions."
   ]
  },
  {
   "cell_type": "code",
   "execution_count": null,
   "metadata": {},
   "outputs": [],
   "source": [
    "rtimes = []\n",
    "num_transactions = [50, 100, 500, 1000]\n",
    "for n in num_transactions:\n",
    "    filename = f\"{testname}_{n}_14_None.h5\"\n",
    "    rtimes.append(read_times(filename))\n",
    "    \n",
    "plt.plot(num_transactions, rtimes, 'o-')\n",
    "selected = [0, 1, 2, 3]\n",
    "plt.xticks(np.array(num_transactions)[selected])\n",
    "plt.title(f\"Sequential read time (in sec) for {testname}\")\n",
    "plt.xlabel(\"Number of transactions\")\n",
    "plt.show()"
   ]
  },
  {
   "cell_type": "markdown",
   "metadata": {},
   "source": [
    "## Reading specific version"
   ]
  },
  {
   "cell_type": "markdown",
   "metadata": {},
   "source": [
    "Now, let's see the times required to read a specific version from each file."
   ]
  },
  {
   "cell_type": "code",
   "execution_count": null,
   "metadata": {
    "scrolled": true
   },
   "outputs": [],
   "source": [
    "%timeit read_version(f\"{testname}_1000_14_None.h5\", 500)"
   ]
  },
  {
   "cell_type": "markdown",
   "metadata": {},
   "source": [
    "Similarly to what we observed in the first example, the number of versions in the file does not affect the time needed to read a specific version."
   ]
  },
  {
   "cell_type": "code",
   "execution_count": null,
   "metadata": {},
   "outputs": [],
   "source": [
    "tests = [f\"{testname}_50_14_None.h5\",\n",
    "         f\"{testname}_100_14_None.h5\",\n",
    "         f\"{testname}_500_14_None.h5\",\n",
    "         f\"{testname}_1000_14_None.h5\"]"
   ]
  },
  {
   "cell_type": "code",
   "execution_count": null,
   "metadata": {},
   "outputs": [],
   "source": [
    "num_transactions = [50, 100, 500, 1000]\n",
    "\n",
    "for _ in range(50):\n",
    "    vtimes = []\n",
    "    for i in range(4):\n",
    "        filename = tests[i]\n",
    "        n = num_transactions[i]\n",
    "        vtimes.append(read_version(filename, n))\n",
    "    plt.plot(num_transactions, vtimes, '*-')\n",
    "\n",
    "plt.xticks(num_transactions)\n",
    "plt.title(f\"Time (in sec) to read random version for {testname}\")\n",
    "plt.xlabel(\"Number of transactions\")\n",
    "plt.show()"
   ]
  },
  {
   "cell_type": "markdown",
   "metadata": {},
   "source": [
    "## Reading latest version vs. reading first version"
   ]
  },
  {
   "cell_type": "code",
   "execution_count": null,
   "metadata": {},
   "outputs": [],
   "source": [
    "print(read_first(f\"{testname}_1000_14_None.h5\"))"
   ]
  },
  {
   "cell_type": "code",
   "execution_count": null,
   "metadata": {},
   "outputs": [],
   "source": [
    "result = %timeit -o read_first(f\"{testname}_1000_14_None.h5\")"
   ]
  },
  {
   "cell_type": "code",
   "execution_count": null,
   "metadata": {},
   "outputs": [],
   "source": [
    "num_transactions = [50, 100, 500, 1000]\n",
    "for _ in range(50):\n",
    "    ftimes = []\n",
    "    for i in range(4):\n",
    "        filename = tests[i]\n",
    "        n = num_transactions[i]\n",
    "        ftimes.append(read_first(filename))\n",
    "    \n",
    "    plt.plot(num_transactions, ftimes, '*-')\n",
    "    \n",
    "plt.xticks(num_transactions)\n",
    "plt.title(f\"Time (in sec) to read first version for {testname}\")\n",
    "plt.xlabel(\"Number of transactions\")\n",
    "plt.show()"
   ]
  },
  {
   "cell_type": "code",
   "execution_count": null,
   "metadata": {},
   "outputs": [],
   "source": [
    "print(read_last(f\"{testname}_1000_14_None.h5\"))"
   ]
  },
  {
   "cell_type": "code",
   "execution_count": null,
   "metadata": {},
   "outputs": [],
   "source": [
    "result = %timeit read_no_versions(f\"{testname}_1000_14_None_no_versions.h5\")"
   ]
  },
  {
   "cell_type": "code",
   "execution_count": null,
   "metadata": {},
   "outputs": [],
   "source": [
    "tests_no_versions = [f\"{testname}_50_14_None_no_versions.h5\",\n",
    "                     f\"{testname}_100_14_None_no_versions.h5\",\n",
    "                     f\"{testname}_500_14_None_no_versions.h5\",\n",
    "                     f\"{testname}_1000_14_None_no_versions.h5\"]"
   ]
  },
  {
   "cell_type": "code",
   "execution_count": null,
   "metadata": {},
   "outputs": [],
   "source": [
    "num_transactions = [50, 100, 500, 1000]\n",
    "\n",
    "for _ in range(50):\n",
    "    ltimes = []\n",
    "    for i in range(4):\n",
    "        filename = tests[i]\n",
    "        n = num_transactions[i]\n",
    "        ltimes.append(read_last(filename))\n",
    "    plt.plot(num_transactions, ltimes, '*-')    \n",
    "    \n",
    "notimes = []\n",
    "for i in range(4):\n",
    "    filename = tests_no_versions[i]\n",
    "    n = num_transactions[i]\n",
    "    notimes.append(read_no_versions(filename))\n",
    "    \n",
    "plt.plot(num_transactions, notimes, 'ko-', ms=6)\n",
    "plt.xticks(np.array(num_transactions)[selected])\n",
    "plt.title(f\"Time (in sec) to read latest version for {testname}\")\n",
    "plt.xlabel(\"Number of transactions\")\n",
    "plt.show()"
   ]
  },
  {
   "cell_type": "markdown",
   "metadata": {},
   "source": [
    "<a id='test5'></a>\n",
    "\n",
    "# Test 5: Large Fraction Changes (Sparse) - Constant Size"
   ]
  },
  {
   "cell_type": "code",
   "execution_count": null,
   "metadata": {},
   "outputs": [],
   "source": [
    "testname = \"test_large_fraction_constant_sparse\""
   ]
  },
  {
   "cell_type": "markdown",
   "metadata": {},
   "source": [
    "## Reading in sequential mode"
   ]
  },
  {
   "cell_type": "code",
   "execution_count": null,
   "metadata": {},
   "outputs": [],
   "source": [
    "%timeit read_times(f\"{testname}_50_14_None.h5\")"
   ]
  },
  {
   "cell_type": "code",
   "execution_count": null,
   "metadata": {},
   "outputs": [],
   "source": [
    "%timeit read_times(f\"{testname}_100_14_None.h5\")"
   ]
  },
  {
   "cell_type": "code",
   "execution_count": null,
   "metadata": {},
   "outputs": [],
   "source": [
    "%timeit read_times(f\"{testname}_500_14_None.h5\")"
   ]
  },
  {
   "cell_type": "code",
   "execution_count": null,
   "metadata": {},
   "outputs": [],
   "source": [
    "%timeit read_times(f\"{testname}_1000_14_None.h5\")"
   ]
  },
  {
   "cell_type": "code",
   "execution_count": null,
   "metadata": {},
   "outputs": [],
   "source": [
    "%timeit read_times(f\"{testname}_5000_14_None.h5\")"
   ]
  },
  {
   "cell_type": "code",
   "execution_count": null,
   "metadata": {},
   "outputs": [],
   "source": [
    "%timeit read_times(f\"{testname}_10000_14_None.h5\")"
   ]
  },
  {
   "cell_type": "code",
   "execution_count": null,
   "metadata": {},
   "outputs": [],
   "source": [
    "rtimes = []\n",
    "num_transactions = [50, 100, 500, 1000, 5000, 10000]\n",
    "for n in num_transactions:\n",
    "    filename = f\"{testname}_{n}_14_None.h5\"\n",
    "    rtimes.append(read_times(filename))\n",
    "    \n",
    "plt.plot(num_transactions, rtimes, 'o-')\n",
    "selected = [0, 3, 4, 5]\n",
    "plt.xticks(np.array(num_transactions)[selected])\n",
    "plt.title(f\"Sequential read time (in sec) for {testname}\")\n",
    "plt.xlabel(\"Number of transactions\")\n",
    "plt.show()"
   ]
  },
  {
   "cell_type": "markdown",
   "metadata": {},
   "source": [
    "## Reading specific version"
   ]
  },
  {
   "cell_type": "markdown",
   "metadata": {},
   "source": [
    "The times required to read a specific version from each file are similarly unnaffected by the number of existing versions in the file."
   ]
  },
  {
   "cell_type": "code",
   "execution_count": null,
   "metadata": {
    "scrolled": true
   },
   "outputs": [],
   "source": [
    "%timeit read_version(f\"{testname}_10000_14_None.h5\", 10000)  "
   ]
  },
  {
   "cell_type": "code",
   "execution_count": null,
   "metadata": {},
   "outputs": [],
   "source": [
    "tests = [f\"{testname}_50_14_None.h5\",\n",
    "         f\"{testname}_100_14_None.h5\",\n",
    "         f\"{testname}_500_14_None.h5\",\n",
    "         f\"{testname}_1000_14_None.h5\",\n",
    "         f\"{testname}_5000_14_None.h5\",\n",
    "         f\"{testname}_10000_14_None.h5\"]"
   ]
  },
  {
   "cell_type": "code",
   "execution_count": null,
   "metadata": {},
   "outputs": [],
   "source": [
    "num_transactions = [50, 100, 500, 1000, 5000, 10000]\n",
    "\n",
    "for _ in range(50):\n",
    "    vtimes = []\n",
    "    for i in range(6):\n",
    "        filename = tests[i]\n",
    "        n = num_transactions[i]\n",
    "        vtimes.append(read_version(filename, n))\n",
    "    plt.plot(num_transactions, vtimes, '*-')\n",
    "\n",
    "plt.xticks(num_transactions)\n",
    "plt.title(f\"Time (in sec) to read random version for {testname}\")\n",
    "plt.xlabel(\"Number of transactions\")\n",
    "plt.show()"
   ]
  },
  {
   "cell_type": "markdown",
   "metadata": {},
   "source": [
    "From this test, it is clear that reading an arbitrary version from the file is not affected by the number of versions in the file."
   ]
  },
  {
   "cell_type": "markdown",
   "metadata": {},
   "source": [
    "## Reading latest version vs. reading first version"
   ]
  },
  {
   "cell_type": "code",
   "execution_count": null,
   "metadata": {},
   "outputs": [],
   "source": [
    "print(read_first(f\"{testname}_10000_14_None.h5\"))"
   ]
  },
  {
   "cell_type": "code",
   "execution_count": null,
   "metadata": {},
   "outputs": [],
   "source": [
    "result = %timeit -o read_first(f\"{testname}_10000_14_None.h5\")"
   ]
  },
  {
   "cell_type": "code",
   "execution_count": null,
   "metadata": {},
   "outputs": [],
   "source": [
    "num_transactions = [50, 100, 500, 1000, 5000, 10000]\n",
    "for _ in range(50):\n",
    "    ftimes = []\n",
    "    for i in range(6):\n",
    "        filename = tests[i]\n",
    "        n = num_transactions[i]\n",
    "        ftimes.append(read_first(filename))\n",
    "    \n",
    "    plt.plot(num_transactions, ftimes, '*-')\n",
    "    \n",
    "plt.xticks(num_transactions)\n",
    "plt.title(f\"Time (in sec) to read first version for {testname}\")\n",
    "plt.xlabel(\"Number of transactions\")\n",
    "plt.show()"
   ]
  },
  {
   "cell_type": "code",
   "execution_count": null,
   "metadata": {},
   "outputs": [],
   "source": [
    "print(read_last(f\"{testname}_10000_14_None.h5\"))"
   ]
  },
  {
   "cell_type": "code",
   "execution_count": null,
   "metadata": {},
   "outputs": [],
   "source": [
    "result = %timeit read_last(f\"{testname}_10000_14_None.h5\")"
   ]
  },
  {
   "cell_type": "code",
   "execution_count": null,
   "metadata": {},
   "outputs": [],
   "source": [
    "result = %timeit read_no_versions(f\"{testname}_10000_14_None_no_versions.h5\")"
   ]
  },
  {
   "cell_type": "code",
   "execution_count": null,
   "metadata": {},
   "outputs": [],
   "source": [
    "tests_no_versions = [f\"{testname}_50_14_None_no_versions.h5\",\n",
    "                     f\"{testname}_100_14_None_no_versions.h5\",\n",
    "                     f\"{testname}_500_14_None_no_versions.h5\",\n",
    "                     f\"{testname}_1000_14_None_no_versions.h5\",\n",
    "                     f\"{testname}_5000_14_None_no_versions.h5\",\n",
    "                     f\"{testname}_10000_14_None_no_versions.h5\"]"
   ]
  },
  {
   "cell_type": "code",
   "execution_count": null,
   "metadata": {},
   "outputs": [],
   "source": [
    "num_transactions = [50, 100, 500, 1000, 5000, 10000]\n",
    "\n",
    "for _ in range(50):\n",
    "    ltimes = []\n",
    "    for i in range(6):\n",
    "        filename = tests[i]\n",
    "        n = num_transactions[i]\n",
    "        ltimes.append(read_last(filename))\n",
    "    plt.plot(num_transactions, ltimes, '*-')    \n",
    "    \n",
    "notimes = []\n",
    "for i in range(6):\n",
    "    filename = tests_no_versions[i]\n",
    "    n = num_transactions[i]\n",
    "    notimes.append(read_no_versions(filename))\n",
    "    \n",
    "plt.plot(num_transactions, notimes, 'ko-', ms=6)\n",
    "plt.xticks(np.array(num_transactions)[selected])\n",
    "plt.title(f\"Time (in sec) to read latest version for {testname}\")\n",
    "plt.xlabel(\"Number of transactions\")\n",
    "plt.show()"
   ]
  },
  {
   "cell_type": "markdown",
   "metadata": {},
   "source": [
    "In this case, we can see that:\n",
    "- reading the latest version is not as performant as reading an unversioned file;\n",
    "- the time required to read the latest version from a Versioned HDF5 file increases modestly with the number of versions stored in the file."
   ]
  },
  {
   "cell_type": "markdown",
   "metadata": {},
   "source": [
    "# Summary"
   ]
  },
  {
   "cell_type": "markdown",
   "metadata": {},
   "source": [
    "- `test_mostly_appends_sparse` and `test_mostly_appends_dense` show a quadratic behaviour with respect to file creation and sequential read times, while `test_large_fraction_changes_sparse` and `test_small_fraction_changes_sparse` show a linear behaviour in those same tests. This reflects what we observe in file sizes and can be partially explained by the increase in the dimension of the arrays which are stored at each version.\n",
    "- Adding new versions and reading specific versions (by version name) from an existing file is almost unnaffected by the number of existing versions in each file. However, more tests are needed for a more robust conclusion."
   ]
  },
  {
   "cell_type": "markdown",
   "metadata": {},
   "source": [
    "<a id='standard'></a>\n",
    "## Standard parameters\n",
    "\n",
    "- `test_large_fraction_changes_sparse`: \n",
    "    - `num_rows_initial = 5000`\n",
    "    - `num_rows_per_append = 10`\n",
    "    - `num_inserts = 10`\n",
    "    - `num_deletes = 10`\n",
    "    - `num_changes = 1000`\n",
    "- `test_small_fraction_changes_sparse`\n",
    "    - `num_rows_initial = 5000`\n",
    "    - `num_rows_per_append = 10`\n",
    "    - `num_inserts = 10`\n",
    "    - `num_deletes = 10`\n",
    "    - `num_changes = 10`\n",
    "- `test_mostly_appends_sparse`:\n",
    "    - `num_rows_initial = 1000`\n",
    "    - `num_rows_per_append = 1000`\n",
    "    - `num_inserts = 10`\n",
    "    - `num_deletes = 10`\n",
    "    - `num_changes = 10`  \n",
    "- `test_mostly_appends_dense`\n",
    "    - `num_rows_initial_0 = 30`\n",
    "    - `num_rows_initial_1 = 30`\n",
    "    - `num_rows_per_append_0 = 1`\n",
    "    - `num_inserts_0 = 1`\n",
    "    - `num_inserts_1 = 10`\n",
    "    - `num_deletes_0 = 1`\n",
    "    - `num_deletes_1 = 1`\n",
    "    - `num_changes = 10`"
   ]
  },
  {
   "cell_type": "code",
   "execution_count": null,
   "metadata": {},
   "outputs": [],
   "source": []
  }
 ],
 "metadata": {
  "kernelspec": {
   "display_name": "Python 3",
   "language": "python",
   "name": "python3"
  },
  "language_info": {
   "codemirror_mode": {
    "name": "ipython",
    "version": 3
   },
   "file_extension": ".py",
   "mimetype": "text/x-python",
   "name": "python",
   "nbconvert_exporter": "python",
   "pygments_lexer": "ipython3",
   "version": "3.8.1"
  }
 },
 "nbformat": 4,
 "nbformat_minor": 4
}
