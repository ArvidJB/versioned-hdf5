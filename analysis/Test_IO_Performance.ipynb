{
 "cells": [
  {
   "cell_type": "markdown",
   "metadata": {},
   "source": [
    "# I/O Performance for fixed array sizes"
   ]
  },
  {
   "cell_type": "markdown",
   "metadata": {},
   "source": [
    "```python\n",
    "testnames = [\"test_large_fraction_changes_sparse\", \n",
    "             \"test_mostly_appends_sparse\", \n",
    "             \"test_small_fraction_changes_sparse\", \n",
    "             \"test_mostly_appends_dense\"]\n",
    "```"
   ]
  },
  {
   "cell_type": "code",
   "execution_count": 35,
   "metadata": {},
   "outputs": [],
   "source": [
    "path = \"/home/melissa/projects/versioned-hdf5\""
   ]
  },
  {
   "cell_type": "code",
   "execution_count": 36,
   "metadata": {},
   "outputs": [],
   "source": [
    "%matplotlib inline\n",
    "import os\n",
    "import sys\n",
    "sys.path.append('..')\n",
    "import time\n",
    "import numpy as np\n",
    "import matplotlib.pyplot as plt\n",
    "import h5py\n",
    "import datetime\n",
    "from versioned_hdf5 import VersionedHDF5File\n",
    "from generate_data_deterministic import TestVersionedDatasetPerformance"
   ]
  },
  {
   "cell_type": "markdown",
   "metadata": {},
   "source": [
    "# Test 1: Large Fraction Changes (Sparse)"
   ]
  },
  {
   "cell_type": "markdown",
   "metadata": {},
   "source": [
    "## Creating files"
   ]
  },
  {
   "cell_type": "code",
   "execution_count": 37,
   "metadata": {},
   "outputs": [],
   "source": [
    "testname = \"test_large_fraction_changes_sparse\"\n",
    "num_transactions = [50, 100, 500, 1000]\n",
    "num_rows_initial = 5000"
   ]
  },
  {
   "cell_type": "markdown",
   "metadata": {},
   "source": [
    "Create new file with `num_transactions` versions:"
   ]
  },
  {
   "cell_type": "code",
   "execution_count": 38,
   "metadata": {},
   "outputs": [],
   "source": [
    "def time_create(n):\n",
    "    t0 = time.time()\n",
    "    TestVersionedDatasetPerformance().test_large_fraction_changes_sparse(n)\n",
    "    t = time.time()-t0\n",
    "    return t"
   ]
  },
  {
   "cell_type": "code",
   "execution_count": 39,
   "metadata": {},
   "outputs": [],
   "source": [
    "times = []\n",
    "for n in num_transactions:\n",
    "    times.append(time_create(n))"
   ]
  },
  {
   "cell_type": "code",
   "execution_count": 40,
   "metadata": {},
   "outputs": [
    {
     "data": {
      "image/png": "[encoded data removed]",
      "text/plain": [
       "<Figure size 432x288 with 1 Axes>"
      ]
     },
     "metadata": {
      "needs_background": "light"
     },
     "output_type": "display_data"
    }
   ],
   "source": [
    "%matplotlib inline\n",
    "plt.plot(num_transactions, times, 'o-')\n",
    "plt.xticks(num_transactions)\n",
    "plt.title(\"Creation time (in sec) for test_large_fraction_changes_sparse\")\n",
    "plt.xlabel(\"Number of transactions\")\n",
    "plt.show()"
   ]
  },
  {
   "cell_type": "code",
   "execution_count": 41,
   "metadata": {},
   "outputs": [],
   "source": [
    "tests = []\n",
    "for n in num_transactions:\n",
    "    filename = f\"{testname}_{n}.h5\"\n",
    "    h5pyfile = h5py.File(filename, 'r+')\n",
    "    vfile = VersionedHDF5File(h5pyfile)\n",
    "    tests.append(dict(num_transactions=n, filename=filename, h5pyfile=h5pyfile, vfile=vfile))"
   ]
  },
  {
   "cell_type": "markdown",
   "metadata": {},
   "source": [
    "## Adding new version to existing set"
   ]
  },
  {
   "cell_type": "code",
   "execution_count": 42,
   "metadata": {},
   "outputs": [],
   "source": [
    "def add_version(vfile):\n",
    "    tt = datetime.datetime.utcnow()\n",
    "    with vfile.stage_version(str(tt)) as group:\n",
    "        key0 = group.create_dataset(testname + '/key0', data=np.random.rand(num_rows_initial), dtype=(np.dtype('int64')))\n",
    "        key1 = group.create_dataset(testname + '/key1', data=np.random.rand(num_rows_initial), dtype=(np.dtype('int64')))\n",
    "        val = group.create_dataset(testname + '/val', data=np.random.rand(num_rows_initial), dtype=(np.dtype('float64')))"
   ]
  },
  {
   "cell_type": "code",
   "execution_count": 43,
   "metadata": {
    "scrolled": true
   },
   "outputs": [
    {
     "name": "stdout",
     "output_type": "stream",
     "text": [
      "File with 50 versions: 0.03763604164123535 seconds.\n",
      "File with 100 versions: 0.035828590393066406 seconds.\n",
      "File with 500 versions: 0.03997159004211426 seconds.\n",
      "File with 1000 versions: 0.04395580291748047 seconds.\n"
     ]
    }
   ],
   "source": [
    "for test in tests:\n",
    "    t0 = time.time()\n",
    "    add_version(test['vfile'])\n",
    "    t = time.time()-t0\n",
    "    print(f\"File with {test['num_transactions']} versions: {t} seconds.\")"
   ]
  },
  {
   "cell_type": "code",
   "execution_count": 44,
   "metadata": {},
   "outputs": [],
   "source": [
    "for test in tests:\n",
    "    test['h5pyfile'].close()"
   ]
  },
  {
   "cell_type": "markdown",
   "metadata": {},
   "source": [
    "## Reading in sequential mode"
   ]
  },
  {
   "cell_type": "code",
   "execution_count": 45,
   "metadata": {},
   "outputs": [],
   "source": [
    "for test in tests:\n",
    "    test['h5pyfile'] = h5py.File(filename, 'r')\n",
    "    test['vfile'] = VersionedHDF5File(test['h5pyfile'])"
   ]
  },
  {
   "cell_type": "code",
   "execution_count": 46,
   "metadata": {},
   "outputs": [],
   "source": [
    "def read_data(vfile):\n",
    "    for vname in vfile._versions:\n",
    "        if vname != '__first_version__':\n",
    "            version = vfile[vname]\n",
    "            group_key = list(version.keys())[0]\n",
    "            val = version[group_key]['val']"
   ]
  },
  {
   "cell_type": "code",
   "execution_count": 49,
   "metadata": {},
   "outputs": [
    {
     "name": "stdout",
     "output_type": "stream",
     "text": [
      "File with 50 versions: 0.9922757148742676 seconds.\n",
      "File with 100 versions: 1.0571331977844238 seconds.\n",
      "File with 500 versions: 1.0348639488220215 seconds.\n",
      "File with 1000 versions: 0.9935817718505859 seconds.\n"
     ]
    }
   ],
   "source": [
    "for test in tests:\n",
    "    t0 = time.time()\n",
    "    read_data(test['vfile'])\n",
    "    t = time.time()-t0\n",
    "    print(f\"File with {test['num_transactions']} versions: {t} seconds.\")"
   ]
  },
  {
   "cell_type": "markdown",
   "metadata": {},
   "source": [
    "## Reading specific version"
   ]
  },
  {
   "cell_type": "code",
   "execution_count": 50,
   "metadata": {},
   "outputs": [],
   "source": [
    "def read_version(vfile):\n",
    "    N = len(vfile._versions.keys())\n",
    "    index = np.random.randint(0, N)\n",
    "    vname = list(vfile._versions.keys())[index]\n",
    "    return vname"
   ]
  },
  {
   "cell_type": "code",
   "execution_count": 51,
   "metadata": {
    "scrolled": true
   },
   "outputs": [
    {
     "name": "stdout",
     "output_type": "stream",
     "text": [
      "File with 50 versions: 0.0016865730285644531 seconds.\n",
      "File with 100 versions: 0.0015861988067626953 seconds.\n",
      "File with 500 versions: 0.0012612342834472656 seconds.\n",
      "File with 1000 versions: 0.00164031982421875 seconds.\n"
     ]
    }
   ],
   "source": [
    "for test in tests:\n",
    "    vname = read_version(test['vfile'])\n",
    "    if vname != '__first_version__':\n",
    "        t0 = time.time()\n",
    "        version = test['vfile'][vname]\n",
    "        group_key = list(version.keys())[0]\n",
    "        val = version[group_key]['val']\n",
    "        t = time.time()-t0\n",
    "        print(f\"File with {test['num_transactions']} versions: {t} seconds.\")"
   ]
  },
  {
   "cell_type": "markdown",
   "metadata": {},
   "source": [
    "## Finishing up"
   ]
  },
  {
   "cell_type": "code",
   "execution_count": 52,
   "metadata": {},
   "outputs": [],
   "source": [
    "for test in tests:\n",
    "    test['h5pyfile'].close()"
   ]
  },
  {
   "cell_type": "markdown",
   "metadata": {},
   "source": [
    "# Test 2: Mostly appends (Sparse)"
   ]
  },
  {
   "cell_type": "markdown",
   "metadata": {},
   "source": [
    "## Creating files"
   ]
  },
  {
   "cell_type": "code",
   "execution_count": 53,
   "metadata": {},
   "outputs": [],
   "source": [
    "testname = \"test_mostly_appends_sparse\"\n",
    "num_transactions = [50, 100, 200]\n",
    "num_rows_initial = 1000"
   ]
  },
  {
   "cell_type": "markdown",
   "metadata": {},
   "source": [
    "Create new file with `num_transactions` versions:"
   ]
  },
  {
   "cell_type": "code",
   "execution_count": 54,
   "metadata": {},
   "outputs": [],
   "source": [
    "def time_create(n):\n",
    "    t0 = time.time()\n",
    "    TestVersionedDatasetPerformance().test_mostly_appends_sparse(n)\n",
    "    t = time.time()-t0\n",
    "    return t"
   ]
  },
  {
   "cell_type": "code",
   "execution_count": 55,
   "metadata": {},
   "outputs": [],
   "source": [
    "times = []\n",
    "for n in num_transactions:\n",
    "    times.append(time_create(n))"
   ]
  },
  {
   "cell_type": "code",
   "execution_count": 56,
   "metadata": {},
   "outputs": [
    {
     "data": {
      "image/png": "[encoded data removed]",
      "text/plain": [
       "<Figure size 432x288 with 1 Axes>"
      ]
     },
     "metadata": {
      "needs_background": "light"
     },
     "output_type": "display_data"
    }
   ],
   "source": [
    "%matplotlib inline\n",
    "plt.plot(num_transactions, times, 'o-')\n",
    "plt.xticks(num_transactions)\n",
    "plt.title(\"Creation time (in sec) for test_mostly_appends_sparse\")\n",
    "plt.xlabel(\"Number of transactions\")\n",
    "plt.show()"
   ]
  },
  {
   "cell_type": "code",
   "execution_count": 57,
   "metadata": {},
   "outputs": [],
   "source": [
    "tests = []\n",
    "for n in num_transactions:\n",
    "    filename = f\"{testname}_{n}.h5\"\n",
    "    h5pyfile = h5py.File(filename, 'r+')\n",
    "    vfile = VersionedHDF5File(h5pyfile)\n",
    "    tests.append(dict(num_transactions=n, filename=filename, h5pyfile=h5pyfile, vfile=vfile))"
   ]
  },
  {
   "cell_type": "markdown",
   "metadata": {},
   "source": [
    "## Adding new version to existing set"
   ]
  },
  {
   "cell_type": "code",
   "execution_count": 58,
   "metadata": {},
   "outputs": [],
   "source": [
    "def add_version(vfile):\n",
    "    tt = datetime.datetime.utcnow()\n",
    "    with vfile.stage_version(str(tt)) as group:\n",
    "        key0 = group.create_dataset(testname + '/key0', data=np.random.rand(num_rows_initial), dtype=(np.dtype('int64')))\n",
    "        key1 = group.create_dataset(testname + '/key1', data=np.random.rand(num_rows_initial), dtype=(np.dtype('int64')))\n",
    "        val = group.create_dataset(testname + '/val', data=np.random.rand(num_rows_initial), dtype=(np.dtype('float64')))"
   ]
  },
  {
   "cell_type": "code",
   "execution_count": 59,
   "metadata": {
    "scrolled": true
   },
   "outputs": [
    {
     "name": "stdout",
     "output_type": "stream",
     "text": [
      "File with 50 versions: 0.041077613830566406 seconds.\n",
      "File with 100 versions: 0.06636476516723633 seconds.\n",
      "File with 200 versions: 0.08954167366027832 seconds.\n"
     ]
    }
   ],
   "source": [
    "for test in tests:\n",
    "    t0 = time.time()\n",
    "    add_version(test['vfile'])\n",
    "    t = time.time()-t0\n",
    "    print(f\"File with {test['num_transactions']} versions: {t} seconds.\")"
   ]
  },
  {
   "cell_type": "code",
   "execution_count": 60,
   "metadata": {},
   "outputs": [],
   "source": [
    "for test in tests:\n",
    "    test['h5pyfile'].close()"
   ]
  },
  {
   "cell_type": "markdown",
   "metadata": {},
   "source": [
    "## Reading in sequential mode"
   ]
  },
  {
   "cell_type": "code",
   "execution_count": 61,
   "metadata": {},
   "outputs": [],
   "source": [
    "for test in tests:\n",
    "    test['h5pyfile'] = h5py.File(filename, 'r')\n",
    "    test['vfile'] = VersionedHDF5File(test['h5pyfile'])"
   ]
  },
  {
   "cell_type": "code",
   "execution_count": 62,
   "metadata": {},
   "outputs": [],
   "source": [
    "def read_data(vfile):\n",
    "    for vname in vfile._versions:\n",
    "        if vname != '__first_version__':\n",
    "            version = vfile[vname]\n",
    "            group_key = list(version.keys())[0]\n",
    "            val = version[group_key]['val']"
   ]
  },
  {
   "cell_type": "code",
   "execution_count": 63,
   "metadata": {},
   "outputs": [
    {
     "name": "stdout",
     "output_type": "stream",
     "text": [
      "File with 50 versions: 0.5233075618743896 seconds.\n",
      "File with 100 versions: 0.4514915943145752 seconds.\n",
      "File with 200 versions: 0.44855737686157227 seconds.\n"
     ]
    }
   ],
   "source": [
    "for test in tests:\n",
    "    t0 = time.time()\n",
    "    read_data(test['vfile'])\n",
    "    t = time.time()-t0\n",
    "    print(f\"File with {test['num_transactions']} versions: {t} seconds.\")"
   ]
  },
  {
   "cell_type": "markdown",
   "metadata": {},
   "source": [
    "## Reading specific version"
   ]
  },
  {
   "cell_type": "code",
   "execution_count": 64,
   "metadata": {},
   "outputs": [],
   "source": [
    "def read_version(vfile):\n",
    "    N = len(vfile._versions.keys())\n",
    "    index = np.random.randint(0, N)\n",
    "    vname = list(vfile._versions.keys())[index]\n",
    "    return vname"
   ]
  },
  {
   "cell_type": "code",
   "execution_count": 65,
   "metadata": {
    "scrolled": true
   },
   "outputs": [
    {
     "name": "stdout",
     "output_type": "stream",
     "text": [
      "File with 50 versions: 0.0012028217315673828 seconds.\n",
      "File with 100 versions: 0.002414226531982422 seconds.\n",
      "File with 200 versions: 0.0021195411682128906 seconds.\n"
     ]
    }
   ],
   "source": [
    "for test in tests:\n",
    "    vname = read_version(test['vfile'])\n",
    "    if vname != '__first_version__':\n",
    "        t0 = time.time()\n",
    "        version = test['vfile'][vname]\n",
    "        group_key = list(version.keys())[0]\n",
    "        val = version[group_key]['val']\n",
    "        t = time.time()-t0\n",
    "        print(f\"File with {test['num_transactions']} versions: {t} seconds.\")"
   ]
  },
  {
   "cell_type": "markdown",
   "metadata": {},
   "source": [
    "## Finishing up"
   ]
  },
  {
   "cell_type": "code",
   "execution_count": 66,
   "metadata": {},
   "outputs": [],
   "source": [
    "for test in tests:\n",
    "    test['h5pyfile'].close()"
   ]
  },
  {
   "cell_type": "markdown",
   "metadata": {},
   "source": [
    "# Test 3: Small Fraction Changes (Sparse)"
   ]
  },
  {
   "cell_type": "markdown",
   "metadata": {},
   "source": [
    "## Creating files"
   ]
  },
  {
   "cell_type": "code",
   "execution_count": 67,
   "metadata": {},
   "outputs": [],
   "source": [
    "testname = \"test_small_fraction_changes_sparse\"\n",
    "num_transactions = [50, 100, 500, 1000]\n",
    "num_rows_initial = 5000"
   ]
  },
  {
   "cell_type": "markdown",
   "metadata": {},
   "source": [
    "Create new file with `num_transactions` versions:"
   ]
  },
  {
   "cell_type": "code",
   "execution_count": 68,
   "metadata": {},
   "outputs": [],
   "source": [
    "def time_create(n):\n",
    "    t0 = time.time()\n",
    "    TestVersionedDatasetPerformance().test_small_fraction_changes_sparse(n)\n",
    "    t = time.time()-t0\n",
    "    return t"
   ]
  },
  {
   "cell_type": "code",
   "execution_count": 69,
   "metadata": {},
   "outputs": [],
   "source": [
    "times = []\n",
    "for n in num_transactions:\n",
    "    times.append(time_create(n))"
   ]
  },
  {
   "cell_type": "code",
   "execution_count": 70,
   "metadata": {},
   "outputs": [
    {
     "data": {
      "image/png": "[encoded data removed]",
      "text/plain": [
       "<Figure size 432x288 with 1 Axes>"
      ]
     },
     "metadata": {
      "needs_background": "light"
     },
     "output_type": "display_data"
    }
   ],
   "source": [
    "%matplotlib inline\n",
    "plt.plot(num_transactions, times, 'o-')\n",
    "plt.xticks(num_transactions)\n",
    "plt.title(\"Creation time (in sec) for test_small_fraction_changes_sparse\")\n",
    "plt.xlabel(\"Number of transactions\")\n",
    "plt.show()"
   ]
  },
  {
   "cell_type": "code",
   "execution_count": 71,
   "metadata": {},
   "outputs": [],
   "source": [
    "tests = []\n",
    "for n in num_transactions:\n",
    "    filename = f\"{testname}_{n}.h5\"\n",
    "    h5pyfile = h5py.File(filename, 'r+')\n",
    "    vfile = VersionedHDF5File(h5pyfile)\n",
    "    tests.append(dict(num_transactions=n, filename=filename, h5pyfile=h5pyfile, vfile=vfile))"
   ]
  },
  {
   "cell_type": "markdown",
   "metadata": {},
   "source": [
    "## Adding new version to existing set"
   ]
  },
  {
   "cell_type": "code",
   "execution_count": 72,
   "metadata": {},
   "outputs": [],
   "source": [
    "def add_version(vfile):\n",
    "    tt = datetime.datetime.utcnow()\n",
    "    with vfile.stage_version(str(tt)) as group:\n",
    "        key0 = group.create_dataset(testname + '/key0', data=np.random.rand(num_rows_initial), dtype=(np.dtype('int64')))\n",
    "        key1 = group.create_dataset(testname + '/key1', data=np.random.rand(num_rows_initial), dtype=(np.dtype('int64')))\n",
    "        val = group.create_dataset(testname + '/val', data=np.random.rand(num_rows_initial), dtype=(np.dtype('float64')))"
   ]
  },
  {
   "cell_type": "code",
   "execution_count": 73,
   "metadata": {
    "scrolled": true
   },
   "outputs": [
    {
     "name": "stdout",
     "output_type": "stream",
     "text": [
      "File with 50 versions: 0.03450512886047363 seconds.\n",
      "File with 100 versions: 0.04645848274230957 seconds.\n",
      "File with 500 versions: 0.04752182960510254 seconds.\n",
      "File with 1000 versions: 0.04432225227355957 seconds.\n"
     ]
    }
   ],
   "source": [
    "for test in tests:\n",
    "    t0 = time.time()\n",
    "    add_version(test['vfile'])\n",
    "    t = time.time()-t0\n",
    "    print(f\"File with {test['num_transactions']} versions: {t} seconds.\")"
   ]
  },
  {
   "cell_type": "code",
   "execution_count": 74,
   "metadata": {},
   "outputs": [],
   "source": [
    "for test in tests:\n",
    "    test['h5pyfile'].close()"
   ]
  },
  {
   "cell_type": "markdown",
   "metadata": {},
   "source": [
    "## Reading in sequential mode"
   ]
  },
  {
   "cell_type": "code",
   "execution_count": 75,
   "metadata": {},
   "outputs": [],
   "source": [
    "for test in tests:\n",
    "    test['h5pyfile'] = h5py.File(filename, 'r')\n",
    "    test['vfile'] = VersionedHDF5File(test['h5pyfile'])"
   ]
  },
  {
   "cell_type": "code",
   "execution_count": 76,
   "metadata": {},
   "outputs": [],
   "source": [
    "def read_data(vfile):\n",
    "    for vname in vfile._versions:\n",
    "        if vname != '__first_version__':\n",
    "            version = vfile[vname]\n",
    "            group_key = list(version.keys())[0]\n",
    "            val = version[group_key]['val']"
   ]
  },
  {
   "cell_type": "code",
   "execution_count": 77,
   "metadata": {},
   "outputs": [
    {
     "name": "stdout",
     "output_type": "stream",
     "text": [
      "File with 50 versions: 1.137399673461914 seconds.\n",
      "File with 100 versions: 1.0572412014007568 seconds.\n",
      "File with 500 versions: 1.4921236038208008 seconds.\n",
      "File with 1000 versions: 1.2177979946136475 seconds.\n"
     ]
    }
   ],
   "source": [
    "for test in tests:\n",
    "    t0 = time.time()\n",
    "    read_data(test['vfile'])\n",
    "    t = time.time()-t0\n",
    "    print(f\"File with {test['num_transactions']} versions: {t} seconds.\")"
   ]
  },
  {
   "cell_type": "markdown",
   "metadata": {},
   "source": [
    "## Reading specific version"
   ]
  },
  {
   "cell_type": "code",
   "execution_count": 78,
   "metadata": {},
   "outputs": [],
   "source": [
    "def read_version(vfile):\n",
    "    N = len(vfile._versions.keys())\n",
    "    index = np.random.randint(0, N)\n",
    "    vname = list(vfile._versions.keys())[index]\n",
    "    return vname"
   ]
  },
  {
   "cell_type": "code",
   "execution_count": 79,
   "metadata": {
    "scrolled": true
   },
   "outputs": [
    {
     "name": "stdout",
     "output_type": "stream",
     "text": [
      "File with 50 versions: 0.0020127296447753906 seconds.\n",
      "File with 100 versions: 0.001575469970703125 seconds.\n",
      "File with 500 versions: 0.0014884471893310547 seconds.\n",
      "File with 1000 versions: 0.0016641616821289062 seconds.\n"
     ]
    }
   ],
   "source": [
    "for test in tests:\n",
    "    vname = read_version(test['vfile'])\n",
    "    if vname != '__first_version__':\n",
    "        t0 = time.time()\n",
    "        version = test['vfile'][vname]\n",
    "        group_key = list(version.keys())[0]\n",
    "        val = version[group_key]['val']\n",
    "        t = time.time()-t0\n",
    "        print(f\"File with {test['num_transactions']} versions: {t} seconds.\")"
   ]
  },
  {
   "cell_type": "markdown",
   "metadata": {},
   "source": [
    "## Finishing up"
   ]
  },
  {
   "cell_type": "code",
   "execution_count": 80,
   "metadata": {},
   "outputs": [],
   "source": [
    "for test in tests:\n",
    "    test['h5pyfile'].close()"
   ]
  },
  {
   "cell_type": "markdown",
   "metadata": {},
   "source": [
    "# Test 4: Mostly appends (Dense)"
   ]
  },
  {
   "cell_type": "markdown",
   "metadata": {},
   "source": [
    "## Creating files"
   ]
  },
  {
   "cell_type": "code",
   "execution_count": 81,
   "metadata": {},
   "outputs": [],
   "source": [
    "testname = \"test_mostly_appends_dense\"\n",
    "num_transactions = [50, 100, 200]\n",
    "num_rows_initial = 30"
   ]
  },
  {
   "cell_type": "markdown",
   "metadata": {},
   "source": [
    "Create new file with `num_transactions` versions:"
   ]
  },
  {
   "cell_type": "code",
   "execution_count": 82,
   "metadata": {},
   "outputs": [],
   "source": [
    "def time_create(n):\n",
    "    t0 = time.time()\n",
    "    TestVersionedDatasetPerformance().test_mostly_appends_dense(n)\n",
    "    t = time.time()-t0\n",
    "    return t"
   ]
  },
  {
   "cell_type": "code",
   "execution_count": 83,
   "metadata": {},
   "outputs": [],
   "source": [
    "times = []\n",
    "for n in num_transactions:\n",
    "    times.append(time_create(n))"
   ]
  },
  {
   "cell_type": "code",
   "execution_count": 84,
   "metadata": {},
   "outputs": [
    {
     "data": {
      "image/png": "[encoded data removed]",
      "text/plain": [
       "<Figure size 432x288 with 1 Axes>"
      ]
     },
     "metadata": {
      "needs_background": "light"
     },
     "output_type": "display_data"
    }
   ],
   "source": [
    "%matplotlib inline\n",
    "plt.plot(num_transactions, times, 'o-')\n",
    "plt.xticks(num_transactions)\n",
    "plt.title(\"Creation time (in sec) for test_mostly_appends_dense\")\n",
    "plt.xlabel(\"Number of transactions\")\n",
    "plt.show()"
   ]
  },
  {
   "cell_type": "code",
   "execution_count": 85,
   "metadata": {},
   "outputs": [],
   "source": [
    "tests = []\n",
    "for n in num_transactions:\n",
    "    filename = f\"{testname}_{n}.h5\"\n",
    "    h5pyfile = h5py.File(filename, 'r+')\n",
    "    vfile = VersionedHDF5File(h5pyfile)\n",
    "    tests.append(dict(num_transactions=n, filename=filename, h5pyfile=h5pyfile, vfile=vfile))"
   ]
  },
  {
   "cell_type": "markdown",
   "metadata": {},
   "source": [
    "## Adding new version to existing set"
   ]
  },
  {
   "cell_type": "code",
   "execution_count": 86,
   "metadata": {},
   "outputs": [],
   "source": [
    "def add_version(vfile):\n",
    "    tt = datetime.datetime.utcnow()\n",
    "    with vfile.stage_version(str(tt)) as group:\n",
    "        key0 = group.create_dataset(testname + '/key0', data=np.random.rand(num_rows_initial), dtype=(np.dtype('int64')))\n",
    "        key1 = group.create_dataset(testname + '/key1', data=np.random.rand(num_rows_initial), dtype=(np.dtype('int64')))\n",
    "        val = group.create_dataset(testname + '/val', data=np.random.rand(num_rows_initial), dtype=(np.dtype('float64')))"
   ]
  },
  {
   "cell_type": "code",
   "execution_count": 87,
   "metadata": {
    "scrolled": true
   },
   "outputs": [
    {
     "name": "stdout",
     "output_type": "stream",
     "text": [
      "File with 50 versions: 0.03444337844848633 seconds.\n",
      "File with 100 versions: 0.05429339408874512 seconds.\n",
      "File with 200 versions: 0.06975698471069336 seconds.\n"
     ]
    }
   ],
   "source": [
    "for test in tests:\n",
    "    t0 = time.time()\n",
    "    add_version(test['vfile'])\n",
    "    t = time.time()-t0\n",
    "    print(f\"File with {test['num_transactions']} versions: {t} seconds.\")"
   ]
  },
  {
   "cell_type": "code",
   "execution_count": 88,
   "metadata": {},
   "outputs": [],
   "source": [
    "for test in tests:\n",
    "    test['h5pyfile'].close()"
   ]
  },
  {
   "cell_type": "markdown",
   "metadata": {},
   "source": [
    "## Reading in sequential mode"
   ]
  },
  {
   "cell_type": "code",
   "execution_count": 89,
   "metadata": {},
   "outputs": [],
   "source": [
    "for test in tests:\n",
    "    test['h5pyfile'] = h5py.File(filename, 'r')\n",
    "    test['vfile'] = VersionedHDF5File(test['h5pyfile'])"
   ]
  },
  {
   "cell_type": "code",
   "execution_count": 90,
   "metadata": {},
   "outputs": [],
   "source": [
    "def read_data(vfile):\n",
    "    for vname in vfile._versions:\n",
    "        if vname != '__first_version__':\n",
    "            version = vfile[vname]\n",
    "            group_key = list(version.keys())[0]\n",
    "            val = version[group_key]['val']"
   ]
  },
  {
   "cell_type": "code",
   "execution_count": 91,
   "metadata": {},
   "outputs": [
    {
     "name": "stdout",
     "output_type": "stream",
     "text": [
      "File with 50 versions: 0.6910874843597412 seconds.\n",
      "File with 100 versions: 0.6245694160461426 seconds.\n",
      "File with 200 versions: 1.111159324645996 seconds.\n"
     ]
    }
   ],
   "source": [
    "for test in tests:\n",
    "    t0 = time.time()\n",
    "    read_data(test['vfile'])\n",
    "    t = time.time()-t0\n",
    "    print(f\"File with {test['num_transactions']} versions: {t} seconds.\")"
   ]
  },
  {
   "cell_type": "markdown",
   "metadata": {},
   "source": [
    "## Reading specific version"
   ]
  },
  {
   "cell_type": "code",
   "execution_count": 92,
   "metadata": {},
   "outputs": [],
   "source": [
    "def read_version(vfile):\n",
    "    N = len(vfile._versions.keys())\n",
    "    index = np.random.randint(0, N)\n",
    "    vname = list(vfile._versions.keys())[index]\n",
    "    return vname"
   ]
  },
  {
   "cell_type": "code",
   "execution_count": 93,
   "metadata": {
    "scrolled": true
   },
   "outputs": [
    {
     "name": "stdout",
     "output_type": "stream",
     "text": [
      "File with 50 versions: 0.002668619155883789 seconds.\n",
      "File with 100 versions: 0.0043447017669677734 seconds.\n",
      "File with 200 versions: 0.006675004959106445 seconds.\n"
     ]
    }
   ],
   "source": [
    "for test in tests:\n",
    "    vname = read_version(test['vfile'])\n",
    "    if vname != '__first_version__':\n",
    "        t0 = time.time()\n",
    "        version = test['vfile'][vname]\n",
    "        group_key = list(version.keys())[0]\n",
    "        val = version[group_key]['val']\n",
    "        t = time.time()-t0\n",
    "        print(f\"File with {test['num_transactions']} versions: {t} seconds.\")"
   ]
  },
  {
   "cell_type": "markdown",
   "metadata": {},
   "source": [
    "## Finishing up"
   ]
  },
  {
   "cell_type": "code",
   "execution_count": 94,
   "metadata": {},
   "outputs": [],
   "source": [
    "for test in tests:\n",
    "    test['h5pyfile'].close()"
   ]
  },
  {
   "cell_type": "code",
   "execution_count": null,
   "metadata": {},
   "outputs": [],
   "source": []
  }
 ],
 "metadata": {
  "kernelspec": {
   "display_name": "Python 3",
   "language": "python",
   "name": "python3"
  },
  "language_info": {
   "codemirror_mode": {
    "name": "ipython",
    "version": 3
   },
   "file_extension": ".py",
   "mimetype": "text/x-python",
   "name": "python",
   "nbconvert_exporter": "python",
   "pygments_lexer": "ipython3",
   "version": "3.8.1"
  }
 },
 "nbformat": 4,
 "nbformat_minor": 4
}
