{
 "cells": [
  {
   "cell_type": "markdown",
   "metadata": {},
   "source": [
    "# I/O Performance for Versioned-HDF5 Files"
   ]
  },
  {
   "cell_type": "markdown",
   "metadata": {},
   "source": [
    "For these tests, we have generated `.h5` data files using the `generate_data_deterministic.py` script from the repository, using the standard options ([see details here](#standard))"
   ]
  },
  {
   "cell_type": "markdown",
   "metadata": {},
   "source": [
    "# Setup"
   ]
  },
  {
   "cell_type": "markdown",
   "metadata": {},
   "source": [
    "The path to the generated test files is"
   ]
  },
  {
   "cell_type": "code",
   "execution_count": null,
   "metadata": {},
   "outputs": [],
   "source": [
    "path = \"/home/melissa/projects/versioned-hdf5/analysis\" # change this as necessary"
   ]
  },
  {
   "cell_type": "code",
   "execution_count": null,
   "metadata": {},
   "outputs": [],
   "source": [
    "%matplotlib inline\n",
    "import sys\n",
    "sys.path.append('..')\n",
    "import time\n",
    "import numpy as np\n",
    "import matplotlib.pyplot as plt\n",
    "import h5py\n",
    "import datetime\n",
    "from versioned_hdf5 import VersionedHDF5File\n",
    "from generate_data_deterministic import TestVersionedDatasetPerformance"
   ]
  },
  {
   "cell_type": "markdown",
   "metadata": {},
   "source": [
    "# Test 1: Large Fraction Changes (Sparse)"
   ]
  },
  {
   "cell_type": "code",
   "execution_count": null,
   "metadata": {},
   "outputs": [],
   "source": [
    "testname = \"test_large_fraction_changes_sparse\""
   ]
  },
  {
   "cell_type": "markdown",
   "metadata": {},
   "source": [
    "## Creating files"
   ]
  },
  {
   "cell_type": "markdown",
   "metadata": {},
   "source": [
    "First, we'll compute the time required to create a file with the required number of versions. For this test, we'll create files with the number of transactions listed in the `num_transactions` list below (change values as desired, but beware that for large numbers of versions the time required to create the files will be large, as well as the size of the generated files.)"
   ]
  },
  {
   "cell_type": "code",
   "execution_count": null,
   "metadata": {},
   "outputs": [],
   "source": [
    "num_transactions = [50, 100, 500, 1000]"
   ]
  },
  {
   "cell_type": "code",
   "execution_count": null,
   "metadata": {},
   "outputs": [],
   "source": [
    "t_write = []\n",
    "for n in num_transactions:\n",
    "    t0 = time.time()\n",
    "    TestVersionedDatasetPerformance().test_large_fraction_changes_sparse(n)\n",
    "    t = time.time()-t0\n",
    "    t_write.append(t)"
   ]
  },
  {
   "cell_type": "code",
   "execution_count": null,
   "metadata": {
    "scrolled": true
   },
   "outputs": [],
   "source": [
    "%matplotlib inline\n",
    "plt.plot(num_transactions, t_write, 'o-')\n",
    "plt.xticks(num_transactions)\n",
    "plt.title(\"Creation time (in sec) for test_large_fraction_changes_sparse\")\n",
    "plt.xlabel(\"Number of transactions\")\n",
    "plt.show()"
   ]
  },
  {
   "cell_type": "markdown",
   "metadata": {},
   "source": [
    "From the graph, we can see that the time grows linearly with the number of versions."
   ]
  },
  {
   "cell_type": "markdown",
   "metadata": {},
   "source": [
    "## Reading in sequential mode"
   ]
  },
  {
   "cell_type": "markdown",
   "metadata": {},
   "source": [
    "For this test, we'll read data from all versions in a file, sequentially. "
   ]
  },
  {
   "cell_type": "code",
   "execution_count": null,
   "metadata": {},
   "outputs": [],
   "source": [
    "def read_times(n, testname):\n",
    "    filename = f\"{testname}_{n}.h5\"\n",
    "    h5pyfile = h5py.File(filename, 'r+')\n",
    "    vfile = VersionedHDF5File(h5pyfile)\n",
    "    t0 = time.time()\n",
    "    for vname in vfile._versions:\n",
    "        if vname != '__first_version__':\n",
    "            version = vfile[vname]\n",
    "            group_key = list(version.keys())[0]\n",
    "            val = version[group_key]['val']\n",
    "    t = time.time()-t0\n",
    "    h5pyfile.close()\n",
    "    return t"
   ]
  },
  {
   "cell_type": "code",
   "execution_count": null,
   "metadata": {},
   "outputs": [],
   "source": [
    "t_read = []\n",
    "for n in num_transactions:\n",
    "    t = read_times(n, testname)\n",
    "    t_read.append(t)\n",
    "    print(f\"File with {n} versions: {t} seconds.\")"
   ]
  },
  {
   "cell_type": "markdown",
   "metadata": {},
   "source": [
    "As expected, read times increase for files with a larger number of versions, but the growth is close to linear."
   ]
  },
  {
   "cell_type": "code",
   "execution_count": null,
   "metadata": {},
   "outputs": [],
   "source": [
    "plt.plot(num_transactions, t_read, 'o-')\n",
    "plt.xticks(num_transactions)\n",
    "plt.title(\"Sequential read time (in sec) for test_large_fraction_changes_sparse\")\n",
    "plt.xlabel(\"Number of transactions\")\n",
    "plt.show()"
   ]
  },
  {
   "cell_type": "markdown",
   "metadata": {},
   "source": [
    "As a summary, we can compare read and write times for the entire file."
   ]
  },
  {
   "cell_type": "code",
   "execution_count": null,
   "metadata": {},
   "outputs": [],
   "source": [
    "plt.plot(num_transactions, t_write, 'o-')\n",
    "plt.plot(num_transactions, t_read, '*-')\n",
    "plt.xticks(num_transactions)\n",
    "plt.title(\"Sequential read/write times (in sec) for test_large_fraction_changes_sparse\")\n",
    "plt.xlabel(\"Number of transactions\")\n",
    "plt.legend(['Write', 'Read'])\n",
    "plt.show()"
   ]
  },
  {
   "cell_type": "markdown",
   "metadata": {},
   "source": [
    "## Adding new version to existing set"
   ]
  },
  {
   "cell_type": "markdown",
   "metadata": {},
   "source": [
    "Now, we'll measure how the time required to add a new version to an existing file. The arrays to be added as a new group to the existing versioned-hdf5 file has size `num_rows_initial`, where"
   ]
  },
  {
   "cell_type": "code",
   "execution_count": null,
   "metadata": {},
   "outputs": [],
   "source": [
    "num_rows_initial = 5000"
   ]
  },
  {
   "cell_type": "markdown",
   "metadata": {},
   "source": [
    "which is the size of the arrays in the initial version on this file."
   ]
  },
  {
   "cell_type": "code",
   "execution_count": null,
   "metadata": {},
   "outputs": [],
   "source": [
    "def add_version(n, testname, num_rows_initial):\n",
    "    filename = f\"{testname}_{n}.h5\"\n",
    "    h5pyfile = h5py.File(filename, 'r+')\n",
    "    vfile = VersionedHDF5File(h5pyfile)\n",
    "    tt = datetime.datetime.utcnow()\n",
    "    with vfile.stage_version(str(tt)) as group:\n",
    "        key0 = group.create_dataset(testname + '/key0', data=np.random.rand(num_rows_initial), dtype=(np.dtype('int64')))\n",
    "        key1 = group.create_dataset(testname + '/key1', data=np.random.rand(num_rows_initial), dtype=(np.dtype('int64')))\n",
    "        val = group.create_dataset(testname + '/val', data=np.random.rand(num_rows_initial), dtype=(np.dtype('float64')))\n",
    "    h5pyfile.close()"
   ]
  },
  {
   "cell_type": "code",
   "execution_count": null,
   "metadata": {
    "scrolled": true
   },
   "outputs": [],
   "source": [
    "for n in num_transactions:\n",
    "    t0 = time.time()\n",
    "    add_version(n, testname, num_rows_initial)\n",
    "    t = time.time()-t0\n",
    "    print(f\"File with {n} versions: {t} seconds.\")"
   ]
  },
  {
   "cell_type": "markdown",
   "metadata": {},
   "source": [
    "From these tests, we can see that there's no change in the time required to add a new version with respect to the number of versions already in this file. "
   ]
  },
  {
   "cell_type": "markdown",
   "metadata": {},
   "source": [
    "## Reading specific version"
   ]
  },
  {
   "cell_type": "markdown",
   "metadata": {},
   "source": [
    "For this test, we'll compute the times required to read a specific version from the versioned-hdf5 file. \n",
    "\n",
    "**Note**. Although possible, it is not recommended to read versions using integer indexing as the performance of reading versions from their name it far superior."
   ]
  },
  {
   "cell_type": "code",
   "execution_count": null,
   "metadata": {},
   "outputs": [],
   "source": [
    "def read_version(n, testname):\n",
    "    # Open file to read version\n",
    "    filename = f\"{testname}_{n}.h5\"\n",
    "    h5pyfile = h5py.File(filename, 'r+')\n",
    "    vfile = VersionedHDF5File(h5pyfile)\n",
    "    # Choose a version at random from the current file and \n",
    "    # read its version name.\n",
    "    N = len(vfile._versions.keys())\n",
    "    index = np.random.randint(0, N)\n",
    "    vname = list(vfile._versions.keys())[index]\n",
    "    if vname != '__first_version__':\n",
    "        t0 = time.time()\n",
    "        version = vfile[vname]\n",
    "        group_key = list(version.keys())[0]\n",
    "        val = version[group_key]['val']\n",
    "        t = time.time()-t0\n",
    "    h5pyfile.close()\n",
    "    return t"
   ]
  },
  {
   "cell_type": "code",
   "execution_count": null,
   "metadata": {},
   "outputs": [],
   "source": [
    "for n in num_transactions:\n",
    "    t = read_version(n, testname)\n",
    "    print(f\"File with {n} versions: {t} seconds.\")    "
   ]
  },
  {
   "cell_type": "markdown",
   "metadata": {},
   "source": [
    "From this test, it is clear that reading an arbitrary version from the file is not affected by the number of versions in the file."
   ]
  },
  {
   "cell_type": "markdown",
   "metadata": {},
   "source": [
    "# Test 2: Mostly appends (Sparse)"
   ]
  },
  {
   "cell_type": "code",
   "execution_count": null,
   "metadata": {},
   "outputs": [],
   "source": [
    "testname = \"test_mostly_appends_sparse\""
   ]
  },
  {
   "cell_type": "markdown",
   "metadata": {},
   "source": [
    "## Creating files"
   ]
  },
  {
   "cell_type": "markdown",
   "metadata": {},
   "source": [
    "We'll compute the time required to create a file with the numbers of versions listed in "
   ]
  },
  {
   "cell_type": "code",
   "execution_count": null,
   "metadata": {},
   "outputs": [],
   "source": [
    "num_transactions = [50, 100, 200, 500]"
   ]
  },
  {
   "cell_type": "code",
   "execution_count": null,
   "metadata": {},
   "outputs": [],
   "source": [
    "t_write = []\n",
    "for n in num_transactions:\n",
    "    t0 = time.time()\n",
    "    TestVersionedDatasetPerformance().test_mostly_appends_sparse(n)\n",
    "    t = time.time()-t0\n",
    "    t_write.append(t)"
   ]
  },
  {
   "cell_type": "markdown",
   "metadata": {},
   "source": [
    "To see the behaviour here, we have plotted the observed creation times (in a blue line with circles) and a quadratic function (in an orange solid line):"
   ]
  },
  {
   "cell_type": "code",
   "execution_count": null,
   "metadata": {},
   "outputs": [],
   "source": [
    "%matplotlib inline\n",
    "plt.plot(num_transactions, t_write, 'o-')\n",
    "plt.plot(num_transactions, (np.array(num_transactions)/60)**2)\n",
    "plt.legend([\"Observed\", \"Quadratic\"])\n",
    "plt.xticks(num_transactions)\n",
    "plt.title(\"Creation time (in sec) for test_mostly_appends_sparse\")\n",
    "plt.xlabel(\"Number of transactions\")\n",
    "plt.show()"
   ]
  },
  {
   "cell_type": "markdown",
   "metadata": {},
   "source": [
    "From the graph, we can see that the observed creation times are compatible with a quadratic behaviour on the number of transactions."
   ]
  },
  {
   "cell_type": "markdown",
   "metadata": {},
   "source": [
    "## Reading in sequential mode"
   ]
  },
  {
   "cell_type": "markdown",
   "metadata": {},
   "source": [
    "If we read data from each version of the file, sequentially, we obtain the following:"
   ]
  },
  {
   "cell_type": "code",
   "execution_count": null,
   "metadata": {},
   "outputs": [],
   "source": [
    "t_read = []\n",
    "for n in num_transactions:\n",
    "    t = read_times(n, testname)\n",
    "    t_read.append(t)\n",
    "    print(f\"File with {n} versions: {t} seconds.\")"
   ]
  },
  {
   "cell_type": "markdown",
   "metadata": {},
   "source": [
    "Again, as we expected, read times increase (this time, quadratically) with the increase in the number of versions."
   ]
  },
  {
   "cell_type": "code",
   "execution_count": null,
   "metadata": {},
   "outputs": [],
   "source": [
    "plt.plot(num_transactions, t_read, 'o-')\n",
    "plt.xticks(num_transactions)\n",
    "plt.title(\"Sequential read time (in sec) for test_mostly_appends_sparse\")\n",
    "plt.xlabel(\"Number of transactions\")\n",
    "plt.show()"
   ]
  },
  {
   "cell_type": "markdown",
   "metadata": {},
   "source": [
    "As a summary, we can compare read and write times for the entire file."
   ]
  },
  {
   "cell_type": "code",
   "execution_count": null,
   "metadata": {},
   "outputs": [],
   "source": [
    "plt.plot(num_transactions, t_write, 'o-')\n",
    "plt.plot(num_transactions, t_read, '*-')\n",
    "plt.xticks(num_transactions)\n",
    "plt.title(\"Sequential read/write times (in sec) for test_mostly_appends_sparse\")\n",
    "plt.xlabel(\"Number of transactions\")\n",
    "plt.legend(['Write', 'Read'])\n",
    "plt.show()"
   ]
  },
  {
   "cell_type": "markdown",
   "metadata": {},
   "source": [
    "## Adding new version to existing set"
   ]
  },
  {
   "cell_type": "markdown",
   "metadata": {},
   "source": [
    "Now, we'll consider adding a new version to an existing file for this test."
   ]
  },
  {
   "cell_type": "code",
   "execution_count": null,
   "metadata": {},
   "outputs": [],
   "source": [
    "num_rows_initial = 1000"
   ]
  },
  {
   "cell_type": "code",
   "execution_count": null,
   "metadata": {
    "scrolled": true
   },
   "outputs": [],
   "source": [
    "for n in num_transactions:\n",
    "    t0 = time.time()\n",
    "    add_version(n, testname, num_rows_initial)\n",
    "    t = time.time()-t0\n",
    "    print(f\"File with {n} versions: {t} seconds.\")"
   ]
  },
  {
   "cell_type": "markdown",
   "metadata": {},
   "source": [
    "For this test, we can see a slight increase in the time needed to add a new version."
   ]
  },
  {
   "cell_type": "markdown",
   "metadata": {},
   "source": [
    "## Reading specific version"
   ]
  },
  {
   "cell_type": "markdown",
   "metadata": {},
   "source": [
    "Now, let's see the times required to read a specific version from each file."
   ]
  },
  {
   "cell_type": "code",
   "execution_count": null,
   "metadata": {
    "scrolled": true
   },
   "outputs": [],
   "source": [
    "for n in num_transactions:\n",
    "    t = read_version(n, testname)\n",
    "    print(f\"File with {n} versions: {t} seconds.\")"
   ]
  },
  {
   "cell_type": "markdown",
   "metadata": {},
   "source": [
    "Similarly to what we observed in the first example, the number of versions in the file does not affect the time needed to read a specific version."
   ]
  },
  {
   "cell_type": "markdown",
   "metadata": {},
   "source": [
    "# Test 3: Small Fraction Changes (Sparse)"
   ]
  },
  {
   "cell_type": "code",
   "execution_count": null,
   "metadata": {},
   "outputs": [],
   "source": [
    "testname = \"test_small_fraction_changes_sparse\""
   ]
  },
  {
   "cell_type": "markdown",
   "metadata": {},
   "source": [
    "## Creating files"
   ]
  },
  {
   "cell_type": "markdown",
   "metadata": {},
   "source": [
    "Proceeding like before, we'll time the creation of files for "
   ]
  },
  {
   "cell_type": "code",
   "execution_count": null,
   "metadata": {},
   "outputs": [],
   "source": [
    "num_transactions = [50, 100, 500, 1000]"
   ]
  },
  {
   "cell_type": "code",
   "execution_count": null,
   "metadata": {},
   "outputs": [],
   "source": [
    "t_write = []\n",
    "for n in num_transactions:\n",
    "    t0 = time.time()\n",
    "    TestVersionedDatasetPerformance().test_small_fraction_changes_sparse(n)\n",
    "    t = time.time()-t0\n",
    "    t_write.append(t)"
   ]
  },
  {
   "cell_type": "code",
   "execution_count": null,
   "metadata": {},
   "outputs": [],
   "source": [
    "%matplotlib inline\n",
    "plt.plot(num_transactions, t_write, 'o-')\n",
    "plt.xticks(num_transactions)\n",
    "plt.title(\"Creation time (in sec) for test_small_fraction_changes_sparse\")\n",
    "plt.xlabel(\"Number of transactions\")\n",
    "plt.show()"
   ]
  },
  {
   "cell_type": "markdown",
   "metadata": {},
   "source": [
    "Once more, the creation times grow linearly with the number of versions in the file."
   ]
  },
  {
   "cell_type": "markdown",
   "metadata": {},
   "source": [
    "## Reading in sequential mode"
   ]
  },
  {
   "cell_type": "code",
   "execution_count": null,
   "metadata": {},
   "outputs": [],
   "source": [
    "t_read = []\n",
    "for n in num_transactions:\n",
    "    t = read_times(n, testname)\n",
    "    t_read.append(t)\n",
    "    print(f\"File with {n} versions: {t} seconds.\")"
   ]
  },
  {
   "cell_type": "code",
   "execution_count": null,
   "metadata": {},
   "outputs": [],
   "source": [
    "plt.plot(num_transactions, t_read, 'o-')\n",
    "plt.xticks(num_transactions)\n",
    "plt.title(\"Sequential read time (in sec) for test_small_fraction_changes_sparse\")\n",
    "plt.xlabel(\"Number of transactions\")\n",
    "plt.show()"
   ]
  },
  {
   "cell_type": "markdown",
   "metadata": {},
   "source": [
    "Summarizing, we compare read and write times for the entire file for this example."
   ]
  },
  {
   "cell_type": "code",
   "execution_count": null,
   "metadata": {},
   "outputs": [],
   "source": [
    "plt.plot(num_transactions, t_write, 'o-')\n",
    "plt.plot(num_transactions, t_read, '*-')\n",
    "plt.xticks(num_transactions)\n",
    "plt.title(\"Sequential read/write times (in sec) for test_small_fraction_changes_sparse\")\n",
    "plt.xlabel(\"Number of transactions\")\n",
    "plt.legend(['Write', 'Read'])\n",
    "plt.show()"
   ]
  },
  {
   "cell_type": "markdown",
   "metadata": {},
   "source": [
    "## Adding new version to existing set"
   ]
  },
  {
   "cell_type": "markdown",
   "metadata": {},
   "source": [
    "Now, we'll add one new version to each existing file."
   ]
  },
  {
   "cell_type": "code",
   "execution_count": null,
   "metadata": {},
   "outputs": [],
   "source": [
    "num_rows_initial = 5000"
   ]
  },
  {
   "cell_type": "code",
   "execution_count": null,
   "metadata": {},
   "outputs": [],
   "source": [
    "for n in num_transactions:\n",
    "    t0 = time.time()\n",
    "    add_version(n, testname, num_rows_initial)\n",
    "    t = time.time()-t0\n",
    "    print(f\"File with {n} versions: {t} seconds.\")"
   ]
  },
  {
   "cell_type": "markdown",
   "metadata": {},
   "source": [
    "In this case, there is no change in the time required to add a new version to an existing file."
   ]
  },
  {
   "cell_type": "markdown",
   "metadata": {},
   "source": [
    "## Reading specific version"
   ]
  },
  {
   "cell_type": "markdown",
   "metadata": {},
   "source": [
    "The times required to read a specific version from each file are similarly unnaffected by the number of existing versions in the file."
   ]
  },
  {
   "cell_type": "code",
   "execution_count": null,
   "metadata": {
    "scrolled": true
   },
   "outputs": [],
   "source": [
    "for n in num_transactions:\n",
    "    t = read_version(n, testname)\n",
    "    print(f\"File with {n} versions: {t} seconds.\")    "
   ]
  },
  {
   "cell_type": "markdown",
   "metadata": {},
   "source": [
    "# Test 4: Mostly appends (Dense)"
   ]
  },
  {
   "cell_type": "markdown",
   "metadata": {},
   "source": [
    "Finally, we test"
   ]
  },
  {
   "cell_type": "code",
   "execution_count": null,
   "metadata": {},
   "outputs": [],
   "source": [
    "testname = \"test_mostly_appends_dense\""
   ]
  },
  {
   "cell_type": "markdown",
   "metadata": {},
   "source": [
    "## Creating files"
   ]
  },
  {
   "cell_type": "markdown",
   "metadata": {},
   "source": [
    "We'll create files with the following numbers of versions:"
   ]
  },
  {
   "cell_type": "code",
   "execution_count": null,
   "metadata": {},
   "outputs": [],
   "source": [
    "num_transactions = [50, 100, 200, 500]"
   ]
  },
  {
   "cell_type": "code",
   "execution_count": null,
   "metadata": {},
   "outputs": [],
   "source": [
    "t_write = []\n",
    "for n in num_transactions:\n",
    "    t0 = time.time()\n",
    "    TestVersionedDatasetPerformance().test_mostly_appends_dense(n)\n",
    "    t = time.time()-t0\n",
    "    t_write.append(t)"
   ]
  },
  {
   "cell_type": "code",
   "execution_count": null,
   "metadata": {},
   "outputs": [],
   "source": [
    "%matplotlib inline\n",
    "plt.plot(num_transactions, t_write, 'o-')\n",
    "plt.xticks(num_transactions)\n",
    "plt.title(\"Creation time (in sec) for test_mostly_appends_dense\")\n",
    "plt.xlabel(\"Number of transactions\")\n",
    "plt.show()"
   ]
  },
  {
   "cell_type": "markdown",
   "metadata": {},
   "source": [
    "This behaviour is very similar to the one observed for `test_mostly_appends_sparse`. It is quadratic with respect to the number of versions for each file."
   ]
  },
  {
   "cell_type": "markdown",
   "metadata": {},
   "source": [
    "## Reading in sequential mode"
   ]
  },
  {
   "cell_type": "code",
   "execution_count": null,
   "metadata": {},
   "outputs": [],
   "source": [
    "t_read = []\n",
    "for n in num_transactions:\n",
    "    t = read_times(n, testname)\n",
    "    t_read.append(t)\n",
    "    print(f\"File with {n} versions: {t} seconds.\")"
   ]
  },
  {
   "cell_type": "code",
   "execution_count": null,
   "metadata": {},
   "outputs": [],
   "source": [
    "plt.plot(num_transactions, t_read, 'o-')\n",
    "plt.xticks(num_transactions)\n",
    "plt.title(\"Sequential read time (in sec) for test_mostly_appends_sparse\")\n",
    "plt.xlabel(\"Number of transactions\")\n",
    "plt.show()"
   ]
  },
  {
   "cell_type": "markdown",
   "metadata": {},
   "source": [
    "As a summary, we can compare read and write times for the entire file."
   ]
  },
  {
   "cell_type": "code",
   "execution_count": null,
   "metadata": {},
   "outputs": [],
   "source": [
    "plt.plot(num_transactions, t_write, 'o-')\n",
    "plt.plot(num_transactions, t_read, '*-')\n",
    "plt.xticks(num_transactions)\n",
    "plt.title(\"Sequential read/write times (in sec) for test_mostly_appends_sparse\")\n",
    "plt.xlabel(\"Number of transactions\")\n",
    "plt.legend(['Write', 'Read'])\n",
    "plt.show()"
   ]
  },
  {
   "cell_type": "markdown",
   "metadata": {},
   "source": [
    "## Adding new version to existing set"
   ]
  },
  {
   "cell_type": "code",
   "execution_count": null,
   "metadata": {},
   "outputs": [],
   "source": [
    "num_rows_initial = 30"
   ]
  },
  {
   "cell_type": "code",
   "execution_count": null,
   "metadata": {},
   "outputs": [],
   "source": [
    "for n in num_transactions:\n",
    "    t0 = time.time()\n",
    "    add_version(n, testname, num_rows_initial)\n",
    "    t = time.time()-t0\n",
    "    print(f\"File with {n} versions: {t} seconds.\")"
   ]
  },
  {
   "cell_type": "markdown",
   "metadata": {},
   "source": [
    "## Reading specific version"
   ]
  },
  {
   "cell_type": "code",
   "execution_count": null,
   "metadata": {},
   "outputs": [],
   "source": [
    "for n in num_transactions:\n",
    "    t = read_version(n, testname)\n",
    "    print(f\"File with {n} versions: {t} seconds.\")"
   ]
  },
  {
   "cell_type": "markdown",
   "metadata": {},
   "source": [
    "<a id='standard'></a>\n",
    "## Standard parameters\n",
    "\n",
    "- `test_large_fraction_changes_sparse`: \n",
    "    - `num_rows_initial = 5000`\n",
    "    - `num_rows_per_append = 10`\n",
    "    - `num_inserts = 10`\n",
    "    - `num_deletes = 10`\n",
    "    - `num_changes = 1000`\n",
    "- `test_small_fraction_changes_sparse`\n",
    "    - `num_rows_initial = 5000`\n",
    "    - `num_rows_per_append = 10`\n",
    "    - `num_inserts = 10`\n",
    "    - `num_deletes = 10`\n",
    "    - `num_changes = 10`\n",
    "- `test_mostly_appends_sparse`:\n",
    "    - `num_rows_initial = 1000`\n",
    "    - `num_rows_per_append = 1000`\n",
    "    - `num_inserts = 10`\n",
    "    - `num_deletes = 10`\n",
    "    - `num_changes = 10`  \n",
    "- `test_mostly_appends_dense`\n",
    "    - `num_rows_initial_0 = 30`\n",
    "    - `num_rows_initial_1 = 30`\n",
    "    - `num_rows_per_append_0 = 1`\n",
    "    - `num_inserts_0 = 1`\n",
    "    - `num_inserts_1 = 10`\n",
    "    - `num_deletes_0 = 1`\n",
    "    - `num_deletes_1 = 1`\n",
    "    - `num_changes = 10`"
   ]
  },
  {
   "cell_type": "code",
   "execution_count": null,
   "metadata": {},
   "outputs": [],
   "source": []
  }
 ],
 "metadata": {
  "kernelspec": {
   "display_name": "Python 3",
   "language": "python",
   "name": "python3"
  },
  "language_info": {
   "codemirror_mode": {
    "name": "ipython",
    "version": 3
   },
   "file_extension": ".py",
   "mimetype": "text/x-python",
   "name": "python",
   "nbconvert_exporter": "python",
   "pygments_lexer": "ipython3",
   "version": "3.8.1"
  }
 },
 "nbformat": 4,
 "nbformat_minor": 4
}
