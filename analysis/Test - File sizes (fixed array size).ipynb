{
 "cells": [
  {
   "cell_type": "markdown",
   "metadata": {},
   "source": [
    "# Fixed array size, variable number of versions"
   ]
  },
  {
   "cell_type": "markdown",
   "metadata": {},
   "source": [
    "For this test, we have generated `.h5` data files using the `generate_data.py` script from the repository, using the following options:\n",
    "\n",
    "- `test_large_fraction_changes_sparse`: \n",
    "    - `num_rows_initial = 5000`\n",
    "    - `num_rows_per_append = 10`\n",
    "    - `pct_inserts = 1`\n",
    "    - `num_inserts = 10`\n",
    "    - `pct_deletes = 1`\n",
    "    - `num_deletes = 10`\n",
    "    - `pct_changes = 90`\n",
    "    - `num_changes = 1000`\n",
    "- `test_small_fraction_changes_sparse`\n",
    "    - `num_rows_initial = 5000`\n",
    "    - `num_rows_per_append = 10`\n",
    "    - `pct_inserts = 1`\n",
    "    - `num_inserts = 10`\n",
    "    - `pct_deletes = 1`\n",
    "    - `num_deletes = 10`\n",
    "    - `pct_changes = 90`\n",
    "    - `num_changes = 10`\n",
    "- `test_mostly_appends_sparse`:\n",
    "    - `num_rows_initial = 1000`\n",
    "    - `num_rows_per_append = 1000`\n",
    "    - `pct_inserts = 5`\n",
    "    - `num_inserts = 10`\n",
    "    - `pct_deletes = 1`\n",
    "    - `num_deletes = 10`\n",
    "    - `pct_changes = 5`\n",
    "    - `num_changes = 10`  \n",
    "- `test_mostly_appends_dense`\n",
    "    - `num_rows_initial_0 = 30`\n",
    "    - `num_rows_initial_1 = 30`\n",
    "    - `num_rows_per_append_0 = 1`\n",
    "    - `pct_inserts = 5`\n",
    "    - `num_inserts_0 = 1`\n",
    "    - `num_inserts_1 = 10`\n",
    "    - `pct_deletes = 1`\n",
    "    - `num_deletes_0 = 1`\n",
    "    - `num_deletes_1 = 1`\n",
    "    - `pct_changes = 5`\n",
    "    - `num_changes = 10`"
   ]
  },
  {
   "cell_type": "markdown",
   "metadata": {},
   "source": [
    "## Setup"
   ]
  },
  {
   "cell_type": "markdown",
   "metadata": {},
   "source": [
    "The path to the generated test files is"
   ]
  },
  {
   "cell_type": "code",
   "execution_count": 1,
   "metadata": {},
   "outputs": [],
   "source": [
    "path = \"/home/melissa/projects/versioned-hdf5/analysis\" # change this as necessary"
   ]
  },
  {
   "cell_type": "code",
   "execution_count": 2,
   "metadata": {},
   "outputs": [],
   "source": [
    "%matplotlib inline\n",
    "import os\n",
    "import sys\n",
    "sys.path.append('..')\n",
    "import pickle\n",
    "import numpy as np\n",
    "import matplotlib.pyplot as plt\n",
    "import h5py\n",
    "from versioned_hdf5 import VersionedHDF5File"
   ]
  },
  {
   "cell_type": "code",
   "execution_count": 8,
   "metadata": {},
   "outputs": [],
   "source": [
    "# auxiliary code to format file sizes \n",
    "def format_size(size):\n",
    "    suffixes = ['B', 'KB', 'MB', 'GB']\n",
    "    i = 0\n",
    "    while size >= 1024 and i < len(suffixes)-1:\n",
    "        size = size/1024\n",
    "        i += 1\n",
    "    return f\"{size:.2f} {suffixes[i]}\""
   ]
  },
  {
   "cell_type": "markdown",
   "metadata": {},
   "source": [
    "# Test 1: Large fraction changes (sparse)"
   ]
  },
  {
   "cell_type": "code",
   "execution_count": null,
   "metadata": {},
   "outputs": [],
   "source": [
    "testname = \"test_large_fraction_changes_sparse\""
   ]
  },
  {
   "cell_type": "markdown",
   "metadata": {},
   "source": [
    "We have tested the following numbers of versions (or transactions):"
   ]
  },
  {
   "cell_type": "code",
   "execution_count": 12,
   "metadata": {},
   "outputs": [],
   "source": [
    "num_transactions_1 = [50, 100, 500, 1000, 2000, 5000, 10000, 20000]"
   ]
  },
  {
   "cell_type": "code",
   "execution_count": null,
   "metadata": {},
   "outputs": [],
   "source": [
    "tests = []\n",
    "for t in num_transactions_1:\n",
    "    filename = os.path.join(path, testname+\"_\"+str(t)+\".h5\")\n",
    "    h5pyfile = h5py.File(os.path.join(path, testname+\"_\"+str(t)+\".h5\"), 'r')\n",
    "    data = VersionedHDF5File(h5pyfile)\n",
    "    tests.append(dict(num_transactions=t, filename=filename, h5pyfile=h5pyfile, data=data))"
   ]
  },
  {
   "cell_type": "markdown",
   "metadata": {},
   "source": [
    "## Number of versions v. File size"
   ]
  },
  {
   "cell_type": "markdown",
   "metadata": {},
   "source": [
    "We'll start by analyzing how the `.h5` file sizes grow as the number of versions grows. "
   ]
  },
  {
   "cell_type": "code",
   "execution_count": null,
   "metadata": {},
   "outputs": [],
   "source": [
    "for test in tests:\n",
    "    test['size'] = os.path.getsize(test['filename'])\n",
    "    test['size_label'] = format_size(test['size'])\n",
    "    print(f\"File with {test['num_transactions']} versions has size {test['size_label']}\")"
   ]
  },
  {
   "cell_type": "markdown",
   "metadata": {},
   "source": [
    "Note that the array size also grows as the number of versions grows:"
   ]
  },
  {
   "cell_type": "code",
   "execution_count": null,
   "metadata": {},
   "outputs": [],
   "source": [
    "print(\"Array sizes:\")\n",
    "for test in tests:\n",
    "    lengths = []\n",
    "    for vname in test['data']._versions:\n",
    "        if vname != '__first_version__':\n",
    "            version = test['data'][vname]\n",
    "            group_key = list(version.keys())[0]\n",
    "            lengths.append(len(version[group_key]['val']))\n",
    "    print(f\"File with {test['num_transactions']}: min = {min(lengths)}, max = {max(lengths)}\")"
   ]
  },
  {
   "cell_type": "markdown",
   "metadata": {},
   "source": [
    "```\n",
    "Array sizes:\n",
    "File with 50: min = 5000, max = 5567\n",
    "File with 100: min = 5000, max = 5952\n",
    "File with 500: min = 5000, max = 10263\n",
    "File with 1000: min = 5000, max = 15601\n",
    "File with 2000: min = 5000, max = 26057\n",
    "File with 5000: min = 5000, max = 57937\n",
    "File with 10000: min = 5000, max = 110305\n",
    "File with 20000: min = 5000, max = 215739\n",
    "```"
   ]
  },
  {
   "cell_type": "code",
   "execution_count": null,
   "metadata": {},
   "outputs": [],
   "source": [
    "test_large_fraction_changes_sparse = []\n",
    "for test in tests:\n",
    "    test_large_fraction_changes_sparse.append(dict((k, test[k]) for k in ['num_transactions', 'filename', 'size', 'size_label']))"
   ]
  },
  {
   "cell_type": "markdown",
   "metadata": {},
   "source": [
    "Just for the sake of reproducibility, we'll pickle the filesizes for these tests so we can recover them later:"
   ]
  },
  {
   "cell_type": "code",
   "execution_count": null,
   "metadata": {},
   "outputs": [],
   "source": [
    "with open(\"test_large_fraction_changes_sparse_versions.pickle\",\"wb\") as pickle_out:\n",
    "    pickle.dump(test_large_fraction_changes_sparse, pickle_out)"
   ]
  },
  {
   "cell_type": "code",
   "execution_count": 9,
   "metadata": {},
   "outputs": [],
   "source": [
    "with open(\"test_large_fraction_changes_sparse_versions.pickle\", \"rb\") as pickle_in:\n",
    "    test_large_fraction_changes_sparse = pickle.load(pickle_in)"
   ]
  },
  {
   "cell_type": "markdown",
   "metadata": {},
   "source": [
    "Let's show the size information in a graph:"
   ]
  },
  {
   "cell_type": "code",
   "execution_count": 10,
   "metadata": {},
   "outputs": [],
   "source": [
    "filesizes_1 = np.array([test['size'] for test in test_large_fraction_changes_sparse])\n",
    "sizelabels_1 = np.array([test['size_label'] for test in test_large_fraction_changes_sparse])"
   ]
  },
  {
   "cell_type": "code",
   "execution_count": 13,
   "metadata": {},
   "outputs": [
    {
     "data": {
      "image/png": "[encoded data removed]",
      "text/plain": [
       "<Figure size 432x288 with 1 Axes>"
      ]
     },
     "metadata": {
      "needs_background": "light"
     },
     "output_type": "display_data"
    }
   ],
   "source": [
    "fig_large_fraction_changes = plt.figure()\n",
    "plt.plot(num_transactions_1, filesizes_1, 'b')\n",
    "plt.plot(num_transactions_1, filesizes_1, 'b*', ms=12)\n",
    "plt.xticks([50, 5000, 10000, 20000])\n",
    "plt.xlabel(\"Transactions\")\n",
    "plt.title(\"test_large_fraction_changes_sparse\")\n",
    "plt.yticks(filesizes_1[[0, 5, 6, 7]], sizelabels_1[[0, 5, 6, 7]])\n",
    "plt.show()"
   ]
  },
  {
   "cell_type": "markdown",
   "metadata": {},
   "source": [
    "## Test 1: Large Fraction Changes (Sparse)\n",
    "\n",
    "![Test 1: Large Fraction Changes (Sparse)](test_large_fraction_changes_sparse_versions.png)"
   ]
  },
  {
   "cell_type": "markdown",
   "metadata": {},
   "source": [
    "This shows that the file size grows **quadratically** with respect to the number of versions added for this array size."
   ]
  },
  {
   "cell_type": "markdown",
   "metadata": {},
   "source": [
    "### Finishing up"
   ]
  },
  {
   "cell_type": "code",
   "execution_count": null,
   "metadata": {},
   "outputs": [],
   "source": [
    "for test in tests:\n",
    "    test['h5pyfile'].close()"
   ]
  },
  {
   "cell_type": "markdown",
   "metadata": {},
   "source": [
    "# Test 2: Mostly appends (sparse)"
   ]
  },
  {
   "cell_type": "code",
   "execution_count": null,
   "metadata": {},
   "outputs": [],
   "source": [
    "testname = \"test_mostly_appends_sparse\""
   ]
  },
  {
   "cell_type": "markdown",
   "metadata": {},
   "source": [
    "For this case, we are using the following number of transactions:"
   ]
  },
  {
   "cell_type": "code",
   "execution_count": 14,
   "metadata": {},
   "outputs": [],
   "source": [
    "num_transactions_2 = [50, 100, 500, 1000, 2000, 5000, 10000]"
   ]
  },
  {
   "cell_type": "code",
   "execution_count": null,
   "metadata": {},
   "outputs": [],
   "source": [
    "# Setting up dictionary with test info\n",
    "tests = []\n",
    "for t in num_transactions_2:\n",
    "    filename = os.path.join(path, testname+\"_\"+str(t)+\".h5\")\n",
    "    h5pyfile = h5py.File(os.path.join(path, testname+\"_\"+str(t)+\".h5\"), 'r')\n",
    "    data = VersionedHDF5File(h5pyfile)\n",
    "    tests.append(dict(num_transactions=t, filename=filename, h5pyfile=h5pyfile, data=data))\n",
    "\n",
    "# Computing file sizes\n",
    "for test in tests:\n",
    "    test['size'] = os.path.getsize(test['filename'])\n",
    "    test['size_label'] = format_size(test['size'])\n",
    "    print(f\"File with {test['num_transactions']} versions has size {test['size_label']}\")"
   ]
  },
  {
   "cell_type": "code",
   "execution_count": null,
   "metadata": {},
   "outputs": [],
   "source": [
    "print(\"Array sizes:\")\n",
    "for test in tests:\n",
    "    lengths = []\n",
    "    for vname in test['data']._versions:\n",
    "        if vname != '__first_version__':\n",
    "            version = test['data'][vname]\n",
    "            group_key = list(version.keys())[0]\n",
    "            lengths.append(len(version[group_key]['val']))\n",
    "    print(f\"File with {test['num_transactions']}: min = {min(lengths)}, max = {max(lengths)}\")"
   ]
  },
  {
   "cell_type": "markdown",
   "metadata": {},
   "source": [
    "```\n",
    "Array sizes:\n",
    "File with 50: min = 1000, max = 50933\n",
    "File with 100: min = 1000, max = 100857\n",
    "File with 500: min = 1000, max = 500951\n",
    "File with 1000: min = 1000, max = 1000660\n",
    "File with 2000: min = 1000, max = 2000840\n",
    "File with 5000: min = 1000, max = 5001604\n",
    "File with 10000: min = 1000, max = 10000126\n",
    "```"
   ]
  },
  {
   "cell_type": "code",
   "execution_count": null,
   "metadata": {},
   "outputs": [],
   "source": [
    "test_mostly_appends_sparse = []\n",
    "for test in tests:\n",
    "    test_mostly_appends_sparse.append(dict((k, test[k]) for k in ['num_transactions', 'filename', 'size', 'size_label']))"
   ]
  },
  {
   "cell_type": "code",
   "execution_count": null,
   "metadata": {},
   "outputs": [],
   "source": [
    "with open(\"test_mostly_appends_sparse_versions.pickle\",\"wb\") as pickle_out:\n",
    "    pickle.dump(test_mostly_appends_sparse, pickle_out)"
   ]
  },
  {
   "cell_type": "code",
   "execution_count": 15,
   "metadata": {},
   "outputs": [],
   "source": [
    "with open(\"test_mostly_appends_sparse_versions.pickle\", \"rb\") as pickle_in:\n",
    "    test_mostly_appends_sparse = pickle.load(pickle_in)"
   ]
  },
  {
   "cell_type": "code",
   "execution_count": 16,
   "metadata": {},
   "outputs": [],
   "source": [
    "filesizes_2 = np.array([test['size'] for test in test_mostly_appends_sparse])\n",
    "sizelabels_2 = np.array([test['size_label'] for test in test_mostly_appends_sparse])"
   ]
  },
  {
   "cell_type": "code",
   "execution_count": 17,
   "metadata": {},
   "outputs": [
    {
     "data": {
      "image/png": "[encoded data removed]",
      "text/plain": [
       "<Figure size 432x288 with 1 Axes>"
      ]
     },
     "metadata": {
      "needs_background": "light"
     },
     "output_type": "display_data"
    }
   ],
   "source": [
    "fig_mostly_appends_sparse = plt.figure()\n",
    "plt.plot(num_transactions_2, filesizes_2, 'b')\n",
    "plt.plot(num_transactions_2, filesizes_2, 'b*', ms=12)\n",
    "plt.xticks([50, 2000, 5000, 10000])\n",
    "plt.xlabel(\"Transactions\")\n",
    "plt.title(\"test_mostly_appends_sparse\")\n",
    "plt.yticks(filesizes_2[[0, 4, 5, 6]], sizelabels_2[[0, 4, 5, 6]])\n",
    "plt.show()"
   ]
  },
  {
   "cell_type": "markdown",
   "metadata": {},
   "source": [
    "## Test 2: Mostly Appends (Sparse)\n",
    "\n",
    "![Test 2: Mostly Appends (Sparse)](test_mostly_appends_sparse_versions.png)"
   ]
  },
  {
   "cell_type": "code",
   "execution_count": null,
   "metadata": {},
   "outputs": [],
   "source": [
    "for test in tests:\n",
    "    test['h5pyfile'].close()"
   ]
  },
  {
   "cell_type": "markdown",
   "metadata": {},
   "source": [
    "# Test 3: Small fraction changes sparse"
   ]
  },
  {
   "cell_type": "code",
   "execution_count": null,
   "metadata": {},
   "outputs": [],
   "source": [
    "testname = \"test_small_fraction_changes_sparse\""
   ]
  },
  {
   "cell_type": "markdown",
   "metadata": {},
   "source": [
    "We have tested the following numbers of versions (or transactions):"
   ]
  },
  {
   "cell_type": "code",
   "execution_count": 18,
   "metadata": {},
   "outputs": [],
   "source": [
    "num_transactions_3 = [50, 100, 500, 1000, 2000, 5000, 10000, 20000]"
   ]
  },
  {
   "cell_type": "code",
   "execution_count": null,
   "metadata": {},
   "outputs": [],
   "source": [
    "# Setting up dictionary with test info:\n",
    "tests = []\n",
    "for t in num_transactions_3:\n",
    "    filename = os.path.join(path, testname+\"_\"+str(t)+\".h5\")\n",
    "    h5pyfile = h5py.File(os.path.join(path, testname+\"_\"+str(t)+\".h5\"), 'r')\n",
    "    data = VersionedHDF5File(h5pyfile)\n",
    "    tests.append(dict(num_transactions=t, filename=filename, h5pyfile=h5pyfile, data=data))\n",
    "    \n",
    "# Computing file sizes\n",
    "for test in tests:\n",
    "    test['size'] = os.path.getsize(test['filename'])\n",
    "    test['size_label'] = format_size(test['size'])\n",
    "    print(f\"File with {test['num_transactions']} versions has size {test['size_label']}\")"
   ]
  },
  {
   "cell_type": "code",
   "execution_count": null,
   "metadata": {},
   "outputs": [],
   "source": [
    "print(\"Array sizes:\")\n",
    "for test in tests:\n",
    "    lengths = []\n",
    "    for vname in test['data']._versions:\n",
    "        if vname != '__first_version__':\n",
    "            version = test['data'][vname]\n",
    "            group_key = list(version.keys())[0]\n",
    "            lengths.append(len(version[group_key]['val']))\n",
    "    print(f\"File with {test['num_transactions']}: min = {min(lengths)}, max = {max(lengths)}\")"
   ]
  },
  {
   "cell_type": "markdown",
   "metadata": {},
   "source": [
    "```\n",
    "Array sizes:\n",
    "File with 50: min = 5000, max = 5451\n",
    "File with 100: min = 5000, max = 5996\n",
    "File with 500: min = 5000, max = 10081\n",
    "File with 1000: min = 5000, max = 15504\n",
    "File with 2000: min = 5000, max = 25330\n",
    "File with 5000: min = 5000, max = 57366\n",
    "File with 10000: min = 5000, max = 109691\n",
    "File with 20000: min = 5000, max = 212026\n",
    "```"
   ]
  },
  {
   "cell_type": "code",
   "execution_count": null,
   "metadata": {},
   "outputs": [],
   "source": [
    "test_small_fraction_changes_sparse = []\n",
    "for test in tests:\n",
    "    test_small_fraction_changes_sparse.append(dict((k, test[k]) for k in ['num_transactions', 'filename', 'size', 'size_label']))"
   ]
  },
  {
   "cell_type": "code",
   "execution_count": null,
   "metadata": {},
   "outputs": [],
   "source": [
    "with open(\"test_small_fraction_changes_sparse_versions.pickle\",\"wb\") as pickle_out:\n",
    "    pickle.dump(test_small_fraction_changes_sparse, pickle_out)"
   ]
  },
  {
   "cell_type": "code",
   "execution_count": 19,
   "metadata": {},
   "outputs": [],
   "source": [
    "with open(\"test_small_fraction_changes_sparse_versions.pickle\", \"rb\") as pickle_in:\n",
    "    test_small_fraction_changes_sparse = pickle.load(pickle_in)"
   ]
  },
  {
   "cell_type": "code",
   "execution_count": 20,
   "metadata": {},
   "outputs": [],
   "source": [
    "filesizes_3 = np.array([test['size'] for test in test_small_fraction_changes_sparse])\n",
    "sizelabels_3 = np.array([test['size_label'] for test in test_small_fraction_changes_sparse])"
   ]
  },
  {
   "cell_type": "code",
   "execution_count": 21,
   "metadata": {},
   "outputs": [
    {
     "data": {
      "image/png": "[encoded data removed]",
      "text/plain": [
       "<Figure size 432x288 with 1 Axes>"
      ]
     },
     "metadata": {
      "needs_background": "light"
     },
     "output_type": "display_data"
    }
   ],
   "source": [
    "fig_small_fraction_changes = plt.figure()\n",
    "plt.plot(num_transactions_3, filesizes_3, 'b')\n",
    "plt.plot(num_transactions_3, filesizes_3, 'b*', ms=12)\n",
    "plt.xticks([50, 5000, 10000, 20000])\n",
    "plt.xlabel(\"Transactions\")\n",
    "plt.title(\"test_small_fraction_changes\")\n",
    "plt.yticks(filesizes_3[[0, 5, 6, 7]], sizelabels_3[[0, 5, 6, 7]])\n",
    "plt.show()"
   ]
  },
  {
   "cell_type": "markdown",
   "metadata": {},
   "source": [
    "## Test 3: Small Fraction Changes (Sparse)\n",
    "\n",
    "![Test 3: Small Fraction Changes (Sparse)](test_small_fraction_changes_sparse_versions.png)"
   ]
  },
  {
   "cell_type": "code",
   "execution_count": null,
   "metadata": {},
   "outputs": [],
   "source": [
    "for test in tests:\n",
    "    test['h5pyfile'].close()"
   ]
  },
  {
   "cell_type": "markdown",
   "metadata": {},
   "source": [
    "# Test 4: Mostly appends (dense)"
   ]
  },
  {
   "cell_type": "code",
   "execution_count": null,
   "metadata": {},
   "outputs": [],
   "source": [
    "testname = \"test_mostly_appends_dense\""
   ]
  },
  {
   "cell_type": "markdown",
   "metadata": {},
   "source": [
    "We have tested the following number of versions (or transactions):"
   ]
  },
  {
   "cell_type": "code",
   "execution_count": 22,
   "metadata": {},
   "outputs": [],
   "source": [
    "num_transactions_4 = [50, 100, 500, 1000, 2000, 5000, 10000]"
   ]
  },
  {
   "cell_type": "code",
   "execution_count": null,
   "metadata": {},
   "outputs": [],
   "source": [
    "tests = []\n",
    "for t in num_transactions_4:\n",
    "    filename = os.path.join(path, testname+\"_\"+str(t)+\".h5\")\n",
    "    h5pyfile = h5py.File(os.path.join(path, testname+\"_\"+str(t)+\".h5\"), 'r')\n",
    "    data = VersionedHDF5File(h5pyfile)\n",
    "    tests.append(dict(num_transactions=t, filename=filename, h5pyfile=h5pyfile, data=data))\n",
    "    \n",
    "for test in tests:\n",
    "    test['size'] = os.path.getsize(test['filename'])\n",
    "    test['size_label'] = format_size(test['size'])\n",
    "    print(f\"File with {test['num_transactions']} versions has size {test['size_label']}\")"
   ]
  },
  {
   "cell_type": "code",
   "execution_count": null,
   "metadata": {},
   "outputs": [],
   "source": [
    "print(\"Array sizes:\")\n",
    "for test in tests:\n",
    "    lengths = []\n",
    "    for vname in test['data']._versions:\n",
    "        if vname != '__first_version__':\n",
    "            version = test['data'][vname]\n",
    "            group_key = list(version.keys())[0]\n",
    "            lengths.append(len(version[group_key]['val']))\n",
    "    print(f\"File with {test['num_transactions']}: min = {min(lengths)}, max = {max(lengths)}\")"
   ]
  },
  {
   "cell_type": "markdown",
   "metadata": {},
   "source": [
    "```\n",
    "Array sizes:\n",
    "File with 50: min = 900, max = 2760\n",
    "File with 100: min = 900, max = 6720\n",
    "File with 500: min = 900, max = 91945\n",
    "File with 1000: min = 900, max = 425220\n",
    "File with 2000: min = 900, max = 1615510\n",
    "File with 5000: min = 900, max = 9819999\n",
    "File with 10000: min = 900, max = 39638808\n",
    "```"
   ]
  },
  {
   "cell_type": "code",
   "execution_count": null,
   "metadata": {},
   "outputs": [],
   "source": [
    "test_mostly_appends_dense = []\n",
    "for test in tests:\n",
    "    test_mostly_appends_dense.append(dict((k, test[k]) for k in ['num_transactions', 'filename', 'size', 'size_label']))"
   ]
  },
  {
   "cell_type": "code",
   "execution_count": null,
   "metadata": {},
   "outputs": [],
   "source": [
    "with open(\"test_mostly_appends_dense_versions.pickle\",\"wb\") as pickle_out:\n",
    "    pickle.dump(test_mostly_appends_dense, pickle_out)"
   ]
  },
  {
   "cell_type": "code",
   "execution_count": 23,
   "metadata": {},
   "outputs": [],
   "source": [
    "with open(\"test_mostly_appends_dense_versions.pickle\", \"rb\") as pickle_in:\n",
    "    test_mostly_appends_dense = pickle.load(pickle_in)"
   ]
  },
  {
   "cell_type": "code",
   "execution_count": 24,
   "metadata": {},
   "outputs": [],
   "source": [
    "filesizes_4 = np.array([test['size'] for test in test_mostly_appends_dense])\n",
    "sizelabels_4 = np.array([test['size_label'] for test in test_mostly_appends_dense])"
   ]
  },
  {
   "cell_type": "code",
   "execution_count": 25,
   "metadata": {},
   "outputs": [
    {
     "data": {
      "image/png": "[encoded data removed]",
      "text/plain": [
       "<Figure size 432x288 with 1 Axes>"
      ]
     },
     "metadata": {
      "needs_background": "light"
     },
     "output_type": "display_data"
    }
   ],
   "source": [
    "fig_mostly_appends_dense = plt.figure()\n",
    "plt.plot(num_transactions_4, filesizes_4, 'b')\n",
    "plt.plot(num_transactions_4, filesizes_4, 'b*', ms=12)\n",
    "plt.xticks([50, 2000, 5000, 10000])\n",
    "plt.xlabel(\"Transactions\")\n",
    "plt.title(\"test_mostly_appends_dense\")\n",
    "plt.yticks(filesizes_4[[0, 5, 6]], sizelabels_4[[0, 5, 6]])\n",
    "plt.show()"
   ]
  },
  {
   "cell_type": "markdown",
   "metadata": {},
   "source": [
    "## Test 4: Mostly Appends (Dense)\n",
    "\n",
    "![Test 4: Mostly Appends (Dense)](test_mostly_appends_dense_versions.png)"
   ]
  },
  {
   "cell_type": "markdown",
   "metadata": {},
   "source": [
    "### Finishing up"
   ]
  },
  {
   "cell_type": "code",
   "execution_count": null,
   "metadata": {},
   "outputs": [],
   "source": [
    "for test in tests:\n",
    "    test['h5pyfile'].close()"
   ]
  },
  {
   "cell_type": "markdown",
   "metadata": {},
   "source": [
    "# Full comparison"
   ]
  },
  {
   "cell_type": "code",
   "execution_count": 30,
   "metadata": {},
   "outputs": [
    {
     "data": {
      "text/plain": [
       "<matplotlib.legend.Legend at 0x7f67e24ba220>"
      ]
     },
     "execution_count": 30,
     "metadata": {},
     "output_type": "execute_result"
    },
    {
     "data": {
      "image/png": "[encoded data removed]",
      "text/plain": [
       "<Figure size 1008x864 with 1 Axes>"
      ]
     },
     "metadata": {
      "needs_background": "light"
     },
     "output_type": "display_data"
    }
   ],
   "source": [
    "fig_all = plt.figure(figsize=(14, 12))\n",
    "plt.plot(num_transactions_1[:-1], filesizes_1[:-1], 'r', label = \"large_fraction\", lw=5)\n",
    "plt.plot(num_transactions_2, filesizes_2, 'b', label = \"mostly_appends_sparse\", lw=5)\n",
    "plt.plot(num_transactions_3[:-1], filesizes_3[:-1], 'm', label = \"small_fraction\", lw=5)\n",
    "plt.plot(num_transactions_4, filesizes_4, 'g', label = \"mostly_appends_dense\", lw=5)\n",
    "plt.legend()"
   ]
  },
  {
   "cell_type": "code",
   "execution_count": null,
   "metadata": {},
   "outputs": [],
   "source": []
  }
 ],
 "metadata": {
  "kernelspec": {
   "display_name": "Python 3",
   "language": "python",
   "name": "python3"
  },
  "language_info": {
   "codemirror_mode": {
    "name": "ipython",
    "version": 3
   },
   "file_extension": ".py",
   "mimetype": "text/x-python",
   "name": "python",
   "nbconvert_exporter": "python",
   "pygments_lexer": "ipython3",
   "version": "3.8.1"
  }
 },
 "nbformat": 4,
 "nbformat_minor": 4
}
